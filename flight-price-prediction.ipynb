{
 "cells": [
  {
   "cell_type": "markdown",
   "id": "dddfa9f2",
   "metadata": {
    "papermill": {
     "duration": 0.035225,
     "end_time": "2024-09-07T13:23:33.737977",
     "exception": false,
     "start_time": "2024-09-07T13:23:33.702752",
     "status": "completed"
    },
    "tags": []
   },
   "source": [
    "# About Dataset\n",
    "\n",
    "Flight Price Prediction Dataset\" is a comprehensive collection of data aimed at predicting the prices of airline tickets. This dataset provides a rich source of information for machine learning and data analysis enthusiasts interested in the aviation and travel industry. It includes a wide range of features and variables, such as flight routes, departure and arrival cities, airline carriers, departure and arrival times, ticket class, and more. With this dataset, researchers and data scientists can explore and develop predictive models to estimate airfare prices, helping travelers make informed decisions and airlines optimize their pricing strategies. It's a valuable resource for anyone looking to delve into the world of airfare prediction and travel analyticshttps"
   ]
  },
  {
   "cell_type": "markdown",
   "id": "ef9b9d31",
   "metadata": {
    "papermill": {
     "duration": 0.033989,
     "end_time": "2024-09-07T13:23:33.807838",
     "exception": false,
     "start_time": "2024-09-07T13:23:33.773849",
     "status": "completed"
    },
    "tags": []
   },
   "source": [
    "![](https://www.airlinesairportsterminal.com/wp-content/uploads/2024/05/Flight-Price-Predictor.jpg)"
   ]
  },
  {
   "cell_type": "markdown",
   "id": "46b097a7",
   "metadata": {
    "papermill": {
     "duration": 0.03332,
     "end_time": "2024-09-07T13:23:33.874977",
     "exception": false,
     "start_time": "2024-09-07T13:23:33.841657",
     "status": "completed"
    },
    "tags": []
   },
   "source": [
    "# Import Libraries"
   ]
  },
  {
   "cell_type": "code",
   "execution_count": 1,
   "id": "1ccea5c7",
   "metadata": {
    "execution": {
     "iopub.execute_input": "2024-09-07T13:23:33.944345Z",
     "iopub.status.busy": "2024-09-07T13:23:33.943733Z",
     "iopub.status.idle": "2024-09-07T13:23:36.954889Z",
     "shell.execute_reply": "2024-09-07T13:23:36.953575Z"
    },
    "papermill": {
     "duration": 3.049312,
     "end_time": "2024-09-07T13:23:36.957883",
     "exception": false,
     "start_time": "2024-09-07T13:23:33.908571",
     "status": "completed"
    },
    "tags": []
   },
   "outputs": [],
   "source": [
    "import numpy as np\n",
    "import pandas as pd\n",
    "import matplotlib.pyplot as plt\n",
    "%matplotlib inline\n",
    "import seaborn as sns\n",
    "from sklearn.preprocessing import LabelEncoder\n",
    "from sklearn.model_selection import train_test_split\n",
    "from sklearn.linear_model import LinearRegression,SGDRegressor,Lasso,Ridge\n",
    "from sklearn.ensemble import RandomForestRegressor,GradientBoostingRegressor\n",
    "from sklearn.svm import SVR\n",
    "from sklearn.tree import DecisionTreeRegressor\n",
    "from sklearn.neighbors import KNeighborsRegressor\n",
    "from sklearn.metrics import mean_absolute_error,mean_squared_error,median_absolute_error \n",
    "sns.set(style = 'whitegrid')"
   ]
  },
  {
   "cell_type": "markdown",
   "id": "3d7754e6",
   "metadata": {
    "papermill": {
     "duration": 0.03386,
     "end_time": "2024-09-07T13:23:37.026052",
     "exception": false,
     "start_time": "2024-09-07T13:23:36.992192",
     "status": "completed"
    },
    "tags": []
   },
   "source": [
    "# Reading Data"
   ]
  },
  {
   "cell_type": "code",
   "execution_count": 2,
   "id": "836d154c",
   "metadata": {
    "execution": {
     "iopub.execute_input": "2024-09-07T13:23:37.097012Z",
     "iopub.status.busy": "2024-09-07T13:23:37.095839Z",
     "iopub.status.idle": "2024-09-07T13:23:37.189596Z",
     "shell.execute_reply": "2024-09-07T13:23:37.188351Z"
    },
    "papermill": {
     "duration": 0.133179,
     "end_time": "2024-09-07T13:23:37.193387",
     "exception": false,
     "start_time": "2024-09-07T13:23:37.060208",
     "status": "completed"
    },
    "tags": []
   },
   "outputs": [],
   "source": [
    "data = pd.read_csv('/kaggle/input/flight-price-prediction/Data_Train.csv')\n",
    "Test = pd.read_csv('/kaggle/input/flight-price-prediction/Test_set.csv')"
   ]
  },
  {
   "cell_type": "code",
   "execution_count": 3,
   "id": "368575e1",
   "metadata": {
    "execution": {
     "iopub.execute_input": "2024-09-07T13:23:37.275376Z",
     "iopub.status.busy": "2024-09-07T13:23:37.274248Z",
     "iopub.status.idle": "2024-09-07T13:23:37.285106Z",
     "shell.execute_reply": "2024-09-07T13:23:37.283759Z"
    },
    "papermill": {
     "duration": 0.050264,
     "end_time": "2024-09-07T13:23:37.287792",
     "exception": false,
     "start_time": "2024-09-07T13:23:37.237528",
     "status": "completed"
    },
    "tags": []
   },
   "outputs": [
    {
     "data": {
      "text/plain": [
       "(10683, 11)"
      ]
     },
     "execution_count": 3,
     "metadata": {},
     "output_type": "execute_result"
    }
   ],
   "source": [
    "data.shape"
   ]
  },
  {
   "cell_type": "code",
   "execution_count": 4,
   "id": "c638aac5",
   "metadata": {
    "execution": {
     "iopub.execute_input": "2024-09-07T13:23:37.357989Z",
     "iopub.status.busy": "2024-09-07T13:23:37.357519Z",
     "iopub.status.idle": "2024-09-07T13:23:37.386266Z",
     "shell.execute_reply": "2024-09-07T13:23:37.384956Z"
    },
    "papermill": {
     "duration": 0.066702,
     "end_time": "2024-09-07T13:23:37.388852",
     "exception": false,
     "start_time": "2024-09-07T13:23:37.322150",
     "status": "completed"
    },
    "tags": []
   },
   "outputs": [
    {
     "data": {
      "text/html": [
       "<div>\n",
       "<style scoped>\n",
       "    .dataframe tbody tr th:only-of-type {\n",
       "        vertical-align: middle;\n",
       "    }\n",
       "\n",
       "    .dataframe tbody tr th {\n",
       "        vertical-align: top;\n",
       "    }\n",
       "\n",
       "    .dataframe thead th {\n",
       "        text-align: right;\n",
       "    }\n",
       "</style>\n",
       "<table border=\"1\" class=\"dataframe\">\n",
       "  <thead>\n",
       "    <tr style=\"text-align: right;\">\n",
       "      <th></th>\n",
       "      <th>Airline</th>\n",
       "      <th>Date_of_Journey</th>\n",
       "      <th>Source</th>\n",
       "      <th>Destination</th>\n",
       "      <th>Route</th>\n",
       "      <th>Dep_Time</th>\n",
       "      <th>Arrival_Time</th>\n",
       "      <th>Duration</th>\n",
       "      <th>Total_Stops</th>\n",
       "      <th>Additional_Info</th>\n",
       "      <th>Price</th>\n",
       "    </tr>\n",
       "  </thead>\n",
       "  <tbody>\n",
       "    <tr>\n",
       "      <th>0</th>\n",
       "      <td>IndiGo</td>\n",
       "      <td>24/03/2019</td>\n",
       "      <td>Banglore</td>\n",
       "      <td>New Delhi</td>\n",
       "      <td>BLR ? DEL</td>\n",
       "      <td>22:20</td>\n",
       "      <td>01:10 22 Mar</td>\n",
       "      <td>2h 50m</td>\n",
       "      <td>non-stop</td>\n",
       "      <td>No info</td>\n",
       "      <td>3897</td>\n",
       "    </tr>\n",
       "    <tr>\n",
       "      <th>1</th>\n",
       "      <td>Air India</td>\n",
       "      <td>1/05/2019</td>\n",
       "      <td>Kolkata</td>\n",
       "      <td>Banglore</td>\n",
       "      <td>CCU ? IXR ? BBI ? BLR</td>\n",
       "      <td>05:50</td>\n",
       "      <td>13:15</td>\n",
       "      <td>7h 25m</td>\n",
       "      <td>2 stops</td>\n",
       "      <td>No info</td>\n",
       "      <td>7662</td>\n",
       "    </tr>\n",
       "    <tr>\n",
       "      <th>2</th>\n",
       "      <td>Jet Airways</td>\n",
       "      <td>9/06/2019</td>\n",
       "      <td>Delhi</td>\n",
       "      <td>Cochin</td>\n",
       "      <td>DEL ? LKO ? BOM ? COK</td>\n",
       "      <td>09:25</td>\n",
       "      <td>04:25 10 Jun</td>\n",
       "      <td>19h</td>\n",
       "      <td>2 stops</td>\n",
       "      <td>No info</td>\n",
       "      <td>13882</td>\n",
       "    </tr>\n",
       "    <tr>\n",
       "      <th>3</th>\n",
       "      <td>IndiGo</td>\n",
       "      <td>12/05/2019</td>\n",
       "      <td>Kolkata</td>\n",
       "      <td>Banglore</td>\n",
       "      <td>CCU ? NAG ? BLR</td>\n",
       "      <td>18:05</td>\n",
       "      <td>23:30</td>\n",
       "      <td>5h 25m</td>\n",
       "      <td>1 stop</td>\n",
       "      <td>No info</td>\n",
       "      <td>6218</td>\n",
       "    </tr>\n",
       "    <tr>\n",
       "      <th>4</th>\n",
       "      <td>IndiGo</td>\n",
       "      <td>01/03/2019</td>\n",
       "      <td>Banglore</td>\n",
       "      <td>New Delhi</td>\n",
       "      <td>BLR ? NAG ? DEL</td>\n",
       "      <td>16:50</td>\n",
       "      <td>21:35</td>\n",
       "      <td>4h 45m</td>\n",
       "      <td>1 stop</td>\n",
       "      <td>No info</td>\n",
       "      <td>13302</td>\n",
       "    </tr>\n",
       "  </tbody>\n",
       "</table>\n",
       "</div>"
      ],
      "text/plain": [
       "       Airline Date_of_Journey    Source Destination                  Route  \\\n",
       "0       IndiGo      24/03/2019  Banglore   New Delhi              BLR ? DEL   \n",
       "1    Air India       1/05/2019   Kolkata    Banglore  CCU ? IXR ? BBI ? BLR   \n",
       "2  Jet Airways       9/06/2019     Delhi      Cochin  DEL ? LKO ? BOM ? COK   \n",
       "3       IndiGo      12/05/2019   Kolkata    Banglore        CCU ? NAG ? BLR   \n",
       "4       IndiGo      01/03/2019  Banglore   New Delhi        BLR ? NAG ? DEL   \n",
       "\n",
       "  Dep_Time  Arrival_Time Duration Total_Stops Additional_Info  Price  \n",
       "0    22:20  01:10 22 Mar   2h 50m    non-stop         No info   3897  \n",
       "1    05:50         13:15   7h 25m     2 stops         No info   7662  \n",
       "2    09:25  04:25 10 Jun      19h     2 stops         No info  13882  \n",
       "3    18:05         23:30   5h 25m      1 stop         No info   6218  \n",
       "4    16:50         21:35   4h 45m      1 stop         No info  13302  "
      ]
     },
     "execution_count": 4,
     "metadata": {},
     "output_type": "execute_result"
    }
   ],
   "source": [
    "data.head()"
   ]
  },
  {
   "cell_type": "code",
   "execution_count": 5,
   "id": "a13a14dd",
   "metadata": {
    "execution": {
     "iopub.execute_input": "2024-09-07T13:23:37.458648Z",
     "iopub.status.busy": "2024-09-07T13:23:37.458195Z",
     "iopub.status.idle": "2024-09-07T13:23:37.476892Z",
     "shell.execute_reply": "2024-09-07T13:23:37.475625Z"
    },
    "papermill": {
     "duration": 0.05679,
     "end_time": "2024-09-07T13:23:37.479669",
     "exception": false,
     "start_time": "2024-09-07T13:23:37.422879",
     "status": "completed"
    },
    "tags": []
   },
   "outputs": [
    {
     "data": {
      "text/html": [
       "<div>\n",
       "<style scoped>\n",
       "    .dataframe tbody tr th:only-of-type {\n",
       "        vertical-align: middle;\n",
       "    }\n",
       "\n",
       "    .dataframe tbody tr th {\n",
       "        vertical-align: top;\n",
       "    }\n",
       "\n",
       "    .dataframe thead th {\n",
       "        text-align: right;\n",
       "    }\n",
       "</style>\n",
       "<table border=\"1\" class=\"dataframe\">\n",
       "  <thead>\n",
       "    <tr style=\"text-align: right;\">\n",
       "      <th></th>\n",
       "      <th>Airline</th>\n",
       "      <th>Date_of_Journey</th>\n",
       "      <th>Source</th>\n",
       "      <th>Destination</th>\n",
       "      <th>Route</th>\n",
       "      <th>Dep_Time</th>\n",
       "      <th>Arrival_Time</th>\n",
       "      <th>Duration</th>\n",
       "      <th>Total_Stops</th>\n",
       "      <th>Additional_Info</th>\n",
       "      <th>Price</th>\n",
       "    </tr>\n",
       "  </thead>\n",
       "  <tbody>\n",
       "    <tr>\n",
       "      <th>10678</th>\n",
       "      <td>Air Asia</td>\n",
       "      <td>9/04/2019</td>\n",
       "      <td>Kolkata</td>\n",
       "      <td>Banglore</td>\n",
       "      <td>CCU ? BLR</td>\n",
       "      <td>19:55</td>\n",
       "      <td>22:25</td>\n",
       "      <td>2h 30m</td>\n",
       "      <td>non-stop</td>\n",
       "      <td>No info</td>\n",
       "      <td>4107</td>\n",
       "    </tr>\n",
       "    <tr>\n",
       "      <th>10679</th>\n",
       "      <td>Air India</td>\n",
       "      <td>27/04/2019</td>\n",
       "      <td>Kolkata</td>\n",
       "      <td>Banglore</td>\n",
       "      <td>CCU ? BLR</td>\n",
       "      <td>20:45</td>\n",
       "      <td>23:20</td>\n",
       "      <td>2h 35m</td>\n",
       "      <td>non-stop</td>\n",
       "      <td>No info</td>\n",
       "      <td>4145</td>\n",
       "    </tr>\n",
       "    <tr>\n",
       "      <th>10680</th>\n",
       "      <td>Jet Airways</td>\n",
       "      <td>27/04/2019</td>\n",
       "      <td>Banglore</td>\n",
       "      <td>Delhi</td>\n",
       "      <td>BLR ? DEL</td>\n",
       "      <td>08:20</td>\n",
       "      <td>11:20</td>\n",
       "      <td>3h</td>\n",
       "      <td>non-stop</td>\n",
       "      <td>No info</td>\n",
       "      <td>7229</td>\n",
       "    </tr>\n",
       "    <tr>\n",
       "      <th>10681</th>\n",
       "      <td>Vistara</td>\n",
       "      <td>01/03/2019</td>\n",
       "      <td>Banglore</td>\n",
       "      <td>New Delhi</td>\n",
       "      <td>BLR ? DEL</td>\n",
       "      <td>11:30</td>\n",
       "      <td>14:10</td>\n",
       "      <td>2h 40m</td>\n",
       "      <td>non-stop</td>\n",
       "      <td>No info</td>\n",
       "      <td>12648</td>\n",
       "    </tr>\n",
       "    <tr>\n",
       "      <th>10682</th>\n",
       "      <td>Air India</td>\n",
       "      <td>9/05/2019</td>\n",
       "      <td>Delhi</td>\n",
       "      <td>Cochin</td>\n",
       "      <td>DEL ? GOI ? BOM ? COK</td>\n",
       "      <td>10:55</td>\n",
       "      <td>19:15</td>\n",
       "      <td>8h 20m</td>\n",
       "      <td>2 stops</td>\n",
       "      <td>No info</td>\n",
       "      <td>11753</td>\n",
       "    </tr>\n",
       "  </tbody>\n",
       "</table>\n",
       "</div>"
      ],
      "text/plain": [
       "           Airline Date_of_Journey    Source Destination  \\\n",
       "10678     Air Asia       9/04/2019   Kolkata    Banglore   \n",
       "10679    Air India      27/04/2019   Kolkata    Banglore   \n",
       "10680  Jet Airways      27/04/2019  Banglore       Delhi   \n",
       "10681      Vistara      01/03/2019  Banglore   New Delhi   \n",
       "10682    Air India       9/05/2019     Delhi      Cochin   \n",
       "\n",
       "                       Route Dep_Time Arrival_Time Duration Total_Stops  \\\n",
       "10678              CCU ? BLR    19:55        22:25   2h 30m    non-stop   \n",
       "10679              CCU ? BLR    20:45        23:20   2h 35m    non-stop   \n",
       "10680              BLR ? DEL    08:20        11:20       3h    non-stop   \n",
       "10681              BLR ? DEL    11:30        14:10   2h 40m    non-stop   \n",
       "10682  DEL ? GOI ? BOM ? COK    10:55        19:15   8h 20m     2 stops   \n",
       "\n",
       "      Additional_Info  Price  \n",
       "10678         No info   4107  \n",
       "10679         No info   4145  \n",
       "10680         No info   7229  \n",
       "10681         No info  12648  \n",
       "10682         No info  11753  "
      ]
     },
     "execution_count": 5,
     "metadata": {},
     "output_type": "execute_result"
    }
   ],
   "source": [
    "data.tail()"
   ]
  },
  {
   "cell_type": "markdown",
   "id": "c8ed1835",
   "metadata": {
    "papermill": {
     "duration": 0.033936,
     "end_time": "2024-09-07T13:23:37.548380",
     "exception": false,
     "start_time": "2024-09-07T13:23:37.514444",
     "status": "completed"
    },
    "tags": []
   },
   "source": [
    "# Hanlding Nulls"
   ]
  },
  {
   "cell_type": "code",
   "execution_count": 6,
   "id": "30a69782",
   "metadata": {
    "execution": {
     "iopub.execute_input": "2024-09-07T13:23:37.619977Z",
     "iopub.status.busy": "2024-09-07T13:23:37.619439Z",
     "iopub.status.idle": "2024-09-07T13:23:37.643221Z",
     "shell.execute_reply": "2024-09-07T13:23:37.642015Z"
    },
    "papermill": {
     "duration": 0.062788,
     "end_time": "2024-09-07T13:23:37.645955",
     "exception": false,
     "start_time": "2024-09-07T13:23:37.583167",
     "status": "completed"
    },
    "tags": []
   },
   "outputs": [
    {
     "data": {
      "text/plain": [
       "Airline            0\n",
       "Date_of_Journey    0\n",
       "Source             0\n",
       "Destination        0\n",
       "Route              1\n",
       "Dep_Time           0\n",
       "Arrival_Time       0\n",
       "Duration           0\n",
       "Total_Stops        1\n",
       "Additional_Info    0\n",
       "Price              0\n",
       "dtype: int64"
      ]
     },
     "execution_count": 6,
     "metadata": {},
     "output_type": "execute_result"
    }
   ],
   "source": [
    "data.isna().sum()"
   ]
  },
  {
   "cell_type": "markdown",
   "id": "d71302bf",
   "metadata": {
    "papermill": {
     "duration": 0.034713,
     "end_time": "2024-09-07T13:23:37.715258",
     "exception": false,
     "start_time": "2024-09-07T13:23:37.680545",
     "status": "completed"
    },
    "tags": []
   },
   "source": [
    "### we have two values in different columns that are null. Here, we're checking if these two values are in the same row, and if they are, we delete the entire row at once, and that's it."
   ]
  },
  {
   "cell_type": "code",
   "execution_count": 7,
   "id": "f3348657",
   "metadata": {
    "execution": {
     "iopub.execute_input": "2024-09-07T13:23:37.786354Z",
     "iopub.status.busy": "2024-09-07T13:23:37.785513Z",
     "iopub.status.idle": "2024-09-07T13:23:37.822568Z",
     "shell.execute_reply": "2024-09-07T13:23:37.821204Z"
    },
    "papermill": {
     "duration": 0.075841,
     "end_time": "2024-09-07T13:23:37.825395",
     "exception": false,
     "start_time": "2024-09-07T13:23:37.749554",
     "status": "completed"
    },
    "tags": []
   },
   "outputs": [
    {
     "name": "stdout",
     "output_type": "stream",
     "text": [
      "9039\n"
     ]
    }
   ],
   "source": [
    "for index, nan in enumerate(data['Route'].isna().values) : \n",
    "    if nan == True : print(index)"
   ]
  },
  {
   "cell_type": "code",
   "execution_count": 8,
   "id": "7edc3a45",
   "metadata": {
    "execution": {
     "iopub.execute_input": "2024-09-07T13:23:37.898500Z",
     "iopub.status.busy": "2024-09-07T13:23:37.898049Z",
     "iopub.status.idle": "2024-09-07T13:23:37.934014Z",
     "shell.execute_reply": "2024-09-07T13:23:37.932810Z"
    },
    "papermill": {
     "duration": 0.075866,
     "end_time": "2024-09-07T13:23:37.936772",
     "exception": false,
     "start_time": "2024-09-07T13:23:37.860906",
     "status": "completed"
    },
    "tags": []
   },
   "outputs": [
    {
     "name": "stdout",
     "output_type": "stream",
     "text": [
      "9039\n"
     ]
    }
   ],
   "source": [
    "for index,nan in enumerate(data['Total_Stops'].isna().values) : \n",
    "    if nan == True : print(index)"
   ]
  },
  {
   "cell_type": "code",
   "execution_count": 9,
   "id": "35c48dc9",
   "metadata": {
    "execution": {
     "iopub.execute_input": "2024-09-07T13:23:38.008795Z",
     "iopub.status.busy": "2024-09-07T13:23:38.008317Z",
     "iopub.status.idle": "2024-09-07T13:23:38.018751Z",
     "shell.execute_reply": "2024-09-07T13:23:38.017213Z"
    },
    "papermill": {
     "duration": 0.049636,
     "end_time": "2024-09-07T13:23:38.021658",
     "exception": false,
     "start_time": "2024-09-07T13:23:37.972022",
     "status": "completed"
    },
    "tags": []
   },
   "outputs": [
    {
     "data": {
      "text/plain": [
       "Airline               Air India\n",
       "Date_of_Journey       6/05/2019\n",
       "Source                    Delhi\n",
       "Destination              Cochin\n",
       "Route                       NaN\n",
       "Dep_Time                  09:45\n",
       "Arrival_Time       09:25 07 May\n",
       "Duration                23h 40m\n",
       "Total_Stops                 NaN\n",
       "Additional_Info         No info\n",
       "Price                      7480\n",
       "Name: 9039, dtype: object"
      ]
     },
     "execution_count": 9,
     "metadata": {},
     "output_type": "execute_result"
    }
   ],
   "source": [
    "data.loc[9039,:]"
   ]
  },
  {
   "cell_type": "markdown",
   "id": "7a0642f9",
   "metadata": {
    "papermill": {
     "duration": 0.034442,
     "end_time": "2024-09-07T13:23:38.091385",
     "exception": false,
     "start_time": "2024-09-07T13:23:38.056943",
     "status": "completed"
    },
    "tags": []
   },
   "source": [
    "###  we have a row with two null values in different columns, so we will delete the row to make it better.\n"
   ]
  },
  {
   "cell_type": "code",
   "execution_count": 10,
   "id": "f3925ae4",
   "metadata": {
    "execution": {
     "iopub.execute_input": "2024-09-07T13:23:38.225713Z",
     "iopub.status.busy": "2024-09-07T13:23:38.225274Z",
     "iopub.status.idle": "2024-09-07T13:23:38.238848Z",
     "shell.execute_reply": "2024-09-07T13:23:38.237632Z"
    },
    "papermill": {
     "duration": 0.053766,
     "end_time": "2024-09-07T13:23:38.242529",
     "exception": false,
     "start_time": "2024-09-07T13:23:38.188763",
     "status": "completed"
    },
    "tags": []
   },
   "outputs": [],
   "source": [
    "data.drop([9039],axis=0,inplace=True)\n",
    "data.reset_index(inplace=True)"
   ]
  },
  {
   "cell_type": "code",
   "execution_count": 11,
   "id": "fba41972",
   "metadata": {
    "execution": {
     "iopub.execute_input": "2024-09-07T13:23:38.314599Z",
     "iopub.status.busy": "2024-09-07T13:23:38.314155Z",
     "iopub.status.idle": "2024-09-07T13:23:38.332850Z",
     "shell.execute_reply": "2024-09-07T13:23:38.331531Z"
    },
    "papermill": {
     "duration": 0.058135,
     "end_time": "2024-09-07T13:23:38.335816",
     "exception": false,
     "start_time": "2024-09-07T13:23:38.277681",
     "status": "completed"
    },
    "tags": []
   },
   "outputs": [
    {
     "data": {
      "text/html": [
       "<div>\n",
       "<style scoped>\n",
       "    .dataframe tbody tr th:only-of-type {\n",
       "        vertical-align: middle;\n",
       "    }\n",
       "\n",
       "    .dataframe tbody tr th {\n",
       "        vertical-align: top;\n",
       "    }\n",
       "\n",
       "    .dataframe thead th {\n",
       "        text-align: right;\n",
       "    }\n",
       "</style>\n",
       "<table border=\"1\" class=\"dataframe\">\n",
       "  <thead>\n",
       "    <tr style=\"text-align: right;\">\n",
       "      <th></th>\n",
       "      <th>index</th>\n",
       "      <th>Airline</th>\n",
       "      <th>Date_of_Journey</th>\n",
       "      <th>Source</th>\n",
       "      <th>Destination</th>\n",
       "      <th>Route</th>\n",
       "      <th>Dep_Time</th>\n",
       "      <th>Arrival_Time</th>\n",
       "      <th>Duration</th>\n",
       "      <th>Total_Stops</th>\n",
       "      <th>Additional_Info</th>\n",
       "      <th>Price</th>\n",
       "    </tr>\n",
       "  </thead>\n",
       "  <tbody>\n",
       "    <tr>\n",
       "      <th>0</th>\n",
       "      <td>0</td>\n",
       "      <td>IndiGo</td>\n",
       "      <td>24/03/2019</td>\n",
       "      <td>Banglore</td>\n",
       "      <td>New Delhi</td>\n",
       "      <td>BLR ? DEL</td>\n",
       "      <td>22:20</td>\n",
       "      <td>01:10 22 Mar</td>\n",
       "      <td>2h 50m</td>\n",
       "      <td>non-stop</td>\n",
       "      <td>No info</td>\n",
       "      <td>3897</td>\n",
       "    </tr>\n",
       "    <tr>\n",
       "      <th>1</th>\n",
       "      <td>1</td>\n",
       "      <td>Air India</td>\n",
       "      <td>1/05/2019</td>\n",
       "      <td>Kolkata</td>\n",
       "      <td>Banglore</td>\n",
       "      <td>CCU ? IXR ? BBI ? BLR</td>\n",
       "      <td>05:50</td>\n",
       "      <td>13:15</td>\n",
       "      <td>7h 25m</td>\n",
       "      <td>2 stops</td>\n",
       "      <td>No info</td>\n",
       "      <td>7662</td>\n",
       "    </tr>\n",
       "    <tr>\n",
       "      <th>2</th>\n",
       "      <td>2</td>\n",
       "      <td>Jet Airways</td>\n",
       "      <td>9/06/2019</td>\n",
       "      <td>Delhi</td>\n",
       "      <td>Cochin</td>\n",
       "      <td>DEL ? LKO ? BOM ? COK</td>\n",
       "      <td>09:25</td>\n",
       "      <td>04:25 10 Jun</td>\n",
       "      <td>19h</td>\n",
       "      <td>2 stops</td>\n",
       "      <td>No info</td>\n",
       "      <td>13882</td>\n",
       "    </tr>\n",
       "    <tr>\n",
       "      <th>3</th>\n",
       "      <td>3</td>\n",
       "      <td>IndiGo</td>\n",
       "      <td>12/05/2019</td>\n",
       "      <td>Kolkata</td>\n",
       "      <td>Banglore</td>\n",
       "      <td>CCU ? NAG ? BLR</td>\n",
       "      <td>18:05</td>\n",
       "      <td>23:30</td>\n",
       "      <td>5h 25m</td>\n",
       "      <td>1 stop</td>\n",
       "      <td>No info</td>\n",
       "      <td>6218</td>\n",
       "    </tr>\n",
       "    <tr>\n",
       "      <th>4</th>\n",
       "      <td>4</td>\n",
       "      <td>IndiGo</td>\n",
       "      <td>01/03/2019</td>\n",
       "      <td>Banglore</td>\n",
       "      <td>New Delhi</td>\n",
       "      <td>BLR ? NAG ? DEL</td>\n",
       "      <td>16:50</td>\n",
       "      <td>21:35</td>\n",
       "      <td>4h 45m</td>\n",
       "      <td>1 stop</td>\n",
       "      <td>No info</td>\n",
       "      <td>13302</td>\n",
       "    </tr>\n",
       "  </tbody>\n",
       "</table>\n",
       "</div>"
      ],
      "text/plain": [
       "   index      Airline Date_of_Journey    Source Destination  \\\n",
       "0      0       IndiGo      24/03/2019  Banglore   New Delhi   \n",
       "1      1    Air India       1/05/2019   Kolkata    Banglore   \n",
       "2      2  Jet Airways       9/06/2019     Delhi      Cochin   \n",
       "3      3       IndiGo      12/05/2019   Kolkata    Banglore   \n",
       "4      4       IndiGo      01/03/2019  Banglore   New Delhi   \n",
       "\n",
       "                   Route Dep_Time  Arrival_Time Duration Total_Stops  \\\n",
       "0              BLR ? DEL    22:20  01:10 22 Mar   2h 50m    non-stop   \n",
       "1  CCU ? IXR ? BBI ? BLR    05:50         13:15   7h 25m     2 stops   \n",
       "2  DEL ? LKO ? BOM ? COK    09:25  04:25 10 Jun      19h     2 stops   \n",
       "3        CCU ? NAG ? BLR    18:05         23:30   5h 25m      1 stop   \n",
       "4        BLR ? NAG ? DEL    16:50         21:35   4h 45m      1 stop   \n",
       "\n",
       "  Additional_Info  Price  \n",
       "0         No info   3897  \n",
       "1         No info   7662  \n",
       "2         No info  13882  \n",
       "3         No info   6218  \n",
       "4         No info  13302  "
      ]
     },
     "execution_count": 11,
     "metadata": {},
     "output_type": "execute_result"
    }
   ],
   "source": [
    "data.head()"
   ]
  },
  {
   "cell_type": "markdown",
   "id": "2b547060",
   "metadata": {
    "papermill": {
     "duration": 0.034838,
     "end_time": "2024-09-07T13:23:38.406380",
     "exception": false,
     "start_time": "2024-09-07T13:23:38.371542",
     "status": "completed"
    },
    "tags": []
   },
   "source": [
    "### In the previous code, the data creates a new column called \"index\" so we have to delete it."
   ]
  },
  {
   "cell_type": "code",
   "execution_count": 12,
   "id": "ccc603d9",
   "metadata": {
    "execution": {
     "iopub.execute_input": "2024-09-07T13:23:38.479161Z",
     "iopub.status.busy": "2024-09-07T13:23:38.478679Z",
     "iopub.status.idle": "2024-09-07T13:23:38.489819Z",
     "shell.execute_reply": "2024-09-07T13:23:38.488489Z"
    },
    "papermill": {
     "duration": 0.051149,
     "end_time": "2024-09-07T13:23:38.492633",
     "exception": false,
     "start_time": "2024-09-07T13:23:38.441484",
     "status": "completed"
    },
    "tags": []
   },
   "outputs": [],
   "source": [
    "data.drop(['index'],axis=1,inplace=True)"
   ]
  },
  {
   "cell_type": "code",
   "execution_count": 13,
   "id": "19d5e01a",
   "metadata": {
    "execution": {
     "iopub.execute_input": "2024-09-07T13:23:38.565792Z",
     "iopub.status.busy": "2024-09-07T13:23:38.565331Z",
     "iopub.status.idle": "2024-09-07T13:23:38.584784Z",
     "shell.execute_reply": "2024-09-07T13:23:38.583480Z"
    },
    "papermill": {
     "duration": 0.059668,
     "end_time": "2024-09-07T13:23:38.588136",
     "exception": false,
     "start_time": "2024-09-07T13:23:38.528468",
     "status": "completed"
    },
    "tags": []
   },
   "outputs": [
    {
     "data": {
      "text/html": [
       "<div>\n",
       "<style scoped>\n",
       "    .dataframe tbody tr th:only-of-type {\n",
       "        vertical-align: middle;\n",
       "    }\n",
       "\n",
       "    .dataframe tbody tr th {\n",
       "        vertical-align: top;\n",
       "    }\n",
       "\n",
       "    .dataframe thead th {\n",
       "        text-align: right;\n",
       "    }\n",
       "</style>\n",
       "<table border=\"1\" class=\"dataframe\">\n",
       "  <thead>\n",
       "    <tr style=\"text-align: right;\">\n",
       "      <th></th>\n",
       "      <th>Airline</th>\n",
       "      <th>Date_of_Journey</th>\n",
       "      <th>Source</th>\n",
       "      <th>Destination</th>\n",
       "      <th>Route</th>\n",
       "      <th>Dep_Time</th>\n",
       "      <th>Arrival_Time</th>\n",
       "      <th>Duration</th>\n",
       "      <th>Total_Stops</th>\n",
       "      <th>Additional_Info</th>\n",
       "      <th>Price</th>\n",
       "    </tr>\n",
       "  </thead>\n",
       "  <tbody>\n",
       "    <tr>\n",
       "      <th>0</th>\n",
       "      <td>IndiGo</td>\n",
       "      <td>24/03/2019</td>\n",
       "      <td>Banglore</td>\n",
       "      <td>New Delhi</td>\n",
       "      <td>BLR ? DEL</td>\n",
       "      <td>22:20</td>\n",
       "      <td>01:10 22 Mar</td>\n",
       "      <td>2h 50m</td>\n",
       "      <td>non-stop</td>\n",
       "      <td>No info</td>\n",
       "      <td>3897</td>\n",
       "    </tr>\n",
       "    <tr>\n",
       "      <th>1</th>\n",
       "      <td>Air India</td>\n",
       "      <td>1/05/2019</td>\n",
       "      <td>Kolkata</td>\n",
       "      <td>Banglore</td>\n",
       "      <td>CCU ? IXR ? BBI ? BLR</td>\n",
       "      <td>05:50</td>\n",
       "      <td>13:15</td>\n",
       "      <td>7h 25m</td>\n",
       "      <td>2 stops</td>\n",
       "      <td>No info</td>\n",
       "      <td>7662</td>\n",
       "    </tr>\n",
       "    <tr>\n",
       "      <th>2</th>\n",
       "      <td>Jet Airways</td>\n",
       "      <td>9/06/2019</td>\n",
       "      <td>Delhi</td>\n",
       "      <td>Cochin</td>\n",
       "      <td>DEL ? LKO ? BOM ? COK</td>\n",
       "      <td>09:25</td>\n",
       "      <td>04:25 10 Jun</td>\n",
       "      <td>19h</td>\n",
       "      <td>2 stops</td>\n",
       "      <td>No info</td>\n",
       "      <td>13882</td>\n",
       "    </tr>\n",
       "    <tr>\n",
       "      <th>3</th>\n",
       "      <td>IndiGo</td>\n",
       "      <td>12/05/2019</td>\n",
       "      <td>Kolkata</td>\n",
       "      <td>Banglore</td>\n",
       "      <td>CCU ? NAG ? BLR</td>\n",
       "      <td>18:05</td>\n",
       "      <td>23:30</td>\n",
       "      <td>5h 25m</td>\n",
       "      <td>1 stop</td>\n",
       "      <td>No info</td>\n",
       "      <td>6218</td>\n",
       "    </tr>\n",
       "    <tr>\n",
       "      <th>4</th>\n",
       "      <td>IndiGo</td>\n",
       "      <td>01/03/2019</td>\n",
       "      <td>Banglore</td>\n",
       "      <td>New Delhi</td>\n",
       "      <td>BLR ? NAG ? DEL</td>\n",
       "      <td>16:50</td>\n",
       "      <td>21:35</td>\n",
       "      <td>4h 45m</td>\n",
       "      <td>1 stop</td>\n",
       "      <td>No info</td>\n",
       "      <td>13302</td>\n",
       "    </tr>\n",
       "  </tbody>\n",
       "</table>\n",
       "</div>"
      ],
      "text/plain": [
       "       Airline Date_of_Journey    Source Destination                  Route  \\\n",
       "0       IndiGo      24/03/2019  Banglore   New Delhi              BLR ? DEL   \n",
       "1    Air India       1/05/2019   Kolkata    Banglore  CCU ? IXR ? BBI ? BLR   \n",
       "2  Jet Airways       9/06/2019     Delhi      Cochin  DEL ? LKO ? BOM ? COK   \n",
       "3       IndiGo      12/05/2019   Kolkata    Banglore        CCU ? NAG ? BLR   \n",
       "4       IndiGo      01/03/2019  Banglore   New Delhi        BLR ? NAG ? DEL   \n",
       "\n",
       "  Dep_Time  Arrival_Time Duration Total_Stops Additional_Info  Price  \n",
       "0    22:20  01:10 22 Mar   2h 50m    non-stop         No info   3897  \n",
       "1    05:50         13:15   7h 25m     2 stops         No info   7662  \n",
       "2    09:25  04:25 10 Jun      19h     2 stops         No info  13882  \n",
       "3    18:05         23:30   5h 25m      1 stop         No info   6218  \n",
       "4    16:50         21:35   4h 45m      1 stop         No info  13302  "
      ]
     },
     "execution_count": 13,
     "metadata": {},
     "output_type": "execute_result"
    }
   ],
   "source": [
    "data.head()"
   ]
  },
  {
   "cell_type": "code",
   "execution_count": null,
   "id": "ee2cd78b",
   "metadata": {
    "papermill": {
     "duration": 0.035114,
     "end_time": "2024-09-07T13:23:38.658861",
     "exception": false,
     "start_time": "2024-09-07T13:23:38.623747",
     "status": "completed"
    },
    "tags": []
   },
   "outputs": [],
   "source": []
  },
  {
   "cell_type": "markdown",
   "id": "a8bc306c",
   "metadata": {
    "papermill": {
     "duration": 0.035229,
     "end_time": "2024-09-07T13:23:38.729581",
     "exception": false,
     "start_time": "2024-09-07T13:23:38.694352",
     "status": "completed"
    },
    "tags": []
   },
   "source": [
    "# Data Processing"
   ]
  },
  {
   "cell_type": "markdown",
   "id": "40dada02",
   "metadata": {
    "papermill": {
     "duration": 0.037298,
     "end_time": "2024-09-07T13:23:38.803331",
     "exception": false,
     "start_time": "2024-09-07T13:23:38.766033",
     "status": "completed"
    },
    "tags": []
   },
   "source": [
    "### function that takes a DataFrame as input and prints out unique values for each column."
   ]
  },
  {
   "cell_type": "code",
   "execution_count": 14,
   "id": "96dd7137",
   "metadata": {
    "execution": {
     "iopub.execute_input": "2024-09-07T13:23:38.878450Z",
     "iopub.status.busy": "2024-09-07T13:23:38.878010Z",
     "iopub.status.idle": "2024-09-07T13:23:38.907209Z",
     "shell.execute_reply": "2024-09-07T13:23:38.905849Z"
    },
    "papermill": {
     "duration": 0.070335,
     "end_time": "2024-09-07T13:23:38.911181",
     "exception": false,
     "start_time": "2024-09-07T13:23:38.840846",
     "status": "completed"
    },
    "tags": []
   },
   "outputs": [
    {
     "name": "stdout",
     "output_type": "stream",
     "text": [
      "Column 'Airline' has 12 unique values \n",
      "\n",
      "['IndiGo' 'Air India' 'Jet Airways' 'SpiceJet' 'Multiple carriers' 'GoAir'\n",
      " 'Vistara' 'Air Asia' 'Vistara Premium economy' 'Jet Airways Business'\n",
      " 'Multiple carriers Premium economy' 'Trujet']\n",
      "__________________________________________________________\n",
      "\n",
      "Column 'Date_of_Journey' has 44 unique values \n",
      "\n",
      "['24/03/2019' '1/05/2019' '9/06/2019' '12/05/2019' '01/03/2019'\n",
      " '24/06/2019' '12/03/2019' '27/05/2019' '1/06/2019' '18/04/2019'\n",
      " '9/05/2019' '24/04/2019' '3/03/2019' '15/04/2019' '12/06/2019'\n",
      " '6/03/2019' '21/03/2019' '3/04/2019' '6/05/2019' '15/05/2019'\n",
      " '18/06/2019' '15/06/2019' '6/04/2019' '18/05/2019' '27/06/2019'\n",
      " '21/05/2019' '06/03/2019' '3/06/2019' '15/03/2019' '3/05/2019'\n",
      " '9/03/2019' '6/06/2019' '24/05/2019' '09/03/2019' '1/04/2019'\n",
      " '21/04/2019' '21/06/2019' '27/03/2019' '18/03/2019' '12/04/2019'\n",
      " '9/04/2019' '1/03/2019' '03/03/2019' '27/04/2019']\n",
      "__________________________________________________________\n",
      "\n",
      "Column 'Source' has 5 unique values \n",
      "\n",
      "['Banglore' 'Kolkata' 'Delhi' 'Chennai' 'Mumbai']\n",
      "__________________________________________________________\n",
      "\n",
      "Column 'Destination' has 6 unique values \n",
      "\n",
      "['New Delhi' 'Banglore' 'Cochin' 'Kolkata' 'Delhi' 'Hyderabad']\n",
      "__________________________________________________________\n",
      "\n",
      "Column 'Route' has 128 unique values \n",
      "\n",
      "['BLR ? DEL' 'CCU ? IXR ? BBI ? BLR' 'DEL ? LKO ? BOM ? COK'\n",
      " 'CCU ? NAG ? BLR' 'BLR ? NAG ? DEL' 'CCU ? BLR' 'BLR ? BOM ? DEL'\n",
      " 'DEL ? BOM ? COK' 'DEL ? BLR ? COK' 'MAA ? CCU' 'CCU ? BOM ? BLR'\n",
      " 'DEL ? AMD ? BOM ? COK' 'DEL ? PNQ ? COK' 'DEL ? CCU ? BOM ? COK'\n",
      " 'BLR ? COK ? DEL' 'DEL ? IDR ? BOM ? COK' 'DEL ? LKO ? COK'\n",
      " 'CCU ? GAU ? DEL ? BLR' 'DEL ? NAG ? BOM ? COK' 'CCU ? MAA ? BLR'\n",
      " 'DEL ? HYD ? COK' 'CCU ? HYD ? BLR' 'DEL ? COK' 'CCU ? DEL ? BLR'\n",
      " 'BLR ? BOM ? AMD ? DEL' 'BOM ? DEL ? HYD' 'DEL ? MAA ? COK' 'BOM ? HYD'\n",
      " 'DEL ? BHO ? BOM ? COK' 'DEL ? JAI ? BOM ? COK' 'DEL ? ATQ ? BOM ? COK'\n",
      " 'DEL ? JDH ? BOM ? COK' 'CCU ? BBI ? BOM ? BLR' 'BLR ? MAA ? DEL'\n",
      " 'DEL ? GOI ? BOM ? COK' 'DEL ? BDQ ? BOM ? COK' 'CCU ? JAI ? BOM ? BLR'\n",
      " 'CCU ? BBI ? BLR' 'BLR ? HYD ? DEL' 'DEL ? TRV ? COK'\n",
      " 'CCU ? IXR ? DEL ? BLR' 'DEL ? IXU ? BOM ? COK' 'CCU ? IXB ? BLR'\n",
      " 'BLR ? BOM ? JDH ? DEL' 'DEL ? UDR ? BOM ? COK' 'DEL ? HYD ? MAA ? COK'\n",
      " 'CCU ? BOM ? COK ? BLR' 'BLR ? CCU ? DEL' 'CCU ? BOM ? GOI ? BLR'\n",
      " 'DEL ? RPR ? NAG ? BOM ? COK' 'DEL ? HYD ? BOM ? COK'\n",
      " 'CCU ? DEL ? AMD ? BLR' 'CCU ? PNQ ? BLR' 'BLR ? CCU ? GAU ? DEL'\n",
      " 'CCU ? DEL ? COK ? BLR' 'BLR ? PNQ ? DEL' 'BOM ? JDH ? DEL ? HYD'\n",
      " 'BLR ? BOM ? BHO ? DEL' 'DEL ? AMD ? COK' 'BLR ? LKO ? DEL'\n",
      " 'CCU ? GAU ? BLR' 'BOM ? GOI ? HYD' 'CCU ? BOM ? AMD ? BLR'\n",
      " 'CCU ? BBI ? IXR ? DEL ? BLR' 'DEL ? DED ? BOM ? COK'\n",
      " 'DEL ? MAA ? BOM ? COK' 'BLR ? AMD ? DEL' 'BLR ? VGA ? DEL'\n",
      " 'CCU ? JAI ? DEL ? BLR' 'CCU ? AMD ? BLR' 'CCU ? VNS ? DEL ? BLR'\n",
      " 'BLR ? BOM ? IDR ? DEL' 'BLR ? BBI ? DEL' 'BLR ? GOI ? DEL'\n",
      " 'BOM ? AMD ? ISK ? HYD' 'BOM ? DED ? DEL ? HYD' 'DEL ? IXC ? BOM ? COK'\n",
      " 'CCU ? PAT ? BLR' 'BLR ? CCU ? BBI ? DEL' 'CCU ? BBI ? HYD ? BLR'\n",
      " 'BLR ? BOM ? NAG ? DEL' 'BLR ? CCU ? BBI ? HYD ? DEL' 'BLR ? GAU ? DEL'\n",
      " 'BOM ? BHO ? DEL ? HYD' 'BOM ? JLR ? HYD' 'BLR ? HYD ? VGA ? DEL'\n",
      " 'CCU ? KNU ? BLR' 'CCU ? BOM ? PNQ ? BLR' 'DEL ? BBI ? COK'\n",
      " 'BLR ? VGA ? HYD ? DEL' 'BOM ? JDH ? JAI ? DEL ? HYD'\n",
      " 'DEL ? GWL ? IDR ? BOM ? COK' 'CCU ? RPR ? HYD ? BLR' 'CCU ? VTZ ? BLR'\n",
      " 'CCU ? DEL ? VGA ? BLR' 'BLR ? BOM ? IDR ? GWL ? DEL'\n",
      " 'CCU ? DEL ? COK ? TRV ? BLR' 'BOM ? COK ? MAA ? HYD' 'BOM ? NDC ? HYD'\n",
      " 'BLR ? BDQ ? DEL' 'CCU ? BOM ? TRV ? BLR' 'CCU ? BOM ? HBX ? BLR'\n",
      " 'BOM ? BDQ ? DEL ? HYD' 'BOM ? CCU ? HYD' 'BLR ? TRV ? COK ? DEL'\n",
      " 'BLR ? IDR ? DEL' 'CCU ? IXZ ? MAA ? BLR' 'CCU ? GAU ? IMF ? DEL ? BLR'\n",
      " 'BOM ? GOI ? PNQ ? HYD' 'BOM ? BLR ? CCU ? BBI ? HYD' 'BOM ? MAA ? HYD'\n",
      " 'BLR ? BOM ? UDR ? DEL' 'BOM ? UDR ? DEL ? HYD' 'BLR ? VGA ? VTZ ? DEL'\n",
      " 'BLR ? HBX ? BOM ? BHO ? DEL' 'CCU ? IXA ? BLR' 'BOM ? RPR ? VTZ ? HYD'\n",
      " 'BLR ? HBX ? BOM ? AMD ? DEL' 'BOM ? IDR ? DEL ? HYD' 'BOM ? BLR ? HYD'\n",
      " 'BLR ? STV ? DEL' 'CCU ? IXB ? DEL ? BLR' 'BOM ? JAI ? DEL ? HYD'\n",
      " 'BOM ? VNS ? DEL ? HYD' 'BLR ? HBX ? BOM ? NAG ? DEL'\n",
      " 'BLR ? BOM ? IXC ? DEL' 'BLR ? CCU ? BBI ? HYD ? VGA ? DEL'\n",
      " 'BOM ? BBI ? HYD']\n",
      "__________________________________________________________\n",
      "\n",
      "Column 'Dep_Time' has 222 unique values \n",
      "\n",
      "['22:20' '05:50' '09:25' '18:05' '16:50' '09:00' '18:55' '08:00' '08:55'\n",
      " '11:25' '09:45' '20:20' '11:40' '21:10' '17:15' '16:40' '08:45' '14:00'\n",
      " '20:15' '16:00' '14:10' '22:00' '04:00' '21:25' '21:50' '07:00' '07:05'\n",
      " '09:50' '14:35' '10:35' '15:05' '14:15' '06:45' '20:55' '11:10' '05:45'\n",
      " '19:00' '23:05' '11:00' '09:35' '21:15' '23:55' '19:45' '08:50' '15:40'\n",
      " '06:05' '15:00' '13:55' '05:55' '13:20' '05:05' '06:25' '17:30' '08:20'\n",
      " '19:55' '06:30' '14:05' '02:00' '09:40' '08:25' '20:25' '13:15' '02:15'\n",
      " '16:55' '20:45' '05:15' '19:50' '20:00' '06:10' '19:30' '04:45' '12:55'\n",
      " '18:15' '17:20' '15:25' '23:00' '12:00' '14:45' '11:50' '11:30' '14:40'\n",
      " '19:10' '06:00' '23:30' '07:35' '13:05' '12:30' '15:10' '12:50' '18:25'\n",
      " '16:30' '00:40' '06:50' '13:00' '19:15' '01:30' '17:00' '10:00' '19:35'\n",
      " '15:30' '12:10' '16:10' '20:35' '22:25' '21:05' '05:35' '05:10' '06:40'\n",
      " '15:15' '00:30' '08:30' '07:10' '05:30' '14:25' '05:25' '10:20' '17:45'\n",
      " '13:10' '22:10' '04:55' '17:50' '21:20' '06:20' '15:55' '20:30' '17:25'\n",
      " '09:30' '07:30' '02:35' '10:55' '17:10' '09:10' '18:45' '15:20' '22:50'\n",
      " '14:55' '14:20' '13:25' '22:15' '11:05' '16:15' '20:10' '06:55' '19:05'\n",
      " '07:55' '07:45' '10:10' '08:15' '11:35' '21:00' '17:55' '16:45' '18:20'\n",
      " '03:50' '08:35' '19:20' '20:05' '17:40' '04:40' '17:35' '09:55' '05:00'\n",
      " '18:00' '02:55' '20:40' '22:55' '22:40' '21:30' '08:10' '17:05' '07:25'\n",
      " '15:45' '09:15' '15:50' '11:45' '22:05' '18:35' '00:25' '19:40' '20:50'\n",
      " '22:45' '10:30' '23:25' '11:55' '10:45' '11:15' '12:20' '14:30' '07:15'\n",
      " '01:35' '18:40' '09:20' '21:55' '13:50' '01:40' '00:20' '04:15' '13:45'\n",
      " '18:30' '06:15' '02:05' '12:15' '13:30' '06:35' '10:05' '08:40' '03:05'\n",
      " '21:35' '16:35' '02:30' '16:25' '05:40' '15:35' '13:40' '07:20' '04:50'\n",
      " '12:45' '10:25' '12:05' '11:20' '21:40' '03:00']\n",
      "__________________________________________________________\n",
      "\n",
      "Column 'Arrival_Time' has 1343 unique values \n",
      "\n",
      "['01:10 22 Mar' '13:15' '04:25 10 Jun' ... '06:50 10 Mar' '00:05 19 Mar'\n",
      " '21:20 13 Mar']\n",
      "__________________________________________________________\n",
      "\n",
      "Column 'Duration' has 368 unique values \n",
      "\n",
      "['2h 50m' '7h 25m' '19h' '5h 25m' '4h 45m' '2h 25m' '15h 30m' '21h 5m'\n",
      " '25h 30m' '7h 50m' '13h 15m' '2h 35m' '2h 15m' '12h 10m' '26h 35m'\n",
      " '4h 30m' '22h 35m' '23h' '20h 35m' '5h 10m' '15h 20m' '2h 55m' '13h 20m'\n",
      " '15h 10m' '5h 45m' '5h 55m' '13h 25m' '22h' '5h 30m' '10h 25m' '5h 15m'\n",
      " '2h 30m' '6h 15m' '11h 55m' '11h 5m' '8h 30m' '22h 5m' '2h 45m' '12h'\n",
      " '16h 5m' '19h 55m' '3h 15m' '25h 20m' '3h' '16h 15m' '15h 5m' '6h 30m'\n",
      " '25h 5m' '12h 25m' '27h 20m' '10h 15m' '10h 30m' '1h 30m' '1h 25m'\n",
      " '26h 30m' '7h 20m' '13h 30m' '5h' '19h 5m' '14h 50m' '2h 40m' '22h 10m'\n",
      " '9h 35m' '10h' '21h 20m' '18h 45m' '12h 20m' '18h' '9h 15m' '17h 30m'\n",
      " '16h 35m' '12h 15m' '7h 30m' '24h' '8h 55m' '7h 10m' '14h 30m' '30h 20m'\n",
      " '15h' '12h 45m' '10h 10m' '15h 25m' '14h 5m' '20h 15m' '23h 10m'\n",
      " '18h 10m' '16h' '2h 20m' '8h' '16h 55m' '3h 10m' '14h' '23h 50m'\n",
      " '21h 40m' '21h 15m' '10h 50m' '8h 15m' '8h 35m' '11h 50m' '27h 35m'\n",
      " '8h 25m' '20h 55m' '4h 50m' '8h 10m' '24h 25m' '23h 35m' '25h 45m'\n",
      " '26h 10m' '28h 50m' '25h 15m' '9h 20m' '9h 10m' '3h 5m' '11h 30m'\n",
      " '9h 30m' '17h 35m' '5h 5m' '25h 50m' '20h' '13h' '18h 25m' '24h 10m'\n",
      " '4h 55m' '25h 35m' '6h 20m' '18h 40m' '19h 25m' '29h 20m' '9h 5m'\n",
      " '10h 45m' '11h 40m' '22h 55m' '37h 25m' '25h 40m' '13h 55m' '8h 40m'\n",
      " '23h 30m' '12h 35m' '24h 15m' '1h 20m' '11h' '11h 15m' '14h 35m'\n",
      " '12h 55m' '9h' '7h 40m' '11h 45m' '24h 55m' '17h 5m' '29h 55m' '22h 15m'\n",
      " '14h 40m' '7h 15m' '20h 10m' '20h 45m' '27h' '24h 30m' '20h 25m' '5h 35m'\n",
      " '14h 45m' '5h 40m' '4h 5m' '15h 55m' '7h 45m' '28h 20m' '4h 20m' '3h 40m'\n",
      " '8h 50m' '23h 45m' '24h 45m' '21h 35m' '8h 5m' '6h 25m' '15h 50m'\n",
      " '26h 25m' '24h 50m' '26h' '23h 5m' '7h 55m' '26h 20m' '23h 15m' '5h 20m'\n",
      " '4h' '9h 45m' '8h 20m' '17h 25m' '7h 5m' '34h 5m' '6h 5m' '5h 50m' '7h'\n",
      " '4h 25m' '13h 45m' '19h 15m' '22h 30m' '16h 25m' '13h 50m' '27h 5m'\n",
      " '28h 10m' '4h 40m' '15h 40m' '4h 35m' '18h 30m' '38h 15m' '6h 35m'\n",
      " '12h 30m' '11h 20m' '7h 35m' '29h 35m' '26h 55m' '23h 40m' '12h 50m'\n",
      " '9h 50m' '21h 55m' '10h 55m' '21h 10m' '20h 40m' '30h' '13h 10m' '8h 45m'\n",
      " '6h 10m' '17h 45m' '21h 45m' '3h 55m' '17h 20m' '30h 30m' '21h 25m'\n",
      " '12h 40m' '24h 35m' '19h 10m' '22h 40m' '14h 55m' '21h' '6h 45m'\n",
      " '28h 40m' '9h 40m' '16h 40m' '16h 20m' '16h 45m' '1h 15m' '6h 55m'\n",
      " '11h 25m' '14h 20m' '12h 5m' '24h 5m' '28h 15m' '17h 50m' '20h 20m'\n",
      " '28h 5m' '10h 20m' '14h 15m' '35h 15m' '35h 35m' '26h 40m' '28h'\n",
      " '14h 25m' '13h 5m' '37h 20m' '36h 10m' '25h 55m' '35h 5m' '19h 45m'\n",
      " '27h 55m' '47h' '10h 35m' '1h 35m' '16h 10m' '38h 20m' '6h' '16h 50m'\n",
      " '14h 10m' '23h 20m' '17h 40m' '11h 35m' '18h 20m' '6h 40m' '30h 55m'\n",
      " '24h 40m' '29h 50m' '28h 25m' '17h 15m' '22h 45m' '25h 25m' '21h 50m'\n",
      " '33h 15m' '30h 15m' '3h 35m' '27h 40m' '30h 25m' '18h 50m' '27h 45m'\n",
      " '15h 15m' '10h 40m' '26h 15m' '36h 25m' '26h 50m' '15h 45m' '19h 40m'\n",
      " '22h 25m' '19h 35m' '25h' '26h 45m' '38h' '4h 15m' '25h 10m' '18h 15m'\n",
      " '6h 50m' '23h 55m' '17h 55m' '23h 25m' '17h 10m' '24h 20m' '28h 30m'\n",
      " '27h 10m' '19h 20m' '15h 35m' '9h 25m' '21h 30m' '34h 25m' '18h 35m'\n",
      " '29h 40m' '26h 5m' '29h 5m' '27h 25m' '16h 30m' '11h 10m' '28h 55m'\n",
      " '29h 10m' '34h' '30h 40m' '30h 45m' '32h 55m' '10h 5m' '35h 20m' '32h 5m'\n",
      " '31h 40m' '19h 50m' '33h 45m' '30h 10m' '13h 40m' '19h 30m' '31h 30m'\n",
      " '34h 30m' '27h 50m' '38h 35m' '42h 5m' '4h 10m' '39h 5m' '3h 50m' '5m'\n",
      " '32h 30m' '31h 55m' '33h 20m' '27h 30m' '18h 55m' '9h 55m' '41h 20m'\n",
      " '20h 5m' '31h 50m' '42h 45m' '3h 25m' '37h 10m' '29h 30m' '32h 20m'\n",
      " '20h 50m' '40h 20m' '13h 35m' '47h 40m']\n",
      "__________________________________________________________\n",
      "\n",
      "Column 'Total_Stops' has 5 unique values \n",
      "\n",
      "['non-stop' '2 stops' '1 stop' '3 stops' '4 stops']\n",
      "__________________________________________________________\n",
      "\n",
      "Column 'Additional_Info' has 10 unique values \n",
      "\n",
      "['No info' 'In-flight meal not included' 'No check-in baggage included'\n",
      " '1 Short layover' 'No Info' '1 Long layover' 'Change airports'\n",
      " 'Business class' 'Red-eye flight' '2 Long layover']\n",
      "__________________________________________________________\n",
      "\n",
      "Column 'Price' has 1870 unique values \n",
      "\n",
      "[ 3897  7662 13882 ...  9790 12352 12648]\n",
      "__________________________________________________________\n",
      "\n"
     ]
    }
   ],
   "source": [
    "def show_unique_values(data):\n",
    "    for column in data.columns:\n",
    "        unique_values = data[column].unique()\n",
    "        print(f\"Column '{column}' has {len(unique_values)} unique values\", \"\\n\")\n",
    "        print(unique_values)\n",
    "        print(\"__________________________________________________________\\n\")\n",
    "show_unique_values(data)"
   ]
  },
  {
   "cell_type": "markdown",
   "id": "6231b19f",
   "metadata": {
    "papermill": {
     "duration": 0.035783,
     "end_time": "2024-09-07T13:23:38.983456",
     "exception": false,
     "start_time": "2024-09-07T13:23:38.947673",
     "status": "completed"
    },
    "tags": []
   },
   "source": [
    "### We split \"Date_of_Journey\" the  column into three columns: \"Day_of_Journey\", \"Month_of_Journey\", and \"Year_of_Journey\"."
   ]
  },
  {
   "cell_type": "code",
   "execution_count": 15,
   "id": "e515c70b",
   "metadata": {
    "execution": {
     "iopub.execute_input": "2024-09-07T13:23:39.057423Z",
     "iopub.status.busy": "2024-09-07T13:23:39.056907Z",
     "iopub.status.idle": "2024-09-07T13:23:39.088291Z",
     "shell.execute_reply": "2024-09-07T13:23:39.086871Z"
    },
    "papermill": {
     "duration": 0.071632,
     "end_time": "2024-09-07T13:23:39.091132",
     "exception": false,
     "start_time": "2024-09-07T13:23:39.019500",
     "status": "completed"
    },
    "tags": []
   },
   "outputs": [],
   "source": [
    "data[\"Day_of_Journey\"] = data[\"Date_of_Journey\"].apply(lambda day:day.split('/')[0])\n",
    "data[\"Month_of_Journey\"] = data[\"Date_of_Journey\"].apply(lambda month : month.split('/')[1])\n",
    "data[\"Year_of_Journey\"] = data[\"Date_of_Journey\"].apply(lambda year : year.split('/')[2])"
   ]
  },
  {
   "cell_type": "code",
   "execution_count": 16,
   "id": "f5fa35d0",
   "metadata": {
    "execution": {
     "iopub.execute_input": "2024-09-07T13:23:39.166039Z",
     "iopub.status.busy": "2024-09-07T13:23:39.165529Z",
     "iopub.status.idle": "2024-09-07T13:23:39.175143Z",
     "shell.execute_reply": "2024-09-07T13:23:39.173965Z"
    },
    "papermill": {
     "duration": 0.049679,
     "end_time": "2024-09-07T13:23:39.177699",
     "exception": false,
     "start_time": "2024-09-07T13:23:39.128020",
     "status": "completed"
    },
    "tags": []
   },
   "outputs": [
    {
     "data": {
      "text/plain": [
       "array(['2019'], dtype=object)"
      ]
     },
     "execution_count": 16,
     "metadata": {},
     "output_type": "execute_result"
    }
   ],
   "source": [
    "data[\"Year_of_Journey\"].unique()"
   ]
  },
  {
   "cell_type": "markdown",
   "id": "48e4a5ed",
   "metadata": {
    "papermill": {
     "duration": 0.036178,
     "end_time": "2024-09-07T13:23:39.250866",
     "exception": false,
     "start_time": "2024-09-07T13:23:39.214688",
     "status": "completed"
    },
    "tags": []
   },
   "source": [
    "### We found that all the trip dates are in the same year, so we will delete thate coloumn."
   ]
  },
  {
   "cell_type": "code",
   "execution_count": 17,
   "id": "3fe337b6",
   "metadata": {
    "execution": {
     "iopub.execute_input": "2024-09-07T13:23:39.325256Z",
     "iopub.status.busy": "2024-09-07T13:23:39.324779Z",
     "iopub.status.idle": "2024-09-07T13:23:39.338652Z",
     "shell.execute_reply": "2024-09-07T13:23:39.337119Z"
    },
    "papermill": {
     "duration": 0.054728,
     "end_time": "2024-09-07T13:23:39.341572",
     "exception": false,
     "start_time": "2024-09-07T13:23:39.286844",
     "status": "completed"
    },
    "tags": []
   },
   "outputs": [],
   "source": [
    "data.drop([\"Year_of_Journey\"],axis=1,inplace=True)\n",
    "data.reset_index(inplace=True)\n",
    "data.drop(['index'],axis=1,inplace=True)"
   ]
  },
  {
   "cell_type": "code",
   "execution_count": 18,
   "id": "8be66a0f",
   "metadata": {
    "execution": {
     "iopub.execute_input": "2024-09-07T13:23:39.415767Z",
     "iopub.status.busy": "2024-09-07T13:23:39.415298Z",
     "iopub.status.idle": "2024-09-07T13:23:39.432350Z",
     "shell.execute_reply": "2024-09-07T13:23:39.431033Z"
    },
    "papermill": {
     "duration": 0.05754,
     "end_time": "2024-09-07T13:23:39.435146",
     "exception": false,
     "start_time": "2024-09-07T13:23:39.377606",
     "status": "completed"
    },
    "tags": []
   },
   "outputs": [
    {
     "data": {
      "text/html": [
       "<div>\n",
       "<style scoped>\n",
       "    .dataframe tbody tr th:only-of-type {\n",
       "        vertical-align: middle;\n",
       "    }\n",
       "\n",
       "    .dataframe tbody tr th {\n",
       "        vertical-align: top;\n",
       "    }\n",
       "\n",
       "    .dataframe thead th {\n",
       "        text-align: right;\n",
       "    }\n",
       "</style>\n",
       "<table border=\"1\" class=\"dataframe\">\n",
       "  <thead>\n",
       "    <tr style=\"text-align: right;\">\n",
       "      <th></th>\n",
       "      <th>Airline</th>\n",
       "      <th>Date_of_Journey</th>\n",
       "      <th>Source</th>\n",
       "      <th>Destination</th>\n",
       "      <th>Route</th>\n",
       "      <th>Dep_Time</th>\n",
       "      <th>Arrival_Time</th>\n",
       "      <th>Duration</th>\n",
       "      <th>Total_Stops</th>\n",
       "      <th>Additional_Info</th>\n",
       "      <th>Price</th>\n",
       "      <th>Day_of_Journey</th>\n",
       "      <th>Month_of_Journey</th>\n",
       "    </tr>\n",
       "  </thead>\n",
       "  <tbody>\n",
       "    <tr>\n",
       "      <th>0</th>\n",
       "      <td>IndiGo</td>\n",
       "      <td>24/03/2019</td>\n",
       "      <td>Banglore</td>\n",
       "      <td>New Delhi</td>\n",
       "      <td>BLR ? DEL</td>\n",
       "      <td>22:20</td>\n",
       "      <td>01:10 22 Mar</td>\n",
       "      <td>2h 50m</td>\n",
       "      <td>non-stop</td>\n",
       "      <td>No info</td>\n",
       "      <td>3897</td>\n",
       "      <td>24</td>\n",
       "      <td>03</td>\n",
       "    </tr>\n",
       "  </tbody>\n",
       "</table>\n",
       "</div>"
      ],
      "text/plain": [
       "  Airline Date_of_Journey    Source Destination      Route Dep_Time  \\\n",
       "0  IndiGo      24/03/2019  Banglore   New Delhi  BLR ? DEL    22:20   \n",
       "\n",
       "   Arrival_Time Duration Total_Stops Additional_Info  Price Day_of_Journey  \\\n",
       "0  01:10 22 Mar   2h 50m    non-stop         No info   3897             24   \n",
       "\n",
       "  Month_of_Journey  \n",
       "0               03  "
      ]
     },
     "execution_count": 18,
     "metadata": {},
     "output_type": "execute_result"
    }
   ],
   "source": [
    "data.head(1)"
   ]
  },
  {
   "cell_type": "code",
   "execution_count": 19,
   "id": "67b8275a",
   "metadata": {
    "execution": {
     "iopub.execute_input": "2024-09-07T13:23:39.510800Z",
     "iopub.status.busy": "2024-09-07T13:23:39.510291Z",
     "iopub.status.idle": "2024-09-07T13:23:39.519826Z",
     "shell.execute_reply": "2024-09-07T13:23:39.518429Z"
    },
    "papermill": {
     "duration": 0.050247,
     "end_time": "2024-09-07T13:23:39.522604",
     "exception": false,
     "start_time": "2024-09-07T13:23:39.472357",
     "status": "completed"
    },
    "tags": []
   },
   "outputs": [
    {
     "data": {
      "text/plain": [
       "array(['24', '1', '9', '12', '01', '27', '18', '3', '15', '6', '21', '06',\n",
       "       '09', '03'], dtype=object)"
      ]
     },
     "execution_count": 19,
     "metadata": {},
     "output_type": "execute_result"
    }
   ],
   "source": [
    "data[\"Day_of_Journey\"].unique()"
   ]
  },
  {
   "cell_type": "code",
   "execution_count": 20,
   "id": "ca9d0c9e",
   "metadata": {
    "execution": {
     "iopub.execute_input": "2024-09-07T13:23:39.597727Z",
     "iopub.status.busy": "2024-09-07T13:23:39.597282Z",
     "iopub.status.idle": "2024-09-07T13:23:39.606618Z",
     "shell.execute_reply": "2024-09-07T13:23:39.605485Z"
    },
    "papermill": {
     "duration": 0.049917,
     "end_time": "2024-09-07T13:23:39.609383",
     "exception": false,
     "start_time": "2024-09-07T13:23:39.559466",
     "status": "completed"
    },
    "tags": []
   },
   "outputs": [
    {
     "data": {
      "text/plain": [
       "array(['03', '05', '06', '04'], dtype=object)"
      ]
     },
     "execution_count": 20,
     "metadata": {},
     "output_type": "execute_result"
    }
   ],
   "source": [
    "data[\"Month_of_Journey\"].unique()"
   ]
  },
  {
   "cell_type": "markdown",
   "id": "e4fbfac5",
   "metadata": {
    "papermill": {
     "duration": 0.036652,
     "end_time": "2024-09-07T13:23:39.682519",
     "exception": false,
     "start_time": "2024-09-07T13:23:39.645867",
     "status": "completed"
    },
    "tags": []
   },
   "source": [
    "### As we can see in the columns Day_of_Journey and Month_of_Journey, the values are of type object, so we need to convert them to integers. "
   ]
  },
  {
   "cell_type": "code",
   "execution_count": 21,
   "id": "4d4a293c",
   "metadata": {
    "execution": {
     "iopub.execute_input": "2024-09-07T13:23:39.761633Z",
     "iopub.status.busy": "2024-09-07T13:23:39.761012Z",
     "iopub.status.idle": "2024-09-07T13:23:39.775315Z",
     "shell.execute_reply": "2024-09-07T13:23:39.773648Z"
    },
    "papermill": {
     "duration": 0.059544,
     "end_time": "2024-09-07T13:23:39.779100",
     "exception": false,
     "start_time": "2024-09-07T13:23:39.719556",
     "status": "completed"
    },
    "tags": []
   },
   "outputs": [],
   "source": [
    "data['Day_of_Journey'] = data['Day_of_Journey'].astype(int)\n",
    "data['Month_of_Journey'] = data['Month_of_Journey'].astype(int)"
   ]
  },
  {
   "cell_type": "code",
   "execution_count": 22,
   "id": "91ac052e",
   "metadata": {
    "execution": {
     "iopub.execute_input": "2024-09-07T13:23:39.861825Z",
     "iopub.status.busy": "2024-09-07T13:23:39.860774Z",
     "iopub.status.idle": "2024-09-07T13:23:39.869340Z",
     "shell.execute_reply": "2024-09-07T13:23:39.867955Z"
    },
    "papermill": {
     "duration": 0.049432,
     "end_time": "2024-09-07T13:23:39.872048",
     "exception": false,
     "start_time": "2024-09-07T13:23:39.822616",
     "status": "completed"
    },
    "tags": []
   },
   "outputs": [
    {
     "data": {
      "text/plain": [
       "array([24,  1,  9, 12, 27, 18,  3, 15,  6, 21])"
      ]
     },
     "execution_count": 22,
     "metadata": {},
     "output_type": "execute_result"
    }
   ],
   "source": [
    "data[\"Day_of_Journey\"].unique()"
   ]
  },
  {
   "cell_type": "code",
   "execution_count": 23,
   "id": "f52cac60",
   "metadata": {
    "execution": {
     "iopub.execute_input": "2024-09-07T13:23:39.971120Z",
     "iopub.status.busy": "2024-09-07T13:23:39.970640Z",
     "iopub.status.idle": "2024-09-07T13:23:39.979265Z",
     "shell.execute_reply": "2024-09-07T13:23:39.978014Z"
    },
    "papermill": {
     "duration": 0.058656,
     "end_time": "2024-09-07T13:23:39.981796",
     "exception": false,
     "start_time": "2024-09-07T13:23:39.923140",
     "status": "completed"
    },
    "tags": []
   },
   "outputs": [
    {
     "data": {
      "text/plain": [
       "array([3, 5, 6, 4])"
      ]
     },
     "execution_count": 23,
     "metadata": {},
     "output_type": "execute_result"
    }
   ],
   "source": [
    "data[\"Month_of_Journey\"].unique()"
   ]
  },
  {
   "cell_type": "markdown",
   "id": "fe3a7135",
   "metadata": {
    "papermill": {
     "duration": 0.036526,
     "end_time": "2024-09-07T13:23:40.055226",
     "exception": false,
     "start_time": "2024-09-07T13:23:40.018700",
     "status": "completed"
    },
    "tags": []
   },
   "source": [
    "### check is thath any abnormal values in \"Dep_Time\" coloumn"
   ]
  },
  {
   "cell_type": "code",
   "execution_count": 24,
   "id": "7822b5d6",
   "metadata": {
    "execution": {
     "iopub.execute_input": "2024-09-07T13:23:40.143487Z",
     "iopub.status.busy": "2024-09-07T13:23:40.143005Z",
     "iopub.status.idle": "2024-09-07T13:23:40.161368Z",
     "shell.execute_reply": "2024-09-07T13:23:40.159958Z"
    },
    "papermill": {
     "duration": 0.065041,
     "end_time": "2024-09-07T13:23:40.164300",
     "exception": false,
     "start_time": "2024-09-07T13:23:40.099259",
     "status": "completed"
    },
    "scrolled": true,
    "tags": []
   },
   "outputs": [],
   "source": [
    "dep_time = pd.Series([len(time.split()) for time in data[\"Dep_Time\"].tolist()]).value_counts()"
   ]
  },
  {
   "cell_type": "code",
   "execution_count": 25,
   "id": "7613da1b",
   "metadata": {
    "execution": {
     "iopub.execute_input": "2024-09-07T13:23:40.244387Z",
     "iopub.status.busy": "2024-09-07T13:23:40.243873Z",
     "iopub.status.idle": "2024-09-07T13:23:40.251188Z",
     "shell.execute_reply": "2024-09-07T13:23:40.249978Z"
    },
    "papermill": {
     "duration": 0.048434,
     "end_time": "2024-09-07T13:23:40.253839",
     "exception": false,
     "start_time": "2024-09-07T13:23:40.205405",
     "status": "completed"
    },
    "tags": []
   },
   "outputs": [
    {
     "name": "stdout",
     "output_type": "stream",
     "text": [
      "1    10682\n",
      "Name: count, dtype: int64\n"
     ]
    }
   ],
   "source": [
    "print(dep_time)"
   ]
  },
  {
   "cell_type": "code",
   "execution_count": 26,
   "id": "0f2bbec7",
   "metadata": {
    "execution": {
     "iopub.execute_input": "2024-09-07T13:23:40.332003Z",
     "iopub.status.busy": "2024-09-07T13:23:40.331516Z",
     "iopub.status.idle": "2024-09-07T13:23:40.344254Z",
     "shell.execute_reply": "2024-09-07T13:23:40.342910Z"
    },
    "papermill": {
     "duration": 0.054883,
     "end_time": "2024-09-07T13:23:40.346730",
     "exception": false,
     "start_time": "2024-09-07T13:23:40.291847",
     "status": "completed"
    },
    "tags": []
   },
   "outputs": [],
   "source": [
    "data['AccurateArrivalTime'] = data['Arrival_Time'].apply(lambda x : x.split()[0])"
   ]
  },
  {
   "cell_type": "code",
   "execution_count": 27,
   "id": "4cc11773",
   "metadata": {
    "execution": {
     "iopub.execute_input": "2024-09-07T13:23:40.423086Z",
     "iopub.status.busy": "2024-09-07T13:23:40.422315Z",
     "iopub.status.idle": "2024-09-07T13:23:40.442112Z",
     "shell.execute_reply": "2024-09-07T13:23:40.440282Z"
    },
    "papermill": {
     "duration": 0.062071,
     "end_time": "2024-09-07T13:23:40.445950",
     "exception": false,
     "start_time": "2024-09-07T13:23:40.383879",
     "status": "completed"
    },
    "tags": []
   },
   "outputs": [
    {
     "data": {
      "text/html": [
       "<div>\n",
       "<style scoped>\n",
       "    .dataframe tbody tr th:only-of-type {\n",
       "        vertical-align: middle;\n",
       "    }\n",
       "\n",
       "    .dataframe tbody tr th {\n",
       "        vertical-align: top;\n",
       "    }\n",
       "\n",
       "    .dataframe thead th {\n",
       "        text-align: right;\n",
       "    }\n",
       "</style>\n",
       "<table border=\"1\" class=\"dataframe\">\n",
       "  <thead>\n",
       "    <tr style=\"text-align: right;\">\n",
       "      <th></th>\n",
       "      <th>Airline</th>\n",
       "      <th>Date_of_Journey</th>\n",
       "      <th>Source</th>\n",
       "      <th>Destination</th>\n",
       "      <th>Route</th>\n",
       "      <th>Dep_Time</th>\n",
       "      <th>Arrival_Time</th>\n",
       "      <th>Duration</th>\n",
       "      <th>Total_Stops</th>\n",
       "      <th>Additional_Info</th>\n",
       "      <th>Price</th>\n",
       "      <th>Day_of_Journey</th>\n",
       "      <th>Month_of_Journey</th>\n",
       "      <th>AccurateArrivalTime</th>\n",
       "    </tr>\n",
       "  </thead>\n",
       "  <tbody>\n",
       "    <tr>\n",
       "      <th>0</th>\n",
       "      <td>IndiGo</td>\n",
       "      <td>24/03/2019</td>\n",
       "      <td>Banglore</td>\n",
       "      <td>New Delhi</td>\n",
       "      <td>BLR ? DEL</td>\n",
       "      <td>22:20</td>\n",
       "      <td>01:10 22 Mar</td>\n",
       "      <td>2h 50m</td>\n",
       "      <td>non-stop</td>\n",
       "      <td>No info</td>\n",
       "      <td>3897</td>\n",
       "      <td>24</td>\n",
       "      <td>3</td>\n",
       "      <td>01:10</td>\n",
       "    </tr>\n",
       "    <tr>\n",
       "      <th>1</th>\n",
       "      <td>Air India</td>\n",
       "      <td>1/05/2019</td>\n",
       "      <td>Kolkata</td>\n",
       "      <td>Banglore</td>\n",
       "      <td>CCU ? IXR ? BBI ? BLR</td>\n",
       "      <td>05:50</td>\n",
       "      <td>13:15</td>\n",
       "      <td>7h 25m</td>\n",
       "      <td>2 stops</td>\n",
       "      <td>No info</td>\n",
       "      <td>7662</td>\n",
       "      <td>1</td>\n",
       "      <td>5</td>\n",
       "      <td>13:15</td>\n",
       "    </tr>\n",
       "    <tr>\n",
       "      <th>2</th>\n",
       "      <td>Jet Airways</td>\n",
       "      <td>9/06/2019</td>\n",
       "      <td>Delhi</td>\n",
       "      <td>Cochin</td>\n",
       "      <td>DEL ? LKO ? BOM ? COK</td>\n",
       "      <td>09:25</td>\n",
       "      <td>04:25 10 Jun</td>\n",
       "      <td>19h</td>\n",
       "      <td>2 stops</td>\n",
       "      <td>No info</td>\n",
       "      <td>13882</td>\n",
       "      <td>9</td>\n",
       "      <td>6</td>\n",
       "      <td>04:25</td>\n",
       "    </tr>\n",
       "  </tbody>\n",
       "</table>\n",
       "</div>"
      ],
      "text/plain": [
       "       Airline Date_of_Journey    Source Destination                  Route  \\\n",
       "0       IndiGo      24/03/2019  Banglore   New Delhi              BLR ? DEL   \n",
       "1    Air India       1/05/2019   Kolkata    Banglore  CCU ? IXR ? BBI ? BLR   \n",
       "2  Jet Airways       9/06/2019     Delhi      Cochin  DEL ? LKO ? BOM ? COK   \n",
       "\n",
       "  Dep_Time  Arrival_Time Duration Total_Stops Additional_Info  Price  \\\n",
       "0    22:20  01:10 22 Mar   2h 50m    non-stop         No info   3897   \n",
       "1    05:50         13:15   7h 25m     2 stops         No info   7662   \n",
       "2    09:25  04:25 10 Jun      19h     2 stops         No info  13882   \n",
       "\n",
       "   Day_of_Journey  Month_of_Journey AccurateArrivalTime  \n",
       "0              24                 3               01:10  \n",
       "1               1                 5               13:15  \n",
       "2               9                 6               04:25  "
      ]
     },
     "execution_count": 27,
     "metadata": {},
     "output_type": "execute_result"
    }
   ],
   "source": [
    "data.head(3)"
   ]
  },
  {
   "cell_type": "code",
   "execution_count": 28,
   "id": "38d4195c",
   "metadata": {
    "execution": {
     "iopub.execute_input": "2024-09-07T13:23:40.532877Z",
     "iopub.status.busy": "2024-09-07T13:23:40.532388Z",
     "iopub.status.idle": "2024-09-07T13:23:40.539972Z",
     "shell.execute_reply": "2024-09-07T13:23:40.538917Z"
    },
    "papermill": {
     "duration": 0.052326,
     "end_time": "2024-09-07T13:23:40.542552",
     "exception": false,
     "start_time": "2024-09-07T13:23:40.490226",
     "status": "completed"
    },
    "tags": []
   },
   "outputs": [
    {
     "data": {
      "text/plain": [
       "(10682, 14)"
      ]
     },
     "execution_count": 28,
     "metadata": {},
     "output_type": "execute_result"
    }
   ],
   "source": [
    "data.shape"
   ]
  },
  {
   "cell_type": "markdown",
   "id": "a39f0610",
   "metadata": {
    "papermill": {
     "duration": 0.038187,
     "end_time": "2024-09-07T13:23:40.618096",
     "exception": false,
     "start_time": "2024-09-07T13:23:40.579909",
     "status": "completed"
    },
    "tags": []
   },
   "source": [
    "### We are checking if the \" : \" is present in the time for all rows or not, to ensure that we have extracted the time correctly from the \"AccurateArrivalTime\" column and that there is no incorrect information, such as a date of the month or day.\""
   ]
  },
  {
   "cell_type": "code",
   "execution_count": 29,
   "id": "06cd8ab1",
   "metadata": {
    "execution": {
     "iopub.execute_input": "2024-09-07T13:23:40.695627Z",
     "iopub.status.busy": "2024-09-07T13:23:40.695171Z",
     "iopub.status.idle": "2024-09-07T13:23:40.712033Z",
     "shell.execute_reply": "2024-09-07T13:23:40.710801Z"
    },
    "papermill": {
     "duration": 0.058559,
     "end_time": "2024-09-07T13:23:40.714643",
     "exception": false,
     "start_time": "2024-09-07T13:23:40.656084",
     "status": "completed"
    },
    "tags": []
   },
   "outputs": [],
   "source": [
    "counter = pd.Series(len(sign.split(\":\")) for sign in data[\"AccurateArrivalTime\"].tolist()).value_counts()"
   ]
  },
  {
   "cell_type": "code",
   "execution_count": 30,
   "id": "10a8ac3e",
   "metadata": {
    "execution": {
     "iopub.execute_input": "2024-09-07T13:23:40.792740Z",
     "iopub.status.busy": "2024-09-07T13:23:40.792248Z",
     "iopub.status.idle": "2024-09-07T13:23:40.799204Z",
     "shell.execute_reply": "2024-09-07T13:23:40.797626Z"
    },
    "papermill": {
     "duration": 0.050819,
     "end_time": "2024-09-07T13:23:40.803040",
     "exception": false,
     "start_time": "2024-09-07T13:23:40.752221",
     "status": "completed"
    },
    "tags": []
   },
   "outputs": [
    {
     "name": "stdout",
     "output_type": "stream",
     "text": [
      "2    10682\n",
      "Name: count, dtype: int64\n"
     ]
    }
   ],
   "source": [
    "print(counter)"
   ]
  },
  {
   "cell_type": "code",
   "execution_count": 31,
   "id": "4ce99789",
   "metadata": {
    "execution": {
     "iopub.execute_input": "2024-09-07T13:23:40.879905Z",
     "iopub.status.busy": "2024-09-07T13:23:40.879453Z",
     "iopub.status.idle": "2024-09-07T13:23:40.895146Z",
     "shell.execute_reply": "2024-09-07T13:23:40.893987Z"
    },
    "papermill": {
     "duration": 0.057124,
     "end_time": "2024-09-07T13:23:40.897748",
     "exception": false,
     "start_time": "2024-09-07T13:23:40.840624",
     "status": "completed"
    },
    "tags": []
   },
   "outputs": [],
   "source": [
    "counte = pd.Series(len(sign.split()) for sign in data[\"Arrival_Time\"].tolist()).value_counts()"
   ]
  },
  {
   "cell_type": "code",
   "execution_count": 32,
   "id": "6f69d230",
   "metadata": {
    "execution": {
     "iopub.execute_input": "2024-09-07T13:23:40.976514Z",
     "iopub.status.busy": "2024-09-07T13:23:40.976029Z",
     "iopub.status.idle": "2024-09-07T13:23:40.982328Z",
     "shell.execute_reply": "2024-09-07T13:23:40.981235Z"
    },
    "papermill": {
     "duration": 0.049465,
     "end_time": "2024-09-07T13:23:40.985485",
     "exception": false,
     "start_time": "2024-09-07T13:23:40.936020",
     "status": "completed"
    },
    "tags": []
   },
   "outputs": [
    {
     "name": "stdout",
     "output_type": "stream",
     "text": [
      "1    6348\n",
      "3    4334\n",
      "Name: count, dtype: int64\n"
     ]
    }
   ],
   "source": [
    "print(counte)"
   ]
  },
  {
   "cell_type": "code",
   "execution_count": 33,
   "id": "5a6f660b",
   "metadata": {
    "execution": {
     "iopub.execute_input": "2024-09-07T13:23:41.063305Z",
     "iopub.status.busy": "2024-09-07T13:23:41.062804Z",
     "iopub.status.idle": "2024-09-07T13:23:41.069840Z",
     "shell.execute_reply": "2024-09-07T13:23:41.068343Z"
    },
    "papermill": {
     "duration": 0.049071,
     "end_time": "2024-09-07T13:23:41.072668",
     "exception": false,
     "start_time": "2024-09-07T13:23:41.023597",
     "status": "completed"
    },
    "tags": []
   },
   "outputs": [],
   "source": [
    "def GetArriveDate(TripDate):\n",
    "    date = TripDate.split()\n",
    "    if len(date) == 1:\n",
    "        return \"None\" \n",
    "    elif len(date) == 3:\n",
    "        day = date[1]\n",
    "        month = date[2]\n",
    "        return day, month"
   ]
  },
  {
   "cell_type": "code",
   "execution_count": 34,
   "id": "bd25fc95",
   "metadata": {
    "execution": {
     "iopub.execute_input": "2024-09-07T13:23:41.149739Z",
     "iopub.status.busy": "2024-09-07T13:23:41.149312Z",
     "iopub.status.idle": "2024-09-07T13:23:43.243952Z",
     "shell.execute_reply": "2024-09-07T13:23:43.242644Z"
    },
    "papermill": {
     "duration": 2.136598,
     "end_time": "2024-09-07T13:23:43.246897",
     "exception": false,
     "start_time": "2024-09-07T13:23:41.110299",
     "status": "completed"
    },
    "tags": []
   },
   "outputs": [],
   "source": [
    "data[['AccurateArrivalDay', 'AccurateArrivalMonth']] = data['Arrival_Time'].apply(lambda x: pd.Series(GetArriveDate(x)))"
   ]
  },
  {
   "cell_type": "code",
   "execution_count": 35,
   "id": "52fac195",
   "metadata": {
    "execution": {
     "iopub.execute_input": "2024-09-07T13:23:43.325840Z",
     "iopub.status.busy": "2024-09-07T13:23:43.325393Z",
     "iopub.status.idle": "2024-09-07T13:23:43.335221Z",
     "shell.execute_reply": "2024-09-07T13:23:43.334034Z"
    },
    "papermill": {
     "duration": 0.051976,
     "end_time": "2024-09-07T13:23:43.337820",
     "exception": false,
     "start_time": "2024-09-07T13:23:43.285844",
     "status": "completed"
    },
    "tags": []
   },
   "outputs": [
    {
     "data": {
      "text/plain": [
       "array(['22', 'None', '10', '13', '02', '04', '28', '19', '07', '16', '25',\n",
       "       '20', '23', '11', '03', '08', '05', '26', '29', '17'], dtype=object)"
      ]
     },
     "execution_count": 35,
     "metadata": {},
     "output_type": "execute_result"
    }
   ],
   "source": [
    "data[\"AccurateArrivalDay\"].unique()"
   ]
  },
  {
   "cell_type": "code",
   "execution_count": 36,
   "id": "c0842e7a",
   "metadata": {
    "execution": {
     "iopub.execute_input": "2024-09-07T13:23:43.415971Z",
     "iopub.status.busy": "2024-09-07T13:23:43.415470Z",
     "iopub.status.idle": "2024-09-07T13:23:43.425544Z",
     "shell.execute_reply": "2024-09-07T13:23:43.424343Z"
    },
    "papermill": {
     "duration": 0.051724,
     "end_time": "2024-09-07T13:23:43.428097",
     "exception": false,
     "start_time": "2024-09-07T13:23:43.376373",
     "status": "completed"
    },
    "tags": []
   },
   "outputs": [
    {
     "data": {
      "text/plain": [
       "array(['Mar', nan, 'Jun', 'May', 'Apr'], dtype=object)"
      ]
     },
     "execution_count": 36,
     "metadata": {},
     "output_type": "execute_result"
    }
   ],
   "source": [
    "data[\"AccurateArrivalMonth\"].unique()"
   ]
  },
  {
   "cell_type": "code",
   "execution_count": 37,
   "id": "e64b8e49",
   "metadata": {
    "execution": {
     "iopub.execute_input": "2024-09-07T13:23:43.505994Z",
     "iopub.status.busy": "2024-09-07T13:23:43.505220Z",
     "iopub.status.idle": "2024-09-07T13:23:43.523913Z",
     "shell.execute_reply": "2024-09-07T13:23:43.522649Z"
    },
    "papermill": {
     "duration": 0.060523,
     "end_time": "2024-09-07T13:23:43.526628",
     "exception": false,
     "start_time": "2024-09-07T13:23:43.466105",
     "status": "completed"
    },
    "tags": []
   },
   "outputs": [
    {
     "data": {
      "text/html": [
       "<div>\n",
       "<style scoped>\n",
       "    .dataframe tbody tr th:only-of-type {\n",
       "        vertical-align: middle;\n",
       "    }\n",
       "\n",
       "    .dataframe tbody tr th {\n",
       "        vertical-align: top;\n",
       "    }\n",
       "\n",
       "    .dataframe thead th {\n",
       "        text-align: right;\n",
       "    }\n",
       "</style>\n",
       "<table border=\"1\" class=\"dataframe\">\n",
       "  <thead>\n",
       "    <tr style=\"text-align: right;\">\n",
       "      <th></th>\n",
       "      <th>Airline</th>\n",
       "      <th>Date_of_Journey</th>\n",
       "      <th>Source</th>\n",
       "      <th>Destination</th>\n",
       "      <th>Route</th>\n",
       "      <th>Dep_Time</th>\n",
       "      <th>Arrival_Time</th>\n",
       "      <th>Duration</th>\n",
       "      <th>Total_Stops</th>\n",
       "      <th>Additional_Info</th>\n",
       "      <th>Price</th>\n",
       "      <th>Day_of_Journey</th>\n",
       "      <th>Month_of_Journey</th>\n",
       "      <th>AccurateArrivalTime</th>\n",
       "      <th>AccurateArrivalDay</th>\n",
       "      <th>AccurateArrivalMonth</th>\n",
       "    </tr>\n",
       "  </thead>\n",
       "  <tbody>\n",
       "    <tr>\n",
       "      <th>0</th>\n",
       "      <td>IndiGo</td>\n",
       "      <td>24/03/2019</td>\n",
       "      <td>Banglore</td>\n",
       "      <td>New Delhi</td>\n",
       "      <td>BLR ? DEL</td>\n",
       "      <td>22:20</td>\n",
       "      <td>01:10 22 Mar</td>\n",
       "      <td>2h 50m</td>\n",
       "      <td>non-stop</td>\n",
       "      <td>No info</td>\n",
       "      <td>3897</td>\n",
       "      <td>24</td>\n",
       "      <td>3</td>\n",
       "      <td>01:10</td>\n",
       "      <td>22</td>\n",
       "      <td>Mar</td>\n",
       "    </tr>\n",
       "    <tr>\n",
       "      <th>1</th>\n",
       "      <td>Air India</td>\n",
       "      <td>1/05/2019</td>\n",
       "      <td>Kolkata</td>\n",
       "      <td>Banglore</td>\n",
       "      <td>CCU ? IXR ? BBI ? BLR</td>\n",
       "      <td>05:50</td>\n",
       "      <td>13:15</td>\n",
       "      <td>7h 25m</td>\n",
       "      <td>2 stops</td>\n",
       "      <td>No info</td>\n",
       "      <td>7662</td>\n",
       "      <td>1</td>\n",
       "      <td>5</td>\n",
       "      <td>13:15</td>\n",
       "      <td>None</td>\n",
       "      <td>NaN</td>\n",
       "    </tr>\n",
       "  </tbody>\n",
       "</table>\n",
       "</div>"
      ],
      "text/plain": [
       "     Airline Date_of_Journey    Source Destination                  Route  \\\n",
       "0     IndiGo      24/03/2019  Banglore   New Delhi              BLR ? DEL   \n",
       "1  Air India       1/05/2019   Kolkata    Banglore  CCU ? IXR ? BBI ? BLR   \n",
       "\n",
       "  Dep_Time  Arrival_Time Duration Total_Stops Additional_Info  Price  \\\n",
       "0    22:20  01:10 22 Mar   2h 50m    non-stop         No info   3897   \n",
       "1    05:50         13:15   7h 25m     2 stops         No info   7662   \n",
       "\n",
       "   Day_of_Journey  Month_of_Journey AccurateArrivalTime AccurateArrivalDay  \\\n",
       "0              24                 3               01:10                 22   \n",
       "1               1                 5               13:15               None   \n",
       "\n",
       "  AccurateArrivalMonth  \n",
       "0                  Mar  \n",
       "1                  NaN  "
      ]
     },
     "execution_count": 37,
     "metadata": {},
     "output_type": "execute_result"
    }
   ],
   "source": [
    "data.head(2)"
   ]
  },
  {
   "cell_type": "markdown",
   "id": "b8c25bff",
   "metadata": {
    "papermill": {
     "duration": 0.037732,
     "end_time": "2024-09-07T13:23:43.603372",
     "exception": false,
     "start_time": "2024-09-07T13:23:43.565640",
     "status": "completed"
    },
    "tags": []
   },
   "source": [
    "### We check the difference between the departure date and the arrival date. If the departure is on the 15th of the month and the arrival is on the 16th, then everything is fine, and there's no issue. However, if it's the other way around, then there is definitely an error in our data."
   ]
  },
  {
   "cell_type": "code",
   "execution_count": 38,
   "id": "9b7e3ea3",
   "metadata": {
    "execution": {
     "iopub.execute_input": "2024-09-07T13:23:43.682649Z",
     "iopub.status.busy": "2024-09-07T13:23:43.682177Z",
     "iopub.status.idle": "2024-09-07T13:23:44.016402Z",
     "shell.execute_reply": "2024-09-07T13:23:44.015099Z"
    },
    "papermill": {
     "duration": 0.377088,
     "end_time": "2024-09-07T13:23:44.019490",
     "exception": false,
     "start_time": "2024-09-07T13:23:43.642402",
     "status": "completed"
    },
    "tags": []
   },
   "outputs": [],
   "source": [
    "def FindWrongData(DepDay,ArrivalDay) : \n",
    "    if ArrivalDay != 'None' : \n",
    "        if int(ArrivalDay) < int(DepDay) : \n",
    "            return True\n",
    "        else : \n",
    "            return False\n",
    "    else : \n",
    "        return False\n",
    "    \n",
    "data[\"DayDifference\"] = data.apply(lambda x : FindWrongData(x.Day_of_Journey, x.AccurateArrivalDay), axis =1)"
   ]
  },
  {
   "cell_type": "code",
   "execution_count": 39,
   "id": "5742f05e",
   "metadata": {
    "execution": {
     "iopub.execute_input": "2024-09-07T13:23:44.098774Z",
     "iopub.status.busy": "2024-09-07T13:23:44.098294Z",
     "iopub.status.idle": "2024-09-07T13:23:44.109895Z",
     "shell.execute_reply": "2024-09-07T13:23:44.108527Z"
    },
    "papermill": {
     "duration": 0.054198,
     "end_time": "2024-09-07T13:23:44.112541",
     "exception": false,
     "start_time": "2024-09-07T13:23:44.058343",
     "status": "completed"
    },
    "tags": []
   },
   "outputs": [
    {
     "data": {
      "text/plain": [
       "DayDifference\n",
       "False    10593\n",
       "True        89\n",
       "Name: count, dtype: int64"
      ]
     },
     "execution_count": 39,
     "metadata": {},
     "output_type": "execute_result"
    }
   ],
   "source": [
    "data['DayDifference'].value_counts()"
   ]
  },
  {
   "cell_type": "code",
   "execution_count": 40,
   "id": "c1d36d51",
   "metadata": {
    "execution": {
     "iopub.execute_input": "2024-09-07T13:23:44.193817Z",
     "iopub.status.busy": "2024-09-07T13:23:44.192975Z",
     "iopub.status.idle": "2024-09-07T13:23:44.204343Z",
     "shell.execute_reply": "2024-09-07T13:23:44.203003Z"
    },
    "papermill": {
     "duration": 0.054658,
     "end_time": "2024-09-07T13:23:44.207285",
     "exception": false,
     "start_time": "2024-09-07T13:23:44.152627",
     "status": "completed"
    },
    "tags": []
   },
   "outputs": [
    {
     "data": {
      "text/plain": [
       "Index([    0,    21,   110,   379,   605,   628,  1115,  1268,  1318,  1354,\n",
       "        1478,  1538,  1721,  2010,  2089,  2095,  2108,  2353,  2364,  2537,\n",
       "        2568,  2588,  2618,  3170,  3247,  3301,  3639,  3836,  3913,  4053,\n",
       "        4120,  4428,  4476,  4615,  4624,  4723,  4764,  4839,  4913,  4948,\n",
       "        4953,  5067,  5130,  5133,  5214,  5419,  5464,  5545,  5591,  5803,\n",
       "        5814,  6154,  6173,  6239,  6436,  6494,  6677,  7146,  7337,  7507,\n",
       "        7527,  7584,  7612,  7738,  8000,  8068,  8182,  8603,  8934,  9197,\n",
       "        9320,  9452,  9514,  9555,  9688,  9843,  9929, 10003, 10120, 10150,\n",
       "       10244, 10323, 10342, 10367, 10440, 10488, 10589, 10637, 10659],\n",
       "      dtype='int64')"
      ]
     },
     "execution_count": 40,
     "metadata": {},
     "output_type": "execute_result"
    }
   ],
   "source": [
    "WrongIndices = data[data['DayDifference']==True].index\n",
    "WrongIndices"
   ]
  },
  {
   "cell_type": "markdown",
   "id": "96f28796",
   "metadata": {
    "papermill": {
     "duration": 0.038367,
     "end_time": "2024-09-07T13:23:44.286097",
     "exception": false,
     "start_time": "2024-09-07T13:23:44.247730",
     "status": "completed"
    },
    "tags": []
   },
   "source": [
    "### Let's assume that the departure date was the 30th of the month and the arrival date was the 1st of the following month. In this case, everything is fine, but the code won't understand that this is correct. So, we just double-check because the plane's arrival date shouldn't be before the departure date."
   ]
  },
  {
   "cell_type": "code",
   "execution_count": 41,
   "id": "214710b5",
   "metadata": {
    "execution": {
     "iopub.execute_input": "2024-09-07T13:23:44.366872Z",
     "iopub.status.busy": "2024-09-07T13:23:44.365819Z",
     "iopub.status.idle": "2024-09-07T13:23:44.371203Z",
     "shell.execute_reply": "2024-09-07T13:23:44.369895Z"
    },
    "papermill": {
     "duration": 0.048317,
     "end_time": "2024-09-07T13:23:44.373707",
     "exception": false,
     "start_time": "2024-09-07T13:23:44.325390",
     "status": "completed"
    },
    "tags": []
   },
   "outputs": [],
   "source": [
    "# data.loc[WrongIndices,['MonthOfJourney','AccurateArrivalMonth']]['MonthOfJourney'].unique()"
   ]
  },
  {
   "cell_type": "code",
   "execution_count": 42,
   "id": "8dbeedf1",
   "metadata": {
    "execution": {
     "iopub.execute_input": "2024-09-07T13:23:44.453153Z",
     "iopub.status.busy": "2024-09-07T13:23:44.452135Z",
     "iopub.status.idle": "2024-09-07T13:23:44.457673Z",
     "shell.execute_reply": "2024-09-07T13:23:44.456351Z"
    },
    "papermill": {
     "duration": 0.048094,
     "end_time": "2024-09-07T13:23:44.460326",
     "exception": false,
     "start_time": "2024-09-07T13:23:44.412232",
     "status": "completed"
    },
    "tags": []
   },
   "outputs": [],
   "source": [
    "# data.loc[WrongIndices'''Row''',['MonthOfJourney','AccurateArrivalMonth']'''coloumns''']['AccurateArrivalMonth  ''''specific task after filtering''' ].unique()"
   ]
  },
  {
   "cell_type": "code",
   "execution_count": 43,
   "id": "e23a73e5",
   "metadata": {
    "execution": {
     "iopub.execute_input": "2024-09-07T13:23:44.540340Z",
     "iopub.status.busy": "2024-09-07T13:23:44.539824Z",
     "iopub.status.idle": "2024-09-07T13:23:44.548971Z",
     "shell.execute_reply": "2024-09-07T13:23:44.547697Z"
    },
    "papermill": {
     "duration": 0.0526,
     "end_time": "2024-09-07T13:23:44.551763",
     "exception": false,
     "start_time": "2024-09-07T13:23:44.499163",
     "status": "completed"
    },
    "tags": []
   },
   "outputs": [
    {
     "data": {
      "text/plain": [
       "Index(['Airline', 'Date_of_Journey', 'Source', 'Destination', 'Route',\n",
       "       'Dep_Time', 'Arrival_Time', 'Duration', 'Total_Stops',\n",
       "       'Additional_Info', 'Price', 'Day_of_Journey', 'Month_of_Journey',\n",
       "       'AccurateArrivalTime', 'AccurateArrivalDay', 'AccurateArrivalMonth',\n",
       "       'DayDifference'],\n",
       "      dtype='object')"
      ]
     },
     "execution_count": 43,
     "metadata": {},
     "output_type": "execute_result"
    }
   ],
   "source": [
    "data.columns"
   ]
  },
  {
   "cell_type": "code",
   "execution_count": 44,
   "id": "e33fb314",
   "metadata": {
    "execution": {
     "iopub.execute_input": "2024-09-07T13:23:44.632125Z",
     "iopub.status.busy": "2024-09-07T13:23:44.631642Z",
     "iopub.status.idle": "2024-09-07T13:23:44.642744Z",
     "shell.execute_reply": "2024-09-07T13:23:44.641574Z"
    },
    "papermill": {
     "duration": 0.05437,
     "end_time": "2024-09-07T13:23:44.645527",
     "exception": false,
     "start_time": "2024-09-07T13:23:44.591157",
     "status": "completed"
    },
    "tags": []
   },
   "outputs": [],
   "source": [
    "MonthsDict  = {3:'Mar',4:'Apr'}\n",
    "for a,b in zip(data.loc[WrongIndices,['Month_of_Journey','AccurateArrivalMonth']]['Month_of_Journey'].tolist(),\n",
    "               data.loc[WrongIndices,['Month_of_Journey','AccurateArrivalMonth']]['AccurateArrivalMonth'].tolist()) : \n",
    "    if MonthsDict[a] != b : \n",
    "        print(a)"
   ]
  },
  {
   "cell_type": "markdown",
   "id": "f2476ed0",
   "metadata": {
    "papermill": {
     "duration": 0.039186,
     "end_time": "2024-09-07T13:23:44.723468",
     "exception": false,
     "start_time": "2024-09-07T13:23:44.684282",
     "status": "completed"
    },
    "tags": []
   },
   "source": [
    "### Here, the code didn't print anything, so we are fine, and there's nothing wrong with our data."
   ]
  },
  {
   "cell_type": "code",
   "execution_count": 45,
   "id": "4353081e",
   "metadata": {
    "execution": {
     "iopub.execute_input": "2024-09-07T13:23:44.803057Z",
     "iopub.status.busy": "2024-09-07T13:23:44.802565Z",
     "iopub.status.idle": "2024-09-07T13:23:44.819540Z",
     "shell.execute_reply": "2024-09-07T13:23:44.818038Z"
    },
    "papermill": {
     "duration": 0.060228,
     "end_time": "2024-09-07T13:23:44.822421",
     "exception": false,
     "start_time": "2024-09-07T13:23:44.762193",
     "status": "completed"
    },
    "tags": []
   },
   "outputs": [],
   "source": [
    "data.drop(data[data['DayDifference']==True].index,axis=0,inplace=True)\n",
    "data.reset_index(inplace=True)\n",
    "data.drop(['index'],axis=1,inplace=True)"
   ]
  },
  {
   "cell_type": "code",
   "execution_count": null,
   "id": "129d3932",
   "metadata": {
    "papermill": {
     "duration": 0.038976,
     "end_time": "2024-09-07T13:23:44.901034",
     "exception": false,
     "start_time": "2024-09-07T13:23:44.862058",
     "status": "completed"
    },
    "tags": []
   },
   "outputs": [],
   "source": []
  },
  {
   "cell_type": "code",
   "execution_count": 46,
   "id": "fc886128",
   "metadata": {
    "execution": {
     "iopub.execute_input": "2024-09-07T13:23:44.980859Z",
     "iopub.status.busy": "2024-09-07T13:23:44.979956Z",
     "iopub.status.idle": "2024-09-07T13:23:44.999211Z",
     "shell.execute_reply": "2024-09-07T13:23:44.997852Z"
    },
    "papermill": {
     "duration": 0.062369,
     "end_time": "2024-09-07T13:23:45.002018",
     "exception": false,
     "start_time": "2024-09-07T13:23:44.939649",
     "status": "completed"
    },
    "tags": []
   },
   "outputs": [
    {
     "data": {
      "text/plain": [
       "{1, 2, 4}"
      ]
     },
     "execution_count": 46,
     "metadata": {},
     "output_type": "execute_result"
    }
   ],
   "source": [
    "PartOfData = data[data['AccurateArrivalDay']!='None']\n",
    "Differences = []\n",
    "for a,b in zip(PartOfData['Day_of_Journey'].tolist(),PartOfData['AccurateArrivalDay'].tolist()) : \n",
    "    Differences.append(int(b) - int(a))\n",
    "set(Differences)"
   ]
  },
  {
   "cell_type": "code",
   "execution_count": 47,
   "id": "b6c8c936",
   "metadata": {
    "execution": {
     "iopub.execute_input": "2024-09-07T13:23:45.082211Z",
     "iopub.status.busy": "2024-09-07T13:23:45.081747Z",
     "iopub.status.idle": "2024-09-07T13:23:45.101719Z",
     "shell.execute_reply": "2024-09-07T13:23:45.100507Z"
    },
    "papermill": {
     "duration": 0.06341,
     "end_time": "2024-09-07T13:23:45.104465",
     "exception": false,
     "start_time": "2024-09-07T13:23:45.041055",
     "status": "completed"
    },
    "tags": []
   },
   "outputs": [
    {
     "data": {
      "text/html": [
       "<div>\n",
       "<style scoped>\n",
       "    .dataframe tbody tr th:only-of-type {\n",
       "        vertical-align: middle;\n",
       "    }\n",
       "\n",
       "    .dataframe tbody tr th {\n",
       "        vertical-align: top;\n",
       "    }\n",
       "\n",
       "    .dataframe thead th {\n",
       "        text-align: right;\n",
       "    }\n",
       "</style>\n",
       "<table border=\"1\" class=\"dataframe\">\n",
       "  <thead>\n",
       "    <tr style=\"text-align: right;\">\n",
       "      <th></th>\n",
       "      <th>Airline</th>\n",
       "      <th>Date_of_Journey</th>\n",
       "      <th>Source</th>\n",
       "      <th>Destination</th>\n",
       "      <th>Route</th>\n",
       "      <th>Dep_Time</th>\n",
       "      <th>Arrival_Time</th>\n",
       "      <th>Duration</th>\n",
       "      <th>Total_Stops</th>\n",
       "      <th>Additional_Info</th>\n",
       "      <th>Price</th>\n",
       "      <th>Day_of_Journey</th>\n",
       "      <th>Month_of_Journey</th>\n",
       "      <th>AccurateArrivalTime</th>\n",
       "      <th>AccurateArrivalDay</th>\n",
       "      <th>AccurateArrivalMonth</th>\n",
       "      <th>DayDifference</th>\n",
       "    </tr>\n",
       "  </thead>\n",
       "  <tbody>\n",
       "    <tr>\n",
       "      <th>0</th>\n",
       "      <td>Air India</td>\n",
       "      <td>1/05/2019</td>\n",
       "      <td>Kolkata</td>\n",
       "      <td>Banglore</td>\n",
       "      <td>CCU ? IXR ? BBI ? BLR</td>\n",
       "      <td>05:50</td>\n",
       "      <td>13:15</td>\n",
       "      <td>7h 25m</td>\n",
       "      <td>2 stops</td>\n",
       "      <td>No info</td>\n",
       "      <td>7662</td>\n",
       "      <td>1</td>\n",
       "      <td>5</td>\n",
       "      <td>13:15</td>\n",
       "      <td>None</td>\n",
       "      <td>NaN</td>\n",
       "      <td>False</td>\n",
       "    </tr>\n",
       "    <tr>\n",
       "      <th>1</th>\n",
       "      <td>Jet Airways</td>\n",
       "      <td>9/06/2019</td>\n",
       "      <td>Delhi</td>\n",
       "      <td>Cochin</td>\n",
       "      <td>DEL ? LKO ? BOM ? COK</td>\n",
       "      <td>09:25</td>\n",
       "      <td>04:25 10 Jun</td>\n",
       "      <td>19h</td>\n",
       "      <td>2 stops</td>\n",
       "      <td>No info</td>\n",
       "      <td>13882</td>\n",
       "      <td>9</td>\n",
       "      <td>6</td>\n",
       "      <td>04:25</td>\n",
       "      <td>10</td>\n",
       "      <td>Jun</td>\n",
       "      <td>False</td>\n",
       "    </tr>\n",
       "  </tbody>\n",
       "</table>\n",
       "</div>"
      ],
      "text/plain": [
       "       Airline Date_of_Journey   Source Destination                  Route  \\\n",
       "0    Air India       1/05/2019  Kolkata    Banglore  CCU ? IXR ? BBI ? BLR   \n",
       "1  Jet Airways       9/06/2019    Delhi      Cochin  DEL ? LKO ? BOM ? COK   \n",
       "\n",
       "  Dep_Time  Arrival_Time Duration Total_Stops Additional_Info  Price  \\\n",
       "0    05:50         13:15   7h 25m     2 stops         No info   7662   \n",
       "1    09:25  04:25 10 Jun      19h     2 stops         No info  13882   \n",
       "\n",
       "   Day_of_Journey  Month_of_Journey AccurateArrivalTime AccurateArrivalDay  \\\n",
       "0               1                 5               13:15               None   \n",
       "1               9                 6               04:25                 10   \n",
       "\n",
       "  AccurateArrivalMonth  DayDifference  \n",
       "0                  NaN          False  \n",
       "1                  Jun          False  "
      ]
     },
     "execution_count": 47,
     "metadata": {},
     "output_type": "execute_result"
    }
   ],
   "source": [
    "data.head(2)"
   ]
  },
  {
   "cell_type": "markdown",
   "id": "f193feb9",
   "metadata": {
    "papermill": {
     "duration": 0.038795,
     "end_time": "2024-09-07T13:23:45.182489",
     "exception": false,
     "start_time": "2024-09-07T13:23:45.143694",
     "status": "completed"
    },
    "tags": []
   },
   "source": [
    "### we compare the departure date with the arrival date and find that the difference between them is four days, this is considered a significant error, and we need to remove those values."
   ]
  },
  {
   "cell_type": "code",
   "execution_count": 48,
   "id": "5c8e2890",
   "metadata": {
    "execution": {
     "iopub.execute_input": "2024-09-07T13:23:45.264464Z",
     "iopub.status.busy": "2024-09-07T13:23:45.263984Z",
     "iopub.status.idle": "2024-09-07T13:23:45.591655Z",
     "shell.execute_reply": "2024-09-07T13:23:45.590178Z"
    },
    "papermill": {
     "duration": 0.37212,
     "end_time": "2024-09-07T13:23:45.594597",
     "exception": false,
     "start_time": "2024-09-07T13:23:45.222477",
     "status": "completed"
    },
    "tags": []
   },
   "outputs": [],
   "source": [
    "def GetDiff(ArrivalDay, Depday):\n",
    "    if ArrivalDay != \"None\":\n",
    "        \n",
    "        if int(ArrivalDay) - int(Depday) == 4:\n",
    "            return True\n",
    "        else :\n",
    "            return False\n",
    "    else :\n",
    "        return False\n",
    "\n",
    "data['Big Diff'] = data.apply(lambda x : GetDiff(x.AccurateArrivalDay,x.Day_of_Journey),axis=1)    "
   ]
  },
  {
   "cell_type": "code",
   "execution_count": 49,
   "id": "b680c666",
   "metadata": {
    "execution": {
     "iopub.execute_input": "2024-09-07T13:23:45.676440Z",
     "iopub.status.busy": "2024-09-07T13:23:45.675993Z",
     "iopub.status.idle": "2024-09-07T13:23:45.692653Z",
     "shell.execute_reply": "2024-09-07T13:23:45.691279Z"
    },
    "papermill": {
     "duration": 0.06196,
     "end_time": "2024-09-07T13:23:45.695653",
     "exception": false,
     "start_time": "2024-09-07T13:23:45.633693",
     "status": "completed"
    },
    "tags": []
   },
   "outputs": [],
   "source": [
    "data.drop(data[data['Big Diff']==True].index,axis=0,inplace=True)\n",
    "data.reset_index(inplace=True)\n",
    "data.drop(['index'],axis=1,inplace=True)\n"
   ]
  },
  {
   "cell_type": "code",
   "execution_count": 50,
   "id": "0b696443",
   "metadata": {
    "execution": {
     "iopub.execute_input": "2024-09-07T13:23:45.777273Z",
     "iopub.status.busy": "2024-09-07T13:23:45.776774Z",
     "iopub.status.idle": "2024-09-07T13:23:45.786253Z",
     "shell.execute_reply": "2024-09-07T13:23:45.785023Z"
    },
    "papermill": {
     "duration": 0.053682,
     "end_time": "2024-09-07T13:23:45.788882",
     "exception": false,
     "start_time": "2024-09-07T13:23:45.735200",
     "status": "completed"
    },
    "tags": []
   },
   "outputs": [
    {
     "data": {
      "text/plain": [
       "Big Diff\n",
       "False    10541\n",
       "Name: count, dtype: int64"
      ]
     },
     "execution_count": 50,
     "metadata": {},
     "output_type": "execute_result"
    }
   ],
   "source": [
    "data['Big Diff'].value_counts()"
   ]
  },
  {
   "cell_type": "code",
   "execution_count": null,
   "id": "ae14d976",
   "metadata": {
    "papermill": {
     "duration": 0.039996,
     "end_time": "2024-09-07T13:23:45.870332",
     "exception": false,
     "start_time": "2024-09-07T13:23:45.830336",
     "status": "completed"
    },
    "tags": []
   },
   "outputs": [],
   "source": []
  },
  {
   "cell_type": "code",
   "execution_count": 51,
   "id": "a5ad1797",
   "metadata": {
    "execution": {
     "iopub.execute_input": "2024-09-07T13:23:45.951727Z",
     "iopub.status.busy": "2024-09-07T13:23:45.950668Z",
     "iopub.status.idle": "2024-09-07T13:23:45.969905Z",
     "shell.execute_reply": "2024-09-07T13:23:45.968685Z"
    },
    "papermill": {
     "duration": 0.062832,
     "end_time": "2024-09-07T13:23:45.972379",
     "exception": false,
     "start_time": "2024-09-07T13:23:45.909547",
     "status": "completed"
    },
    "tags": []
   },
   "outputs": [
    {
     "data": {
      "text/plain": [
       "2    9522\n",
       "1    1019\n",
       "Name: count, dtype: int64"
      ]
     },
     "execution_count": 51,
     "metadata": {},
     "output_type": "execute_result"
    }
   ],
   "source": [
    "pd.Series([len(i.split()) for i in data['Duration'].tolist()]).value_counts()"
   ]
  },
  {
   "cell_type": "markdown",
   "id": "8dc3fda3",
   "metadata": {
    "papermill": {
     "duration": 0.039854,
     "end_time": "2024-09-07T13:23:46.051634",
     "exception": false,
     "start_time": "2024-09-07T13:23:46.011780",
     "status": "completed"
    },
    "tags": []
   },
   "source": [
    "### In the \"duration\" column, we check whether each flight time value contains both hours and minutes, only hours, only minutes, or if it contains \"None\" values (Not hours, Not minutes)."
   ]
  },
  {
   "cell_type": "code",
   "execution_count": 52,
   "id": "158aac25",
   "metadata": {
    "execution": {
     "iopub.execute_input": "2024-09-07T13:23:46.132869Z",
     "iopub.status.busy": "2024-09-07T13:23:46.132263Z",
     "iopub.status.idle": "2024-09-07T13:23:46.147174Z",
     "shell.execute_reply": "2024-09-07T13:23:46.146017Z"
    },
    "papermill": {
     "duration": 0.058815,
     "end_time": "2024-09-07T13:23:46.149808",
     "exception": false,
     "start_time": "2024-09-07T13:23:46.090993",
     "status": "completed"
    },
    "tags": []
   },
   "outputs": [
    {
     "data": {
      "text/plain": [
       "(9522, 1018, 1, 0)"
      ]
     },
     "execution_count": 52,
     "metadata": {},
     "output_type": "execute_result"
    }
   ],
   "source": [
    "BothHM,HAlone,MAlone,NoHM =0,0,0,0\n",
    "for i in data['Duration'].tolist() : \n",
    "    if 'h' in i and 'm' in i : \n",
    "        BothHM+= 1 \n",
    "    elif 'h' in i and not 'm' in i : \n",
    "        HAlone+=1\n",
    "    elif not 'h' in i and  'm' in i : \n",
    "        MAlone+=1\n",
    "    else : \n",
    "        NoHM  +=1\n",
    "        \n",
    "BothHM,HAlone,MAlone,NoHM     "
   ]
  },
  {
   "cell_type": "markdown",
   "id": "a9acf150",
   "metadata": {
    "papermill": {
     "duration": 0.040217,
     "end_time": "2024-09-07T13:23:46.231358",
     "exception": false,
     "start_time": "2024-09-07T13:23:46.191141",
     "status": "completed"
    },
    "tags": []
   },
   "source": [
    "### We found value that contains minutes and we need to check it"
   ]
  },
  {
   "cell_type": "code",
   "execution_count": 53,
   "id": "db442c4c",
   "metadata": {
    "execution": {
     "iopub.execute_input": "2024-09-07T13:23:46.314491Z",
     "iopub.status.busy": "2024-09-07T13:23:46.314038Z",
     "iopub.status.idle": "2024-09-07T13:23:46.323311Z",
     "shell.execute_reply": "2024-09-07T13:23:46.321960Z"
    },
    "papermill": {
     "duration": 0.054029,
     "end_time": "2024-09-07T13:23:46.326421",
     "exception": false,
     "start_time": "2024-09-07T13:23:46.272392",
     "status": "completed"
    },
    "tags": []
   },
   "outputs": [
    {
     "name": "stdout",
     "output_type": "stream",
     "text": [
      "6389\n"
     ]
    }
   ],
   "source": [
    "for index, value in enumerate(data['Duration'].tolist()) : \n",
    "    if 'h' not in value and 'm' in value : \n",
    "        print(index)"
   ]
  },
  {
   "cell_type": "code",
   "execution_count": 54,
   "id": "bce487a9",
   "metadata": {
    "execution": {
     "iopub.execute_input": "2024-09-07T13:23:46.408117Z",
     "iopub.status.busy": "2024-09-07T13:23:46.407577Z",
     "iopub.status.idle": "2024-09-07T13:23:46.417442Z",
     "shell.execute_reply": "2024-09-07T13:23:46.416143Z"
    },
    "papermill": {
     "duration": 0.05366,
     "end_time": "2024-09-07T13:23:46.420043",
     "exception": false,
     "start_time": "2024-09-07T13:23:46.366383",
     "status": "completed"
    },
    "tags": []
   },
   "outputs": [
    {
     "data": {
      "text/plain": [
       "Airline                             Air India\n",
       "Date_of_Journey                     6/03/2019\n",
       "Source                                 Mumbai\n",
       "Destination                         Hyderabad\n",
       "Route                   BOM ? GOI ? PNQ ? HYD\n",
       "Dep_Time                                16:50\n",
       "Arrival_Time                            16:55\n",
       "Duration                                   5m\n",
       "Total_Stops                           2 stops\n",
       "Additional_Info                       No info\n",
       "Price                                   17327\n",
       "Day_of_Journey                              6\n",
       "Month_of_Journey                            3\n",
       "AccurateArrivalTime                     16:55\n",
       "AccurateArrivalDay                       None\n",
       "AccurateArrivalMonth                      NaN\n",
       "DayDifference                           False\n",
       "Big Diff                                False\n",
       "Name: 6389, dtype: object"
      ]
     },
     "execution_count": 54,
     "metadata": {},
     "output_type": "execute_result"
    }
   ],
   "source": [
    "data.loc[6389, :]"
   ]
  },
  {
   "cell_type": "markdown",
   "id": "2c542874",
   "metadata": {
    "papermill": {
     "duration": 0.039618,
     "end_time": "2024-09-07T13:23:46.499836",
     "exception": false,
     "start_time": "2024-09-07T13:23:46.460218",
     "status": "completed"
    },
    "tags": []
   },
   "source": [
    "### We found that this value only contains five minutes for the flight duration and has four layovers, so we will remove this value. "
   ]
  },
  {
   "cell_type": "code",
   "execution_count": 55,
   "id": "54480801",
   "metadata": {
    "execution": {
     "iopub.execute_input": "2024-09-07T13:23:46.582634Z",
     "iopub.status.busy": "2024-09-07T13:23:46.582181Z",
     "iopub.status.idle": "2024-09-07T13:23:46.598799Z",
     "shell.execute_reply": "2024-09-07T13:23:46.597457Z"
    },
    "papermill": {
     "duration": 0.061887,
     "end_time": "2024-09-07T13:23:46.601957",
     "exception": false,
     "start_time": "2024-09-07T13:23:46.540070",
     "status": "completed"
    },
    "tags": []
   },
   "outputs": [],
   "source": [
    "data.drop([6389],axis = 0 , inplace=True)\n",
    "data.reset_index(inplace=True)\n",
    "data.drop(['index'],axis=1,inplace=True)"
   ]
  },
  {
   "cell_type": "markdown",
   "id": "5dea62f2",
   "metadata": {
    "papermill": {
     "duration": 0.039481,
     "end_time": "2024-09-07T13:23:46.681304",
     "exception": false,
     "start_time": "2024-09-07T13:23:46.641823",
     "status": "completed"
    },
    "tags": []
   },
   "source": [
    "### convert all time to minutes"
   ]
  },
  {
   "cell_type": "code",
   "execution_count": 56,
   "id": "afe3e319",
   "metadata": {
    "execution": {
     "iopub.execute_input": "2024-09-07T13:23:46.763502Z",
     "iopub.status.busy": "2024-09-07T13:23:46.762863Z",
     "iopub.status.idle": "2024-09-07T13:23:46.797814Z",
     "shell.execute_reply": "2024-09-07T13:23:46.796510Z"
    },
    "papermill": {
     "duration": 0.07971,
     "end_time": "2024-09-07T13:23:46.800787",
     "exception": false,
     "start_time": "2024-09-07T13:23:46.721077",
     "status": "completed"
    },
    "tags": []
   },
   "outputs": [],
   "source": [
    "def DurationTime(n) : \n",
    "    if 'm' in n : \n",
    "        H = n.split()[0]\n",
    "        H = H.strip('h')\n",
    "        \n",
    "        M = n.split()[1]\n",
    "        M = M.strip('m')\n",
    "        return (int(H)*60) + int(M)\n",
    "    else : \n",
    "        H = n.strip('h')\n",
    "        return int(H)*60\n",
    "        \n",
    "data['DurationInMinutes']= data['Duration'].apply(lambda x : DurationTime(x))\n"
   ]
  },
  {
   "cell_type": "code",
   "execution_count": null,
   "id": "00c12414",
   "metadata": {
    "papermill": {
     "duration": 0.040441,
     "end_time": "2024-09-07T13:23:46.882742",
     "exception": false,
     "start_time": "2024-09-07T13:23:46.842301",
     "status": "completed"
    },
    "tags": []
   },
   "outputs": [],
   "source": []
  },
  {
   "cell_type": "code",
   "execution_count": 57,
   "id": "461e5a2a",
   "metadata": {
    "execution": {
     "iopub.execute_input": "2024-09-07T13:23:46.964645Z",
     "iopub.status.busy": "2024-09-07T13:23:46.964192Z",
     "iopub.status.idle": "2024-09-07T13:23:46.976015Z",
     "shell.execute_reply": "2024-09-07T13:23:46.974788Z"
    },
    "papermill": {
     "duration": 0.055885,
     "end_time": "2024-09-07T13:23:46.978837",
     "exception": false,
     "start_time": "2024-09-07T13:23:46.922952",
     "status": "completed"
    },
    "tags": []
   },
   "outputs": [
    {
     "data": {
      "text/plain": [
       "Additional_Info\n",
       "No info                         8254\n",
       "In-flight meal not included     1930\n",
       "No check-in baggage included     320\n",
       "1 Long layover                    19\n",
       "Change airports                    7\n",
       "Business class                     4\n",
       "No Info                            3\n",
       "1 Short layover                    1\n",
       "Red-eye flight                     1\n",
       "2 Long layover                     1\n",
       "Name: count, dtype: int64"
      ]
     },
     "execution_count": 57,
     "metadata": {},
     "output_type": "execute_result"
    }
   ],
   "source": [
    "data['Additional_Info'].value_counts()"
   ]
  },
  {
   "cell_type": "code",
   "execution_count": 58,
   "id": "9ffb8cd6",
   "metadata": {
    "execution": {
     "iopub.execute_input": "2024-09-07T13:23:47.062315Z",
     "iopub.status.busy": "2024-09-07T13:23:47.061821Z",
     "iopub.status.idle": "2024-09-07T13:23:47.073973Z",
     "shell.execute_reply": "2024-09-07T13:23:47.072645Z"
    },
    "papermill": {
     "duration": 0.05662,
     "end_time": "2024-09-07T13:23:47.076725",
     "exception": false,
     "start_time": "2024-09-07T13:23:47.020105",
     "status": "completed"
    },
    "tags": []
   },
   "outputs": [
    {
     "data": {
      "text/plain": [
       "Additional_Info\n",
       "No info                         8254\n",
       "In-flight meal not included     1930\n",
       "No check-in baggage included     320\n",
       "1 Long layover                    19\n",
       "Change airports                    7\n",
       "Business class                     4\n",
       "No Info                            3\n",
       "1 Short layover                    1\n",
       "Red-eye flight                     1\n",
       "2 Long layover                     1\n",
       "Name: count, dtype: int64"
      ]
     },
     "execution_count": 58,
     "metadata": {},
     "output_type": "execute_result"
    }
   ],
   "source": [
    "data['Additional_Info'].value_counts()"
   ]
  },
  {
   "cell_type": "code",
   "execution_count": null,
   "id": "7ac3f00b",
   "metadata": {
    "papermill": {
     "duration": 0.040602,
     "end_time": "2024-09-07T13:23:47.159066",
     "exception": false,
     "start_time": "2024-09-07T13:23:47.118464",
     "status": "completed"
    },
    "tags": []
   },
   "outputs": [],
   "source": []
  },
  {
   "cell_type": "code",
   "execution_count": 59,
   "id": "c8196962",
   "metadata": {
    "execution": {
     "iopub.execute_input": "2024-09-07T13:23:47.241892Z",
     "iopub.status.busy": "2024-09-07T13:23:47.241419Z",
     "iopub.status.idle": "2024-09-07T13:23:47.261496Z",
     "shell.execute_reply": "2024-09-07T13:23:47.260329Z"
    },
    "papermill": {
     "duration": 0.064575,
     "end_time": "2024-09-07T13:23:47.264192",
     "exception": false,
     "start_time": "2024-09-07T13:23:47.199617",
     "status": "completed"
    },
    "tags": []
   },
   "outputs": [
    {
     "data": {
      "text/plain": [
       "MealIncluded\n",
       "1    8610\n",
       "0    1930\n",
       "Name: count, dtype: int64"
      ]
     },
     "execution_count": 59,
     "metadata": {},
     "output_type": "execute_result"
    }
   ],
   "source": [
    "data['MealIncluded'] = data['Additional_Info'].apply(lambda x : 1 if x != 'In-flight meal not included' else 0)\n",
    "data['MealIncluded'].value_counts()"
   ]
  },
  {
   "cell_type": "code",
   "execution_count": null,
   "id": "4c6d1295",
   "metadata": {
    "papermill": {
     "duration": 0.040275,
     "end_time": "2024-09-07T13:23:47.345605",
     "exception": false,
     "start_time": "2024-09-07T13:23:47.305330",
     "status": "completed"
    },
    "tags": []
   },
   "outputs": [],
   "source": []
  },
  {
   "cell_type": "code",
   "execution_count": 60,
   "id": "28315736",
   "metadata": {
    "execution": {
     "iopub.execute_input": "2024-09-07T13:23:47.428104Z",
     "iopub.status.busy": "2024-09-07T13:23:47.427626Z",
     "iopub.status.idle": "2024-09-07T13:23:47.448121Z",
     "shell.execute_reply": "2024-09-07T13:23:47.446966Z"
    },
    "papermill": {
     "duration": 0.064908,
     "end_time": "2024-09-07T13:23:47.450673",
     "exception": false,
     "start_time": "2024-09-07T13:23:47.385765",
     "status": "completed"
    },
    "tags": []
   },
   "outputs": [
    {
     "data": {
      "text/html": [
       "<div>\n",
       "<style scoped>\n",
       "    .dataframe tbody tr th:only-of-type {\n",
       "        vertical-align: middle;\n",
       "    }\n",
       "\n",
       "    .dataframe tbody tr th {\n",
       "        vertical-align: top;\n",
       "    }\n",
       "\n",
       "    .dataframe thead th {\n",
       "        text-align: right;\n",
       "    }\n",
       "</style>\n",
       "<table border=\"1\" class=\"dataframe\">\n",
       "  <thead>\n",
       "    <tr style=\"text-align: right;\">\n",
       "      <th></th>\n",
       "      <th>Airline</th>\n",
       "      <th>Date_of_Journey</th>\n",
       "      <th>Source</th>\n",
       "      <th>Destination</th>\n",
       "      <th>Route</th>\n",
       "      <th>Dep_Time</th>\n",
       "      <th>Arrival_Time</th>\n",
       "      <th>Duration</th>\n",
       "      <th>Total_Stops</th>\n",
       "      <th>Additional_Info</th>\n",
       "      <th>Price</th>\n",
       "      <th>Day_of_Journey</th>\n",
       "      <th>Month_of_Journey</th>\n",
       "      <th>AccurateArrivalTime</th>\n",
       "      <th>AccurateArrivalDay</th>\n",
       "      <th>AccurateArrivalMonth</th>\n",
       "      <th>DayDifference</th>\n",
       "      <th>Big Diff</th>\n",
       "      <th>DurationInMinutes</th>\n",
       "      <th>MealIncluded</th>\n",
       "    </tr>\n",
       "  </thead>\n",
       "  <tbody>\n",
       "    <tr>\n",
       "      <th>0</th>\n",
       "      <td>Air India</td>\n",
       "      <td>1/05/2019</td>\n",
       "      <td>Kolkata</td>\n",
       "      <td>Banglore</td>\n",
       "      <td>CCU ? IXR ? BBI ? BLR</td>\n",
       "      <td>05:50</td>\n",
       "      <td>13:15</td>\n",
       "      <td>7h 25m</td>\n",
       "      <td>2 stops</td>\n",
       "      <td>No info</td>\n",
       "      <td>7662</td>\n",
       "      <td>1</td>\n",
       "      <td>5</td>\n",
       "      <td>13:15</td>\n",
       "      <td>None</td>\n",
       "      <td>NaN</td>\n",
       "      <td>False</td>\n",
       "      <td>False</td>\n",
       "      <td>445</td>\n",
       "      <td>1</td>\n",
       "    </tr>\n",
       "    <tr>\n",
       "      <th>1</th>\n",
       "      <td>Jet Airways</td>\n",
       "      <td>9/06/2019</td>\n",
       "      <td>Delhi</td>\n",
       "      <td>Cochin</td>\n",
       "      <td>DEL ? LKO ? BOM ? COK</td>\n",
       "      <td>09:25</td>\n",
       "      <td>04:25 10 Jun</td>\n",
       "      <td>19h</td>\n",
       "      <td>2 stops</td>\n",
       "      <td>No info</td>\n",
       "      <td>13882</td>\n",
       "      <td>9</td>\n",
       "      <td>6</td>\n",
       "      <td>04:25</td>\n",
       "      <td>10</td>\n",
       "      <td>Jun</td>\n",
       "      <td>False</td>\n",
       "      <td>False</td>\n",
       "      <td>1140</td>\n",
       "      <td>1</td>\n",
       "    </tr>\n",
       "  </tbody>\n",
       "</table>\n",
       "</div>"
      ],
      "text/plain": [
       "       Airline Date_of_Journey   Source Destination                  Route  \\\n",
       "0    Air India       1/05/2019  Kolkata    Banglore  CCU ? IXR ? BBI ? BLR   \n",
       "1  Jet Airways       9/06/2019    Delhi      Cochin  DEL ? LKO ? BOM ? COK   \n",
       "\n",
       "  Dep_Time  Arrival_Time Duration Total_Stops Additional_Info  Price  \\\n",
       "0    05:50         13:15   7h 25m     2 stops         No info   7662   \n",
       "1    09:25  04:25 10 Jun      19h     2 stops         No info  13882   \n",
       "\n",
       "   Day_of_Journey  Month_of_Journey AccurateArrivalTime AccurateArrivalDay  \\\n",
       "0               1                 5               13:15               None   \n",
       "1               9                 6               04:25                 10   \n",
       "\n",
       "  AccurateArrivalMonth  DayDifference  Big Diff  DurationInMinutes  \\\n",
       "0                  NaN          False     False                445   \n",
       "1                  Jun          False     False               1140   \n",
       "\n",
       "   MealIncluded  \n",
       "0             1  \n",
       "1             1  "
      ]
     },
     "execution_count": 60,
     "metadata": {},
     "output_type": "execute_result"
    }
   ],
   "source": [
    "data.head(2)"
   ]
  },
  {
   "cell_type": "code",
   "execution_count": null,
   "id": "4f582c76",
   "metadata": {
    "papermill": {
     "duration": 0.040423,
     "end_time": "2024-09-07T13:23:47.532651",
     "exception": false,
     "start_time": "2024-09-07T13:23:47.492228",
     "status": "completed"
    },
    "tags": []
   },
   "outputs": [],
   "source": []
  },
  {
   "cell_type": "code",
   "execution_count": 61,
   "id": "116149c0",
   "metadata": {
    "execution": {
     "iopub.execute_input": "2024-09-07T13:23:47.615839Z",
     "iopub.status.busy": "2024-09-07T13:23:47.615044Z",
     "iopub.status.idle": "2024-09-07T13:23:47.661664Z",
     "shell.execute_reply": "2024-09-07T13:23:47.660486Z"
    },
    "papermill": {
     "duration": 0.091194,
     "end_time": "2024-09-07T13:23:47.664229",
     "exception": false,
     "start_time": "2024-09-07T13:23:47.573035",
     "status": "completed"
    },
    "tags": []
   },
   "outputs": [
    {
     "data": {
      "text/html": [
       "<div>\n",
       "<style scoped>\n",
       "    .dataframe tbody tr th:only-of-type {\n",
       "        vertical-align: middle;\n",
       "    }\n",
       "\n",
       "    .dataframe tbody tr th {\n",
       "        vertical-align: top;\n",
       "    }\n",
       "\n",
       "    .dataframe thead th {\n",
       "        text-align: right;\n",
       "    }\n",
       "</style>\n",
       "<table border=\"1\" class=\"dataframe\">\n",
       "  <thead>\n",
       "    <tr style=\"text-align: right;\">\n",
       "      <th></th>\n",
       "      <th>Dep_Time</th>\n",
       "      <th>DepartureDayPart</th>\n",
       "      <th>AccurateArrivalTime</th>\n",
       "      <th>ArrivalDayPart</th>\n",
       "    </tr>\n",
       "  </thead>\n",
       "  <tbody>\n",
       "    <tr>\n",
       "      <th>0</th>\n",
       "      <td>05:50</td>\n",
       "      <td>Early Morning</td>\n",
       "      <td>13:15</td>\n",
       "      <td>Noon</td>\n",
       "    </tr>\n",
       "    <tr>\n",
       "      <th>1</th>\n",
       "      <td>09:25</td>\n",
       "      <td>Morning</td>\n",
       "      <td>04:25</td>\n",
       "      <td>Early Morning</td>\n",
       "    </tr>\n",
       "    <tr>\n",
       "      <th>2</th>\n",
       "      <td>18:05</td>\n",
       "      <td>Evening</td>\n",
       "      <td>23:30</td>\n",
       "      <td>Night</td>\n",
       "    </tr>\n",
       "    <tr>\n",
       "      <th>3</th>\n",
       "      <td>16:50</td>\n",
       "      <td>Evening</td>\n",
       "      <td>21:35</td>\n",
       "      <td>Night</td>\n",
       "    </tr>\n",
       "    <tr>\n",
       "      <th>4</th>\n",
       "      <td>09:00</td>\n",
       "      <td>Morning</td>\n",
       "      <td>11:25</td>\n",
       "      <td>Morning</td>\n",
       "    </tr>\n",
       "    <tr>\n",
       "      <th>...</th>\n",
       "      <td>...</td>\n",
       "      <td>...</td>\n",
       "      <td>...</td>\n",
       "      <td>...</td>\n",
       "    </tr>\n",
       "    <tr>\n",
       "      <th>10535</th>\n",
       "      <td>19:55</td>\n",
       "      <td>Night</td>\n",
       "      <td>22:25</td>\n",
       "      <td>Night</td>\n",
       "    </tr>\n",
       "    <tr>\n",
       "      <th>10536</th>\n",
       "      <td>20:45</td>\n",
       "      <td>Night</td>\n",
       "      <td>23:20</td>\n",
       "      <td>Night</td>\n",
       "    </tr>\n",
       "    <tr>\n",
       "      <th>10537</th>\n",
       "      <td>08:20</td>\n",
       "      <td>Morning</td>\n",
       "      <td>11:20</td>\n",
       "      <td>Morning</td>\n",
       "    </tr>\n",
       "    <tr>\n",
       "      <th>10538</th>\n",
       "      <td>11:30</td>\n",
       "      <td>Morning</td>\n",
       "      <td>14:10</td>\n",
       "      <td>Noon</td>\n",
       "    </tr>\n",
       "    <tr>\n",
       "      <th>10539</th>\n",
       "      <td>10:55</td>\n",
       "      <td>Morning</td>\n",
       "      <td>19:15</td>\n",
       "      <td>Night</td>\n",
       "    </tr>\n",
       "  </tbody>\n",
       "</table>\n",
       "<p>10540 rows × 4 columns</p>\n",
       "</div>"
      ],
      "text/plain": [
       "      Dep_Time DepartureDayPart AccurateArrivalTime ArrivalDayPart\n",
       "0        05:50    Early Morning               13:15           Noon\n",
       "1        09:25          Morning               04:25  Early Morning\n",
       "2        18:05          Evening               23:30          Night\n",
       "3        16:50          Evening               21:35          Night\n",
       "4        09:00          Morning               11:25        Morning\n",
       "...        ...              ...                 ...            ...\n",
       "10535    19:55            Night               22:25          Night\n",
       "10536    20:45            Night               23:20          Night\n",
       "10537    08:20          Morning               11:20        Morning\n",
       "10538    11:30          Morning               14:10           Noon\n",
       "10539    10:55          Morning               19:15          Night\n",
       "\n",
       "[10540 rows x 4 columns]"
      ]
     },
     "execution_count": 61,
     "metadata": {},
     "output_type": "execute_result"
    }
   ],
   "source": [
    "def DayPart(n) : \n",
    "    H = int(n.split(':')[0])\n",
    "    if H < 6 : \n",
    "        return 'Early Morning'\n",
    "    elif 6<=H < 12 : \n",
    "        return 'Morning'\n",
    "    elif  12<=H < 15 : \n",
    "        return 'Noon'\n",
    "    elif  15<=H < 19 : \n",
    "        return 'Evening'\n",
    "    else : \n",
    "        return 'Night'\n",
    "    \n",
    "data['DepartureDayPart']   = data['Dep_Time'].apply(lambda x : DayPart(x))\n",
    "data['ArrivalDayPart']   = data['AccurateArrivalTime'].apply(lambda x : DayPart(x))\n",
    "data[['Dep_Time','DepartureDayPart','AccurateArrivalTime','ArrivalDayPart']]"
   ]
  },
  {
   "cell_type": "code",
   "execution_count": null,
   "id": "223f5c40",
   "metadata": {
    "papermill": {
     "duration": 0.041498,
     "end_time": "2024-09-07T13:23:47.747260",
     "exception": false,
     "start_time": "2024-09-07T13:23:47.705762",
     "status": "completed"
    },
    "tags": []
   },
   "outputs": [],
   "source": []
  },
  {
   "cell_type": "code",
   "execution_count": 62,
   "id": "8fb2127b",
   "metadata": {
    "execution": {
     "iopub.execute_input": "2024-09-07T13:23:47.834817Z",
     "iopub.status.busy": "2024-09-07T13:23:47.833878Z",
     "iopub.status.idle": "2024-09-07T13:23:47.858500Z",
     "shell.execute_reply": "2024-09-07T13:23:47.857280Z"
    },
    "papermill": {
     "duration": 0.071835,
     "end_time": "2024-09-07T13:23:47.861167",
     "exception": false,
     "start_time": "2024-09-07T13:23:47.789332",
     "status": "completed"
    },
    "tags": []
   },
   "outputs": [
    {
     "data": {
      "text/html": [
       "<div>\n",
       "<style scoped>\n",
       "    .dataframe tbody tr th:only-of-type {\n",
       "        vertical-align: middle;\n",
       "    }\n",
       "\n",
       "    .dataframe tbody tr th {\n",
       "        vertical-align: top;\n",
       "    }\n",
       "\n",
       "    .dataframe thead th {\n",
       "        text-align: right;\n",
       "    }\n",
       "</style>\n",
       "<table border=\"1\" class=\"dataframe\">\n",
       "  <thead>\n",
       "    <tr style=\"text-align: right;\">\n",
       "      <th></th>\n",
       "      <th>DurationInMinutes</th>\n",
       "      <th>FlightLength</th>\n",
       "    </tr>\n",
       "  </thead>\n",
       "  <tbody>\n",
       "    <tr>\n",
       "      <th>0</th>\n",
       "      <td>445</td>\n",
       "      <td>Medium</td>\n",
       "    </tr>\n",
       "    <tr>\n",
       "      <th>1</th>\n",
       "      <td>1140</td>\n",
       "      <td>Long</td>\n",
       "    </tr>\n",
       "    <tr>\n",
       "      <th>2</th>\n",
       "      <td>325</td>\n",
       "      <td>Medium</td>\n",
       "    </tr>\n",
       "    <tr>\n",
       "      <th>3</th>\n",
       "      <td>285</td>\n",
       "      <td>Medium</td>\n",
       "    </tr>\n",
       "    <tr>\n",
       "      <th>4</th>\n",
       "      <td>145</td>\n",
       "      <td>Short</td>\n",
       "    </tr>\n",
       "    <tr>\n",
       "      <th>...</th>\n",
       "      <td>...</td>\n",
       "      <td>...</td>\n",
       "    </tr>\n",
       "    <tr>\n",
       "      <th>10535</th>\n",
       "      <td>150</td>\n",
       "      <td>Short</td>\n",
       "    </tr>\n",
       "    <tr>\n",
       "      <th>10536</th>\n",
       "      <td>155</td>\n",
       "      <td>Short</td>\n",
       "    </tr>\n",
       "    <tr>\n",
       "      <th>10537</th>\n",
       "      <td>180</td>\n",
       "      <td>Medium</td>\n",
       "    </tr>\n",
       "    <tr>\n",
       "      <th>10538</th>\n",
       "      <td>160</td>\n",
       "      <td>Short</td>\n",
       "    </tr>\n",
       "    <tr>\n",
       "      <th>10539</th>\n",
       "      <td>500</td>\n",
       "      <td>Medium</td>\n",
       "    </tr>\n",
       "  </tbody>\n",
       "</table>\n",
       "<p>10540 rows × 2 columns</p>\n",
       "</div>"
      ],
      "text/plain": [
       "       DurationInMinutes FlightLength\n",
       "0                    445       Medium\n",
       "1                   1140         Long\n",
       "2                    325       Medium\n",
       "3                    285       Medium\n",
       "4                    145        Short\n",
       "...                  ...          ...\n",
       "10535                150        Short\n",
       "10536                155        Short\n",
       "10537                180       Medium\n",
       "10538                160        Short\n",
       "10539                500       Medium\n",
       "\n",
       "[10540 rows x 2 columns]"
      ]
     },
     "execution_count": 62,
     "metadata": {},
     "output_type": "execute_result"
    }
   ],
   "source": [
    "def FlightLength(H) : \n",
    "    if H < 180 : \n",
    "        return 'Short'\n",
    "    elif 180<=H < 600 : \n",
    "        return 'Medium'\n",
    "    else : \n",
    "        return 'Long'\n",
    "    \n",
    "data['FlightLength']   = data['DurationInMinutes'].apply(lambda x : FlightLength(x))\n",
    "data[['DurationInMinutes','FlightLength']]"
   ]
  },
  {
   "cell_type": "code",
   "execution_count": null,
   "id": "20e36c60",
   "metadata": {
    "papermill": {
     "duration": 0.04133,
     "end_time": "2024-09-07T13:23:47.944358",
     "exception": false,
     "start_time": "2024-09-07T13:23:47.903028",
     "status": "completed"
    },
    "tags": []
   },
   "outputs": [],
   "source": []
  },
  {
   "cell_type": "code",
   "execution_count": 63,
   "id": "83df9f3b",
   "metadata": {
    "execution": {
     "iopub.execute_input": "2024-09-07T13:23:48.030966Z",
     "iopub.status.busy": "2024-09-07T13:23:48.030468Z",
     "iopub.status.idle": "2024-09-07T13:23:48.039325Z",
     "shell.execute_reply": "2024-09-07T13:23:48.038057Z"
    },
    "papermill": {
     "duration": 0.054373,
     "end_time": "2024-09-07T13:23:48.041968",
     "exception": false,
     "start_time": "2024-09-07T13:23:47.987595",
     "status": "completed"
    },
    "tags": []
   },
   "outputs": [
    {
     "data": {
      "text/plain": [
       "(1759, 79512)"
      ]
     },
     "execution_count": 63,
     "metadata": {},
     "output_type": "execute_result"
    }
   ],
   "source": [
    "data['Price'].min(),data['Price'].max()"
   ]
  },
  {
   "cell_type": "code",
   "execution_count": 64,
   "id": "2c3711a8",
   "metadata": {
    "execution": {
     "iopub.execute_input": "2024-09-07T13:23:48.128726Z",
     "iopub.status.busy": "2024-09-07T13:23:48.128287Z",
     "iopub.status.idle": "2024-09-07T13:23:48.151386Z",
     "shell.execute_reply": "2024-09-07T13:23:48.150138Z"
    },
    "papermill": {
     "duration": 0.069535,
     "end_time": "2024-09-07T13:23:48.154039",
     "exception": false,
     "start_time": "2024-09-07T13:23:48.084504",
     "status": "completed"
    },
    "tags": []
   },
   "outputs": [
    {
     "data": {
      "text/html": [
       "<div>\n",
       "<style scoped>\n",
       "    .dataframe tbody tr th:only-of-type {\n",
       "        vertical-align: middle;\n",
       "    }\n",
       "\n",
       "    .dataframe tbody tr th {\n",
       "        vertical-align: top;\n",
       "    }\n",
       "\n",
       "    .dataframe thead th {\n",
       "        text-align: right;\n",
       "    }\n",
       "</style>\n",
       "<table border=\"1\" class=\"dataframe\">\n",
       "  <thead>\n",
       "    <tr style=\"text-align: right;\">\n",
       "      <th></th>\n",
       "      <th>Price</th>\n",
       "      <th>PriceRange</th>\n",
       "    </tr>\n",
       "  </thead>\n",
       "  <tbody>\n",
       "    <tr>\n",
       "      <th>0</th>\n",
       "      <td>7662</td>\n",
       "      <td>Medium</td>\n",
       "    </tr>\n",
       "    <tr>\n",
       "      <th>1</th>\n",
       "      <td>13882</td>\n",
       "      <td>Expensive</td>\n",
       "    </tr>\n",
       "    <tr>\n",
       "      <th>2</th>\n",
       "      <td>6218</td>\n",
       "      <td>Medium</td>\n",
       "    </tr>\n",
       "    <tr>\n",
       "      <th>3</th>\n",
       "      <td>13302</td>\n",
       "      <td>Expensive</td>\n",
       "    </tr>\n",
       "    <tr>\n",
       "      <th>4</th>\n",
       "      <td>3873</td>\n",
       "      <td>Cheap</td>\n",
       "    </tr>\n",
       "    <tr>\n",
       "      <th>...</th>\n",
       "      <td>...</td>\n",
       "      <td>...</td>\n",
       "    </tr>\n",
       "    <tr>\n",
       "      <th>10535</th>\n",
       "      <td>4107</td>\n",
       "      <td>Cheap</td>\n",
       "    </tr>\n",
       "    <tr>\n",
       "      <th>10536</th>\n",
       "      <td>4145</td>\n",
       "      <td>Cheap</td>\n",
       "    </tr>\n",
       "    <tr>\n",
       "      <th>10537</th>\n",
       "      <td>7229</td>\n",
       "      <td>Medium</td>\n",
       "    </tr>\n",
       "    <tr>\n",
       "      <th>10538</th>\n",
       "      <td>12648</td>\n",
       "      <td>Expensive</td>\n",
       "    </tr>\n",
       "    <tr>\n",
       "      <th>10539</th>\n",
       "      <td>11753</td>\n",
       "      <td>Expensive</td>\n",
       "    </tr>\n",
       "  </tbody>\n",
       "</table>\n",
       "<p>10540 rows × 2 columns</p>\n",
       "</div>"
      ],
      "text/plain": [
       "       Price PriceRange\n",
       "0       7662     Medium\n",
       "1      13882  Expensive\n",
       "2       6218     Medium\n",
       "3      13302  Expensive\n",
       "4       3873      Cheap\n",
       "...      ...        ...\n",
       "10535   4107      Cheap\n",
       "10536   4145      Cheap\n",
       "10537   7229     Medium\n",
       "10538  12648  Expensive\n",
       "10539  11753  Expensive\n",
       "\n",
       "[10540 rows x 2 columns]"
      ]
     },
     "execution_count": 64,
     "metadata": {},
     "output_type": "execute_result"
    }
   ],
   "source": [
    "def PriceRange(H) : \n",
    "    if H < 5000 : \n",
    "        return 'Cheap'\n",
    "    elif 5000<=H < 10000 : \n",
    "        return 'Medium'\n",
    "    else : \n",
    "        return 'Expensive'\n",
    "    \n",
    "data['PriceRange']   = data['Price'].apply(lambda x : PriceRange(x))\n",
    "data[['Price','PriceRange']]"
   ]
  },
  {
   "cell_type": "code",
   "execution_count": null,
   "id": "2db074dc",
   "metadata": {
    "papermill": {
     "duration": 0.041882,
     "end_time": "2024-09-07T13:23:48.238103",
     "exception": false,
     "start_time": "2024-09-07T13:23:48.196221",
     "status": "completed"
    },
    "tags": []
   },
   "outputs": [],
   "source": []
  },
  {
   "cell_type": "code",
   "execution_count": 65,
   "id": "d4f45141",
   "metadata": {
    "execution": {
     "iopub.execute_input": "2024-09-07T13:23:48.325501Z",
     "iopub.status.busy": "2024-09-07T13:23:48.325008Z",
     "iopub.status.idle": "2024-09-07T13:23:48.350911Z",
     "shell.execute_reply": "2024-09-07T13:23:48.349743Z"
    },
    "papermill": {
     "duration": 0.072696,
     "end_time": "2024-09-07T13:23:48.353523",
     "exception": false,
     "start_time": "2024-09-07T13:23:48.280827",
     "status": "completed"
    },
    "tags": []
   },
   "outputs": [
    {
     "data": {
      "text/html": [
       "<div>\n",
       "<style scoped>\n",
       "    .dataframe tbody tr th:only-of-type {\n",
       "        vertical-align: middle;\n",
       "    }\n",
       "\n",
       "    .dataframe tbody tr th {\n",
       "        vertical-align: top;\n",
       "    }\n",
       "\n",
       "    .dataframe thead th {\n",
       "        text-align: right;\n",
       "    }\n",
       "</style>\n",
       "<table border=\"1\" class=\"dataframe\">\n",
       "  <thead>\n",
       "    <tr style=\"text-align: right;\">\n",
       "      <th></th>\n",
       "      <th>Airline</th>\n",
       "      <th>Date_of_Journey</th>\n",
       "      <th>Source</th>\n",
       "      <th>Destination</th>\n",
       "      <th>Route</th>\n",
       "      <th>Dep_Time</th>\n",
       "      <th>Arrival_Time</th>\n",
       "      <th>Duration</th>\n",
       "      <th>Total_Stops</th>\n",
       "      <th>Additional_Info</th>\n",
       "      <th>...</th>\n",
       "      <th>AccurateArrivalDay</th>\n",
       "      <th>AccurateArrivalMonth</th>\n",
       "      <th>DayDifference</th>\n",
       "      <th>Big Diff</th>\n",
       "      <th>DurationInMinutes</th>\n",
       "      <th>MealIncluded</th>\n",
       "      <th>DepartureDayPart</th>\n",
       "      <th>ArrivalDayPart</th>\n",
       "      <th>FlightLength</th>\n",
       "      <th>PriceRange</th>\n",
       "    </tr>\n",
       "  </thead>\n",
       "  <tbody>\n",
       "    <tr>\n",
       "      <th>0</th>\n",
       "      <td>Air India</td>\n",
       "      <td>1/05/2019</td>\n",
       "      <td>Kolkata</td>\n",
       "      <td>Banglore</td>\n",
       "      <td>CCU ? IXR ? BBI ? BLR</td>\n",
       "      <td>05:50</td>\n",
       "      <td>13:15</td>\n",
       "      <td>7h 25m</td>\n",
       "      <td>2 stops</td>\n",
       "      <td>No info</td>\n",
       "      <td>...</td>\n",
       "      <td>None</td>\n",
       "      <td>NaN</td>\n",
       "      <td>False</td>\n",
       "      <td>False</td>\n",
       "      <td>445</td>\n",
       "      <td>1</td>\n",
       "      <td>Early Morning</td>\n",
       "      <td>Noon</td>\n",
       "      <td>Medium</td>\n",
       "      <td>Medium</td>\n",
       "    </tr>\n",
       "  </tbody>\n",
       "</table>\n",
       "<p>1 rows × 24 columns</p>\n",
       "</div>"
      ],
      "text/plain": [
       "     Airline Date_of_Journey   Source Destination                  Route  \\\n",
       "0  Air India       1/05/2019  Kolkata    Banglore  CCU ? IXR ? BBI ? BLR   \n",
       "\n",
       "  Dep_Time Arrival_Time Duration Total_Stops Additional_Info  ...  \\\n",
       "0    05:50        13:15   7h 25m     2 stops         No info  ...   \n",
       "\n",
       "   AccurateArrivalDay  AccurateArrivalMonth  DayDifference Big Diff  \\\n",
       "0                None                   NaN          False    False   \n",
       "\n",
       "  DurationInMinutes MealIncluded  DepartureDayPart  ArrivalDayPart  \\\n",
       "0               445            1     Early Morning            Noon   \n",
       "\n",
       "   FlightLength  PriceRange  \n",
       "0        Medium      Medium  \n",
       "\n",
       "[1 rows x 24 columns]"
      ]
     },
     "execution_count": 65,
     "metadata": {},
     "output_type": "execute_result"
    }
   ],
   "source": [
    "data.head(1)"
   ]
  },
  {
   "cell_type": "markdown",
   "id": "317e6e67",
   "metadata": {
    "papermill": {
     "duration": 0.041674,
     "end_time": "2024-09-07T13:23:48.437446",
     "exception": false,
     "start_time": "2024-09-07T13:23:48.395772",
     "status": "completed"
    },
    "tags": []
   },
   "source": [
    "# Data Visualization "
   ]
  },
  {
   "cell_type": "code",
   "execution_count": 66,
   "id": "8b129a8e",
   "metadata": {
    "execution": {
     "iopub.execute_input": "2024-09-07T13:23:48.523378Z",
     "iopub.status.busy": "2024-09-07T13:23:48.522943Z",
     "iopub.status.idle": "2024-09-07T13:23:48.533515Z",
     "shell.execute_reply": "2024-09-07T13:23:48.532264Z"
    },
    "papermill": {
     "duration": 0.056759,
     "end_time": "2024-09-07T13:23:48.536230",
     "exception": false,
     "start_time": "2024-09-07T13:23:48.479471",
     "status": "completed"
    },
    "tags": []
   },
   "outputs": [],
   "source": [
    "def CPlot(feature) : \n",
    "    global data\n",
    "    fig,ax = plt.subplots(figsize = (10,6))\n",
    "    sns.countplot(x = feature,data=data,facecolor = (0,0,0,0),linewidth = 5,\n",
    "                  edgecolor= sns.color_palette('dark',3))\n",
    "    ax.set_xticklabels(ax.get_xticklabels(),rotation = 30)\n",
    "    return None\n",
    "\n",
    "def KPlot(feature) : \n",
    "    global data\n",
    "    fig,ax = plt.subplots(figsize = (10,6))\n",
    "    sns.kdeplot(data[feature],shade=True)\n",
    "    return None\n",
    "\n",
    "def Pie(feature,limit=20) : \n",
    "    global data\n",
    "    fig,ax = plt.subplots(figsize = (10,6))\n",
    "    plt.pie(data[feature].value_counts()[:limit],labels = list(data[feature].value_counts()[:limit].index),\n",
    "            autopct = '%1.2f%%',labeldistance= 1.1)\n",
    "    return None\n",
    "   \n",
    "    "
   ]
  },
  {
   "cell_type": "code",
   "execution_count": 67,
   "id": "f1ab697c",
   "metadata": {
    "execution": {
     "iopub.execute_input": "2024-09-07T13:23:48.622244Z",
     "iopub.status.busy": "2024-09-07T13:23:48.621782Z",
     "iopub.status.idle": "2024-09-07T13:23:48.923754Z",
     "shell.execute_reply": "2024-09-07T13:23:48.921498Z"
    },
    "papermill": {
     "duration": 0.350259,
     "end_time": "2024-09-07T13:23:48.928580",
     "exception": false,
     "start_time": "2024-09-07T13:23:48.578321",
     "status": "completed"
    },
    "tags": []
   },
   "outputs": [
    {
     "data": {
      "image/png": "[encoded data removed]",
      "text/plain": [
       "<Figure size 1000x600 with 1 Axes>"
      ]
     },
     "metadata": {},
     "output_type": "display_data"
    }
   ],
   "source": [
    "Pie('Airline',8)"
   ]
  },
  {
   "cell_type": "code",
   "execution_count": 68,
   "id": "23816db7",
   "metadata": {
    "execution": {
     "iopub.execute_input": "2024-09-07T13:23:49.020313Z",
     "iopub.status.busy": "2024-09-07T13:23:49.019823Z",
     "iopub.status.idle": "2024-09-07T13:23:49.541435Z",
     "shell.execute_reply": "2024-09-07T13:23:49.540043Z"
    },
    "papermill": {
     "duration": 0.571301,
     "end_time": "2024-09-07T13:23:49.544315",
     "exception": false,
     "start_time": "2024-09-07T13:23:48.973014",
     "status": "completed"
    },
    "tags": []
   },
   "outputs": [
    {
     "data": {
      "image/png": "[encoded data removed]",
      "text/plain": [
       "<Figure size 1000x600 with 1 Axes>"
      ]
     },
     "metadata": {},
     "output_type": "display_data"
    }
   ],
   "source": [
    "CPlot('Airline')"
   ]
  },
  {
   "cell_type": "code",
   "execution_count": 69,
   "id": "6b6a4f05",
   "metadata": {
    "execution": {
     "iopub.execute_input": "2024-09-07T13:23:49.635894Z",
     "iopub.status.busy": "2024-09-07T13:23:49.635404Z",
     "iopub.status.idle": "2024-09-07T13:23:49.954556Z",
     "shell.execute_reply": "2024-09-07T13:23:49.952536Z"
    },
    "papermill": {
     "duration": 0.367969,
     "end_time": "2024-09-07T13:23:49.957392",
     "exception": false,
     "start_time": "2024-09-07T13:23:49.589423",
     "status": "completed"
    },
    "tags": []
   },
   "outputs": [
    {
     "data": {
      "image/png": "[encoded data removed]",
      "text/plain": [
       "<Figure size 1000x600 with 1 Axes>"
      ]
     },
     "metadata": {},
     "output_type": "display_data"
    }
   ],
   "source": [
    "CPlot('Source')"
   ]
  },
  {
   "cell_type": "code",
   "execution_count": 70,
   "id": "15c35c6d",
   "metadata": {
    "execution": {
     "iopub.execute_input": "2024-09-07T13:23:50.049667Z",
     "iopub.status.busy": "2024-09-07T13:23:50.049240Z",
     "iopub.status.idle": "2024-09-07T13:23:50.350375Z",
     "shell.execute_reply": "2024-09-07T13:23:50.349023Z"
    },
    "papermill": {
     "duration": 0.350721,
     "end_time": "2024-09-07T13:23:50.353295",
     "exception": false,
     "start_time": "2024-09-07T13:23:50.002574",
     "status": "completed"
    },
    "tags": []
   },
   "outputs": [
    {
     "data": {
      "image/png": "[encoded data removed]",
      "text/plain": [
       "<Figure size 1000x600 with 1 Axes>"
      ]
     },
     "metadata": {},
     "output_type": "display_data"
    }
   ],
   "source": [
    "CPlot('Destination')"
   ]
  },
  {
   "cell_type": "code",
   "execution_count": 71,
   "id": "6c3bea6c",
   "metadata": {
    "execution": {
     "iopub.execute_input": "2024-09-07T13:23:50.447460Z",
     "iopub.status.busy": "2024-09-07T13:23:50.446997Z",
     "iopub.status.idle": "2024-09-07T13:23:50.689992Z",
     "shell.execute_reply": "2024-09-07T13:23:50.688349Z"
    },
    "papermill": {
     "duration": 0.296962,
     "end_time": "2024-09-07T13:23:50.696393",
     "exception": false,
     "start_time": "2024-09-07T13:23:50.399431",
     "status": "completed"
    },
    "tags": []
   },
   "outputs": [
    {
     "data": {
      "image/png": "[encoded data removed]",
      "text/plain": [
       "<Figure size 1000x600 with 1 Axes>"
      ]
     },
     "metadata": {},
     "output_type": "display_data"
    }
   ],
   "source": [
    "Pie('Route',10)"
   ]
  },
  {
   "cell_type": "code",
   "execution_count": 72,
   "id": "7467eeb8",
   "metadata": {
    "execution": {
     "iopub.execute_input": "2024-09-07T13:23:50.814536Z",
     "iopub.status.busy": "2024-09-07T13:23:50.814086Z",
     "iopub.status.idle": "2024-09-07T13:23:51.089082Z",
     "shell.execute_reply": "2024-09-07T13:23:51.087362Z"
    },
    "papermill": {
     "duration": 0.328043,
     "end_time": "2024-09-07T13:23:51.094006",
     "exception": false,
     "start_time": "2024-09-07T13:23:50.765963",
     "status": "completed"
    },
    "tags": []
   },
   "outputs": [
    {
     "data": {
      "image/png": "[encoded data removed]",
      "text/plain": [
       "<Figure size 1000x600 with 1 Axes>"
      ]
     },
     "metadata": {},
     "output_type": "display_data"
    }
   ],
   "source": [
    "Pie('Dep_Time',10)"
   ]
  },
  {
   "cell_type": "code",
   "execution_count": 73,
   "id": "551323e8",
   "metadata": {
    "execution": {
     "iopub.execute_input": "2024-09-07T13:23:51.196436Z",
     "iopub.status.busy": "2024-09-07T13:23:51.195910Z",
     "iopub.status.idle": "2024-09-07T13:23:51.408430Z",
     "shell.execute_reply": "2024-09-07T13:23:51.406892Z"
    },
    "papermill": {
     "duration": 0.266924,
     "end_time": "2024-09-07T13:23:51.413262",
     "exception": false,
     "start_time": "2024-09-07T13:23:51.146338",
     "status": "completed"
    },
    "tags": []
   },
   "outputs": [
    {
     "data": {
      "image/png": "[encoded data removed]",
      "text/plain": [
       "<Figure size 1000x600 with 1 Axes>"
      ]
     },
     "metadata": {},
     "output_type": "display_data"
    }
   ],
   "source": [
    "Pie('DepartureDayPart')"
   ]
  },
  {
   "cell_type": "code",
   "execution_count": 74,
   "id": "15cee00f",
   "metadata": {
    "execution": {
     "iopub.execute_input": "2024-09-07T13:23:51.525586Z",
     "iopub.status.busy": "2024-09-07T13:23:51.525148Z",
     "iopub.status.idle": "2024-09-07T13:23:51.967857Z",
     "shell.execute_reply": "2024-09-07T13:23:51.966610Z"
    },
    "papermill": {
     "duration": 0.495263,
     "end_time": "2024-09-07T13:23:51.970517",
     "exception": false,
     "start_time": "2024-09-07T13:23:51.475254",
     "status": "completed"
    },
    "tags": []
   },
   "outputs": [
    {
     "data": {
      "image/png": "[encoded data removed]",
      "text/plain": [
       "<Figure size 1000x600 with 1 Axes>"
      ]
     },
     "metadata": {},
     "output_type": "display_data"
    }
   ],
   "source": [
    "Pie('AccurateArrivalTime',15)"
   ]
  },
  {
   "cell_type": "code",
   "execution_count": 75,
   "id": "55d608a2",
   "metadata": {
    "execution": {
     "iopub.execute_input": "2024-09-07T13:23:52.134225Z",
     "iopub.status.busy": "2024-09-07T13:23:52.133056Z",
     "iopub.status.idle": "2024-09-07T13:23:52.340658Z",
     "shell.execute_reply": "2024-09-07T13:23:52.338726Z"
    },
    "papermill": {
     "duration": 0.327058,
     "end_time": "2024-09-07T13:23:52.348005",
     "exception": false,
     "start_time": "2024-09-07T13:23:52.020947",
     "status": "completed"
    },
    "tags": []
   },
   "outputs": [
    {
     "data": {
      "image/png": "[encoded data removed]",
      "text/plain": [
       "<Figure size 1000x600 with 1 Axes>"
      ]
     },
     "metadata": {},
     "output_type": "display_data"
    }
   ],
   "source": [
    "Pie('ArrivalDayPart')"
   ]
  },
  {
   "cell_type": "code",
   "execution_count": 76,
   "id": "d32d750c",
   "metadata": {
    "execution": {
     "iopub.execute_input": "2024-09-07T13:23:52.464839Z",
     "iopub.status.busy": "2024-09-07T13:23:52.463945Z",
     "iopub.status.idle": "2024-09-07T13:23:52.810644Z",
     "shell.execute_reply": "2024-09-07T13:23:52.809310Z"
    },
    "papermill": {
     "duration": 0.401912,
     "end_time": "2024-09-07T13:23:52.813481",
     "exception": false,
     "start_time": "2024-09-07T13:23:52.411569",
     "status": "completed"
    },
    "tags": []
   },
   "outputs": [
    {
     "data": {
      "image/png": "[encoded data removed]",
      "text/plain": [
       "<Figure size 1000x600 with 1 Axes>"
      ]
     },
     "metadata": {},
     "output_type": "display_data"
    }
   ],
   "source": [
    "CPlot('Total_Stops')"
   ]
  },
  {
   "cell_type": "code",
   "execution_count": 77,
   "id": "3b6a34b9",
   "metadata": {
    "execution": {
     "iopub.execute_input": "2024-09-07T13:23:52.922100Z",
     "iopub.status.busy": "2024-09-07T13:23:52.920857Z",
     "iopub.status.idle": "2024-09-07T13:23:53.407282Z",
     "shell.execute_reply": "2024-09-07T13:23:53.406133Z"
    },
    "papermill": {
     "duration": 0.543146,
     "end_time": "2024-09-07T13:23:53.410310",
     "exception": false,
     "start_time": "2024-09-07T13:23:52.867164",
     "status": "completed"
    },
    "tags": []
   },
   "outputs": [
    {
     "data": {
      "image/png": "[encoded data removed]",
      "text/plain": [
       "<Figure size 1000x600 with 1 Axes>"
      ]
     },
     "metadata": {},
     "output_type": "display_data"
    }
   ],
   "source": [
    "CPlot('Additional_Info')"
   ]
  },
  {
   "cell_type": "code",
   "execution_count": 78,
   "id": "f909351b",
   "metadata": {
    "execution": {
     "iopub.execute_input": "2024-09-07T13:23:53.520159Z",
     "iopub.status.busy": "2024-09-07T13:23:53.519560Z",
     "iopub.status.idle": "2024-09-07T13:23:53.658165Z",
     "shell.execute_reply": "2024-09-07T13:23:53.656838Z"
    },
    "papermill": {
     "duration": 0.197012,
     "end_time": "2024-09-07T13:23:53.660970",
     "exception": false,
     "start_time": "2024-09-07T13:23:53.463958",
     "status": "completed"
    },
    "tags": []
   },
   "outputs": [
    {
     "data": {
      "image/png": "[encoded data removed]",
      "text/plain": [
       "<Figure size 1000x600 with 1 Axes>"
      ]
     },
     "metadata": {},
     "output_type": "display_data"
    }
   ],
   "source": [
    "Pie('PriceRange')"
   ]
  },
  {
   "cell_type": "code",
   "execution_count": 79,
   "id": "b43a7936",
   "metadata": {
    "execution": {
     "iopub.execute_input": "2024-09-07T13:23:53.771519Z",
     "iopub.status.busy": "2024-09-07T13:23:53.771069Z",
     "iopub.status.idle": "2024-09-07T13:23:53.908399Z",
     "shell.execute_reply": "2024-09-07T13:23:53.907065Z"
    },
    "papermill": {
     "duration": 0.197397,
     "end_time": "2024-09-07T13:23:53.913238",
     "exception": false,
     "start_time": "2024-09-07T13:23:53.715841",
     "status": "completed"
    },
    "tags": []
   },
   "outputs": [
    {
     "data": {
      "image/png": "[encoded data removed]",
      "text/plain": [
       "<Figure size 1000x600 with 1 Axes>"
      ]
     },
     "metadata": {},
     "output_type": "display_data"
    }
   ],
   "source": [
    "Pie('MealIncluded')"
   ]
  },
  {
   "cell_type": "code",
   "execution_count": 80,
   "id": "4173fefb",
   "metadata": {
    "execution": {
     "iopub.execute_input": "2024-09-07T13:23:54.063967Z",
     "iopub.status.busy": "2024-09-07T13:23:54.063470Z",
     "iopub.status.idle": "2024-09-07T13:23:54.309400Z",
     "shell.execute_reply": "2024-09-07T13:23:54.307852Z"
    },
    "papermill": {
     "duration": 0.304025,
     "end_time": "2024-09-07T13:23:54.312101",
     "exception": false,
     "start_time": "2024-09-07T13:23:54.008076",
     "status": "completed"
    },
    "tags": []
   },
   "outputs": [
    {
     "data": {
      "image/png": "[encoded data removed]",
      "text/plain": [
       "<Figure size 1000x600 with 1 Axes>"
      ]
     },
     "metadata": {},
     "output_type": "display_data"
    }
   ],
   "source": [
    "CPlot('FlightLength')"
   ]
  },
  {
   "cell_type": "markdown",
   "id": "79d79764",
   "metadata": {
    "papermill": {
     "duration": 0.053963,
     "end_time": "2024-09-07T13:23:54.420433",
     "exception": false,
     "start_time": "2024-09-07T13:23:54.366470",
     "status": "completed"
    },
    "tags": []
   },
   "source": [
    "# Data Preparing "
   ]
  },
  {
   "cell_type": "code",
   "execution_count": 81,
   "id": "9d36ac5b",
   "metadata": {
    "execution": {
     "iopub.execute_input": "2024-09-07T13:23:54.530646Z",
     "iopub.status.busy": "2024-09-07T13:23:54.530199Z",
     "iopub.status.idle": "2024-09-07T13:23:54.536533Z",
     "shell.execute_reply": "2024-09-07T13:23:54.535252Z"
    },
    "papermill": {
     "duration": 0.064581,
     "end_time": "2024-09-07T13:23:54.538944",
     "exception": false,
     "start_time": "2024-09-07T13:23:54.474363",
     "status": "completed"
    },
    "tags": []
   },
   "outputs": [],
   "source": [
    "AirLineEnc,SourceEnc,DestinationEnc,AdditionalInfoEnc,MealIncludedEnc,DepDayEnc,ArrivDayEnc,FlightLengthEnc = LabelEncoder(),LabelEncoder(),LabelEncoder(),LabelEncoder(),LabelEncoder(),LabelEncoder(),LabelEncoder(),LabelEncoder()"
   ]
  },
  {
   "cell_type": "code",
   "execution_count": 82,
   "id": "e712bc9f",
   "metadata": {
    "execution": {
     "iopub.execute_input": "2024-09-07T13:23:54.651011Z",
     "iopub.status.busy": "2024-09-07T13:23:54.650515Z",
     "iopub.status.idle": "2024-09-07T13:23:54.656661Z",
     "shell.execute_reply": "2024-09-07T13:23:54.655520Z"
    },
    "papermill": {
     "duration": 0.064904,
     "end_time": "2024-09-07T13:23:54.659066",
     "exception": false,
     "start_time": "2024-09-07T13:23:54.594162",
     "status": "completed"
    },
    "tags": []
   },
   "outputs": [],
   "source": [
    "def ApplyEncoder(Encoder,OriginalColumn) : \n",
    "    global data\n",
    "    Encoder.fit(data[OriginalColumn])\n",
    "    return Encoder.transform(data[OriginalColumn])"
   ]
  },
  {
   "cell_type": "code",
   "execution_count": 83,
   "id": "4fa1d43e",
   "metadata": {
    "execution": {
     "iopub.execute_input": "2024-09-07T13:23:54.770337Z",
     "iopub.status.busy": "2024-09-07T13:23:54.769832Z",
     "iopub.status.idle": "2024-09-07T13:23:54.829190Z",
     "shell.execute_reply": "2024-09-07T13:23:54.827891Z"
    },
    "papermill": {
     "duration": 0.118604,
     "end_time": "2024-09-07T13:23:54.831969",
     "exception": false,
     "start_time": "2024-09-07T13:23:54.713365",
     "status": "completed"
    },
    "tags": []
   },
   "outputs": [
    {
     "data": {
      "text/html": [
       "<div>\n",
       "<style scoped>\n",
       "    .dataframe tbody tr th:only-of-type {\n",
       "        vertical-align: middle;\n",
       "    }\n",
       "\n",
       "    .dataframe tbody tr th {\n",
       "        vertical-align: top;\n",
       "    }\n",
       "\n",
       "    .dataframe thead th {\n",
       "        text-align: right;\n",
       "    }\n",
       "</style>\n",
       "<table border=\"1\" class=\"dataframe\">\n",
       "  <thead>\n",
       "    <tr style=\"text-align: right;\">\n",
       "      <th></th>\n",
       "      <th>Airline</th>\n",
       "      <th>Date_of_Journey</th>\n",
       "      <th>Source</th>\n",
       "      <th>Destination</th>\n",
       "      <th>Route</th>\n",
       "      <th>Dep_Time</th>\n",
       "      <th>Arrival_Time</th>\n",
       "      <th>Duration</th>\n",
       "      <th>Total_Stops</th>\n",
       "      <th>Additional_Info</th>\n",
       "      <th>...</th>\n",
       "      <th>FlightLength</th>\n",
       "      <th>PriceRange</th>\n",
       "      <th>AirLineEnc</th>\n",
       "      <th>SourceEnc</th>\n",
       "      <th>DestinationEnc</th>\n",
       "      <th>AdditionalInfoEnc</th>\n",
       "      <th>MealIncludedEnc</th>\n",
       "      <th>DepDayEnc</th>\n",
       "      <th>ArrivDayEnc</th>\n",
       "      <th>FlightLengthEnc</th>\n",
       "    </tr>\n",
       "  </thead>\n",
       "  <tbody>\n",
       "    <tr>\n",
       "      <th>0</th>\n",
       "      <td>Air India</td>\n",
       "      <td>1/05/2019</td>\n",
       "      <td>Kolkata</td>\n",
       "      <td>Banglore</td>\n",
       "      <td>CCU ? IXR ? BBI ? BLR</td>\n",
       "      <td>05:50</td>\n",
       "      <td>13:15</td>\n",
       "      <td>7h 25m</td>\n",
       "      <td>2 stops</td>\n",
       "      <td>No info</td>\n",
       "      <td>...</td>\n",
       "      <td>Medium</td>\n",
       "      <td>Medium</td>\n",
       "      <td>1</td>\n",
       "      <td>3</td>\n",
       "      <td>0</td>\n",
       "      <td>8</td>\n",
       "      <td>1</td>\n",
       "      <td>0</td>\n",
       "      <td>4</td>\n",
       "      <td>1</td>\n",
       "    </tr>\n",
       "    <tr>\n",
       "      <th>1</th>\n",
       "      <td>Jet Airways</td>\n",
       "      <td>9/06/2019</td>\n",
       "      <td>Delhi</td>\n",
       "      <td>Cochin</td>\n",
       "      <td>DEL ? LKO ? BOM ? COK</td>\n",
       "      <td>09:25</td>\n",
       "      <td>04:25 10 Jun</td>\n",
       "      <td>19h</td>\n",
       "      <td>2 stops</td>\n",
       "      <td>No info</td>\n",
       "      <td>...</td>\n",
       "      <td>Long</td>\n",
       "      <td>Expensive</td>\n",
       "      <td>4</td>\n",
       "      <td>2</td>\n",
       "      <td>1</td>\n",
       "      <td>8</td>\n",
       "      <td>1</td>\n",
       "      <td>2</td>\n",
       "      <td>0</td>\n",
       "      <td>0</td>\n",
       "    </tr>\n",
       "    <tr>\n",
       "      <th>2</th>\n",
       "      <td>IndiGo</td>\n",
       "      <td>12/05/2019</td>\n",
       "      <td>Kolkata</td>\n",
       "      <td>Banglore</td>\n",
       "      <td>CCU ? NAG ? BLR</td>\n",
       "      <td>18:05</td>\n",
       "      <td>23:30</td>\n",
       "      <td>5h 25m</td>\n",
       "      <td>1 stop</td>\n",
       "      <td>No info</td>\n",
       "      <td>...</td>\n",
       "      <td>Medium</td>\n",
       "      <td>Medium</td>\n",
       "      <td>3</td>\n",
       "      <td>3</td>\n",
       "      <td>0</td>\n",
       "      <td>8</td>\n",
       "      <td>1</td>\n",
       "      <td>1</td>\n",
       "      <td>3</td>\n",
       "      <td>1</td>\n",
       "    </tr>\n",
       "    <tr>\n",
       "      <th>3</th>\n",
       "      <td>IndiGo</td>\n",
       "      <td>01/03/2019</td>\n",
       "      <td>Banglore</td>\n",
       "      <td>New Delhi</td>\n",
       "      <td>BLR ? NAG ? DEL</td>\n",
       "      <td>16:50</td>\n",
       "      <td>21:35</td>\n",
       "      <td>4h 45m</td>\n",
       "      <td>1 stop</td>\n",
       "      <td>No info</td>\n",
       "      <td>...</td>\n",
       "      <td>Medium</td>\n",
       "      <td>Expensive</td>\n",
       "      <td>3</td>\n",
       "      <td>0</td>\n",
       "      <td>5</td>\n",
       "      <td>8</td>\n",
       "      <td>1</td>\n",
       "      <td>1</td>\n",
       "      <td>3</td>\n",
       "      <td>1</td>\n",
       "    </tr>\n",
       "    <tr>\n",
       "      <th>4</th>\n",
       "      <td>SpiceJet</td>\n",
       "      <td>24/06/2019</td>\n",
       "      <td>Kolkata</td>\n",
       "      <td>Banglore</td>\n",
       "      <td>CCU ? BLR</td>\n",
       "      <td>09:00</td>\n",
       "      <td>11:25</td>\n",
       "      <td>2h 25m</td>\n",
       "      <td>non-stop</td>\n",
       "      <td>No info</td>\n",
       "      <td>...</td>\n",
       "      <td>Short</td>\n",
       "      <td>Cheap</td>\n",
       "      <td>8</td>\n",
       "      <td>3</td>\n",
       "      <td>0</td>\n",
       "      <td>8</td>\n",
       "      <td>1</td>\n",
       "      <td>2</td>\n",
       "      <td>2</td>\n",
       "      <td>2</td>\n",
       "    </tr>\n",
       "  </tbody>\n",
       "</table>\n",
       "<p>5 rows × 32 columns</p>\n",
       "</div>"
      ],
      "text/plain": [
       "       Airline Date_of_Journey    Source Destination                  Route  \\\n",
       "0    Air India       1/05/2019   Kolkata    Banglore  CCU ? IXR ? BBI ? BLR   \n",
       "1  Jet Airways       9/06/2019     Delhi      Cochin  DEL ? LKO ? BOM ? COK   \n",
       "2       IndiGo      12/05/2019   Kolkata    Banglore        CCU ? NAG ? BLR   \n",
       "3       IndiGo      01/03/2019  Banglore   New Delhi        BLR ? NAG ? DEL   \n",
       "4     SpiceJet      24/06/2019   Kolkata    Banglore              CCU ? BLR   \n",
       "\n",
       "  Dep_Time  Arrival_Time Duration Total_Stops Additional_Info  ...  \\\n",
       "0    05:50         13:15   7h 25m     2 stops         No info  ...   \n",
       "1    09:25  04:25 10 Jun      19h     2 stops         No info  ...   \n",
       "2    18:05         23:30   5h 25m      1 stop         No info  ...   \n",
       "3    16:50         21:35   4h 45m      1 stop         No info  ...   \n",
       "4    09:00         11:25   2h 25m    non-stop         No info  ...   \n",
       "\n",
       "   FlightLength  PriceRange  AirLineEnc SourceEnc DestinationEnc  \\\n",
       "0        Medium      Medium           1         3              0   \n",
       "1          Long   Expensive           4         2              1   \n",
       "2        Medium      Medium           3         3              0   \n",
       "3        Medium   Expensive           3         0              5   \n",
       "4         Short       Cheap           8         3              0   \n",
       "\n",
       "  AdditionalInfoEnc  MealIncludedEnc  DepDayEnc  ArrivDayEnc  FlightLengthEnc  \n",
       "0                 8                1          0            4                1  \n",
       "1                 8                1          2            0                0  \n",
       "2                 8                1          1            3                1  \n",
       "3                 8                1          1            3                1  \n",
       "4                 8                1          2            2                2  \n",
       "\n",
       "[5 rows x 32 columns]"
      ]
     },
     "execution_count": 83,
     "metadata": {},
     "output_type": "execute_result"
    }
   ],
   "source": [
    "data['AirLineEnc'] = ApplyEncoder(AirLineEnc,'Airline')\n",
    "data['SourceEnc'] = ApplyEncoder(SourceEnc,'Source')\n",
    "data['DestinationEnc'] = ApplyEncoder(DestinationEnc,'Destination')\n",
    "data['AdditionalInfoEnc'] = ApplyEncoder(AdditionalInfoEnc,'Additional_Info')\n",
    "data['MealIncludedEnc'] = ApplyEncoder(MealIncludedEnc,'MealIncluded')\n",
    "data['DepDayEnc'] = ApplyEncoder(DepDayEnc,'DepartureDayPart')\n",
    "data['ArrivDayEnc'] = ApplyEncoder(ArrivDayEnc,'ArrivalDayPart')\n",
    "data['FlightLengthEnc'] = ApplyEncoder(FlightLengthEnc,'FlightLength')\n",
    "data.head()"
   ]
  },
  {
   "cell_type": "code",
   "execution_count": 84,
   "id": "80ff8506",
   "metadata": {
    "execution": {
     "iopub.execute_input": "2024-09-07T13:23:54.946368Z",
     "iopub.status.busy": "2024-09-07T13:23:54.945841Z",
     "iopub.status.idle": "2024-09-07T13:23:54.954344Z",
     "shell.execute_reply": "2024-09-07T13:23:54.953045Z"
    },
    "papermill": {
     "duration": 0.067888,
     "end_time": "2024-09-07T13:23:54.957133",
     "exception": false,
     "start_time": "2024-09-07T13:23:54.889245",
     "status": "completed"
    },
    "tags": []
   },
   "outputs": [
    {
     "data": {
      "text/plain": [
       "Index(['Airline', 'Date_of_Journey', 'Source', 'Destination', 'Route',\n",
       "       'Dep_Time', 'Arrival_Time', 'Duration', 'Total_Stops',\n",
       "       'Additional_Info', 'Price', 'Day_of_Journey', 'Month_of_Journey',\n",
       "       'AccurateArrivalTime', 'AccurateArrivalDay', 'AccurateArrivalMonth',\n",
       "       'DayDifference', 'Big Diff', 'DurationInMinutes', 'MealIncluded',\n",
       "       'DepartureDayPart', 'ArrivalDayPart', 'FlightLength', 'PriceRange',\n",
       "       'AirLineEnc', 'SourceEnc', 'DestinationEnc', 'AdditionalInfoEnc',\n",
       "       'MealIncludedEnc', 'DepDayEnc', 'ArrivDayEnc', 'FlightLengthEnc'],\n",
       "      dtype='object')"
      ]
     },
     "execution_count": 84,
     "metadata": {},
     "output_type": "execute_result"
    }
   ],
   "source": [
    "data.columns"
   ]
  },
  {
   "cell_type": "code",
   "execution_count": 85,
   "id": "2c8365ed",
   "metadata": {
    "execution": {
     "iopub.execute_input": "2024-09-07T13:23:55.069186Z",
     "iopub.status.busy": "2024-09-07T13:23:55.068693Z",
     "iopub.status.idle": "2024-09-07T13:23:55.096453Z",
     "shell.execute_reply": "2024-09-07T13:23:55.095071Z"
    },
    "papermill": {
     "duration": 0.087005,
     "end_time": "2024-09-07T13:23:55.099233",
     "exception": false,
     "start_time": "2024-09-07T13:23:55.012228",
     "status": "completed"
    },
    "tags": []
   },
   "outputs": [
    {
     "data": {
      "text/html": [
       "<div>\n",
       "<style scoped>\n",
       "    .dataframe tbody tr th:only-of-type {\n",
       "        vertical-align: middle;\n",
       "    }\n",
       "\n",
       "    .dataframe tbody tr th {\n",
       "        vertical-align: top;\n",
       "    }\n",
       "\n",
       "    .dataframe thead th {\n",
       "        text-align: right;\n",
       "    }\n",
       "</style>\n",
       "<table border=\"1\" class=\"dataframe\">\n",
       "  <thead>\n",
       "    <tr style=\"text-align: right;\">\n",
       "      <th></th>\n",
       "      <th>Airline</th>\n",
       "      <th>Date_of_Journey</th>\n",
       "      <th>Source</th>\n",
       "      <th>Destination</th>\n",
       "      <th>Route</th>\n",
       "      <th>Dep_Time</th>\n",
       "      <th>Arrival_Time</th>\n",
       "      <th>Duration</th>\n",
       "      <th>Total_Stops</th>\n",
       "      <th>Additional_Info</th>\n",
       "      <th>...</th>\n",
       "      <th>FlightLength</th>\n",
       "      <th>PriceRange</th>\n",
       "      <th>AirLineEnc</th>\n",
       "      <th>SourceEnc</th>\n",
       "      <th>DestinationEnc</th>\n",
       "      <th>AdditionalInfoEnc</th>\n",
       "      <th>MealIncludedEnc</th>\n",
       "      <th>DepDayEnc</th>\n",
       "      <th>ArrivDayEnc</th>\n",
       "      <th>FlightLengthEnc</th>\n",
       "    </tr>\n",
       "  </thead>\n",
       "  <tbody>\n",
       "    <tr>\n",
       "      <th>0</th>\n",
       "      <td>Air India</td>\n",
       "      <td>1/05/2019</td>\n",
       "      <td>Kolkata</td>\n",
       "      <td>Banglore</td>\n",
       "      <td>CCU ? IXR ? BBI ? BLR</td>\n",
       "      <td>05:50</td>\n",
       "      <td>13:15</td>\n",
       "      <td>7h 25m</td>\n",
       "      <td>2 stops</td>\n",
       "      <td>No info</td>\n",
       "      <td>...</td>\n",
       "      <td>Medium</td>\n",
       "      <td>Medium</td>\n",
       "      <td>1</td>\n",
       "      <td>3</td>\n",
       "      <td>0</td>\n",
       "      <td>8</td>\n",
       "      <td>1</td>\n",
       "      <td>0</td>\n",
       "      <td>4</td>\n",
       "      <td>1</td>\n",
       "    </tr>\n",
       "    <tr>\n",
       "      <th>1</th>\n",
       "      <td>Jet Airways</td>\n",
       "      <td>9/06/2019</td>\n",
       "      <td>Delhi</td>\n",
       "      <td>Cochin</td>\n",
       "      <td>DEL ? LKO ? BOM ? COK</td>\n",
       "      <td>09:25</td>\n",
       "      <td>04:25 10 Jun</td>\n",
       "      <td>19h</td>\n",
       "      <td>2 stops</td>\n",
       "      <td>No info</td>\n",
       "      <td>...</td>\n",
       "      <td>Long</td>\n",
       "      <td>Expensive</td>\n",
       "      <td>4</td>\n",
       "      <td>2</td>\n",
       "      <td>1</td>\n",
       "      <td>8</td>\n",
       "      <td>1</td>\n",
       "      <td>2</td>\n",
       "      <td>0</td>\n",
       "      <td>0</td>\n",
       "    </tr>\n",
       "    <tr>\n",
       "      <th>2</th>\n",
       "      <td>IndiGo</td>\n",
       "      <td>12/05/2019</td>\n",
       "      <td>Kolkata</td>\n",
       "      <td>Banglore</td>\n",
       "      <td>CCU ? NAG ? BLR</td>\n",
       "      <td>18:05</td>\n",
       "      <td>23:30</td>\n",
       "      <td>5h 25m</td>\n",
       "      <td>1 stop</td>\n",
       "      <td>No info</td>\n",
       "      <td>...</td>\n",
       "      <td>Medium</td>\n",
       "      <td>Medium</td>\n",
       "      <td>3</td>\n",
       "      <td>3</td>\n",
       "      <td>0</td>\n",
       "      <td>8</td>\n",
       "      <td>1</td>\n",
       "      <td>1</td>\n",
       "      <td>3</td>\n",
       "      <td>1</td>\n",
       "    </tr>\n",
       "    <tr>\n",
       "      <th>3</th>\n",
       "      <td>IndiGo</td>\n",
       "      <td>01/03/2019</td>\n",
       "      <td>Banglore</td>\n",
       "      <td>New Delhi</td>\n",
       "      <td>BLR ? NAG ? DEL</td>\n",
       "      <td>16:50</td>\n",
       "      <td>21:35</td>\n",
       "      <td>4h 45m</td>\n",
       "      <td>1 stop</td>\n",
       "      <td>No info</td>\n",
       "      <td>...</td>\n",
       "      <td>Medium</td>\n",
       "      <td>Expensive</td>\n",
       "      <td>3</td>\n",
       "      <td>0</td>\n",
       "      <td>5</td>\n",
       "      <td>8</td>\n",
       "      <td>1</td>\n",
       "      <td>1</td>\n",
       "      <td>3</td>\n",
       "      <td>1</td>\n",
       "    </tr>\n",
       "    <tr>\n",
       "      <th>4</th>\n",
       "      <td>SpiceJet</td>\n",
       "      <td>24/06/2019</td>\n",
       "      <td>Kolkata</td>\n",
       "      <td>Banglore</td>\n",
       "      <td>CCU ? BLR</td>\n",
       "      <td>09:00</td>\n",
       "      <td>11:25</td>\n",
       "      <td>2h 25m</td>\n",
       "      <td>non-stop</td>\n",
       "      <td>No info</td>\n",
       "      <td>...</td>\n",
       "      <td>Short</td>\n",
       "      <td>Cheap</td>\n",
       "      <td>8</td>\n",
       "      <td>3</td>\n",
       "      <td>0</td>\n",
       "      <td>8</td>\n",
       "      <td>1</td>\n",
       "      <td>2</td>\n",
       "      <td>2</td>\n",
       "      <td>2</td>\n",
       "    </tr>\n",
       "  </tbody>\n",
       "</table>\n",
       "<p>5 rows × 32 columns</p>\n",
       "</div>"
      ],
      "text/plain": [
       "       Airline Date_of_Journey    Source Destination                  Route  \\\n",
       "0    Air India       1/05/2019   Kolkata    Banglore  CCU ? IXR ? BBI ? BLR   \n",
       "1  Jet Airways       9/06/2019     Delhi      Cochin  DEL ? LKO ? BOM ? COK   \n",
       "2       IndiGo      12/05/2019   Kolkata    Banglore        CCU ? NAG ? BLR   \n",
       "3       IndiGo      01/03/2019  Banglore   New Delhi        BLR ? NAG ? DEL   \n",
       "4     SpiceJet      24/06/2019   Kolkata    Banglore              CCU ? BLR   \n",
       "\n",
       "  Dep_Time  Arrival_Time Duration Total_Stops Additional_Info  ...  \\\n",
       "0    05:50         13:15   7h 25m     2 stops         No info  ...   \n",
       "1    09:25  04:25 10 Jun      19h     2 stops         No info  ...   \n",
       "2    18:05         23:30   5h 25m      1 stop         No info  ...   \n",
       "3    16:50         21:35   4h 45m      1 stop         No info  ...   \n",
       "4    09:00         11:25   2h 25m    non-stop         No info  ...   \n",
       "\n",
       "   FlightLength  PriceRange  AirLineEnc SourceEnc DestinationEnc  \\\n",
       "0        Medium      Medium           1         3              0   \n",
       "1          Long   Expensive           4         2              1   \n",
       "2        Medium      Medium           3         3              0   \n",
       "3        Medium   Expensive           3         0              5   \n",
       "4         Short       Cheap           8         3              0   \n",
       "\n",
       "  AdditionalInfoEnc  MealIncludedEnc  DepDayEnc  ArrivDayEnc  FlightLengthEnc  \n",
       "0                 8                1          0            4                1  \n",
       "1                 8                1          2            0                0  \n",
       "2                 8                1          1            3                1  \n",
       "3                 8                1          1            3                1  \n",
       "4                 8                1          2            2                2  \n",
       "\n",
       "[5 rows x 32 columns]"
      ]
     },
     "execution_count": 85,
     "metadata": {},
     "output_type": "execute_result"
    }
   ],
   "source": [
    "ColumnsToInt = ['Day_of_Journey','Month_of_Journey','DurationInMinutes',]\n",
    "\n",
    "for col in ColumnsToInt : \n",
    "    data[col] = data[col].astype(int)\n",
    "data.head()    "
   ]
  },
  {
   "cell_type": "markdown",
   "id": "d6e6356e",
   "metadata": {
    "papermill": {
     "duration": 0.055316,
     "end_time": "2024-09-07T13:23:55.210662",
     "exception": false,
     "start_time": "2024-09-07T13:23:55.155346",
     "status": "completed"
    },
    "tags": []
   },
   "source": [
    "# Splitting out data for machine learning algorithms"
   ]
  },
  {
   "cell_type": "code",
   "execution_count": 86,
   "id": "def8b245",
   "metadata": {
    "execution": {
     "iopub.execute_input": "2024-09-07T13:23:55.326035Z",
     "iopub.status.busy": "2024-09-07T13:23:55.324909Z",
     "iopub.status.idle": "2024-09-07T13:23:55.333669Z",
     "shell.execute_reply": "2024-09-07T13:23:55.332464Z"
    },
    "papermill": {
     "duration": 0.070185,
     "end_time": "2024-09-07T13:23:55.336323",
     "exception": false,
     "start_time": "2024-09-07T13:23:55.266138",
     "status": "completed"
    },
    "tags": []
   },
   "outputs": [],
   "source": [
    "X = data[['Day_of_Journey', 'Month_of_Journey','DurationInMinutes', 'AirLineEnc', 'SourceEnc',\n",
    "       'DestinationEnc', 'AdditionalInfoEnc', 'MealIncludedEnc', 'DepDayEnc',\n",
    "       'ArrivDayEnc', 'FlightLengthEnc']]\n",
    "\n",
    "y = data['Price']"
   ]
  },
  {
   "cell_type": "code",
   "execution_count": 87,
   "id": "4ab0ade2",
   "metadata": {
    "execution": {
     "iopub.execute_input": "2024-09-07T13:23:55.449881Z",
     "iopub.status.busy": "2024-09-07T13:23:55.449375Z",
     "iopub.status.idle": "2024-09-07T13:23:55.464886Z",
     "shell.execute_reply": "2024-09-07T13:23:55.463720Z"
    },
    "papermill": {
     "duration": 0.075339,
     "end_time": "2024-09-07T13:23:55.467609",
     "exception": false,
     "start_time": "2024-09-07T13:23:55.392270",
     "status": "completed"
    },
    "tags": []
   },
   "outputs": [
    {
     "data": {
      "text/plain": [
       "((7905, 11), (2635, 11), (7905,), (2635,))"
      ]
     },
     "execution_count": 87,
     "metadata": {},
     "output_type": "execute_result"
    }
   ],
   "source": [
    "X_train,X_test, y_train,y_test = train_test_split(X,y,test_size = 0.25,shuffle = True , random_state = 44)\n",
    "\n",
    "X_train.shape,X_test.shape,y_train.shape,y_test.shape"
   ]
  },
  {
   "cell_type": "markdown",
   "id": "1b8df29b",
   "metadata": {
    "papermill": {
     "duration": 0.056135,
     "end_time": "2024-09-07T13:23:55.579070",
     "exception": false,
     "start_time": "2024-09-07T13:23:55.522935",
     "status": "completed"
    },
    "tags": []
   },
   "source": [
    "# Building Machine learning Models for Regression Problem"
   ]
  },
  {
   "cell_type": "code",
   "execution_count": 88,
   "id": "a5b8e7d3",
   "metadata": {
    "execution": {
     "iopub.execute_input": "2024-09-07T13:23:55.693149Z",
     "iopub.status.busy": "2024-09-07T13:23:55.692648Z",
     "iopub.status.idle": "2024-09-07T13:23:55.702560Z",
     "shell.execute_reply": "2024-09-07T13:23:55.701329Z"
    },
    "papermill": {
     "duration": 0.069243,
     "end_time": "2024-09-07T13:23:55.704852",
     "exception": false,
     "start_time": "2024-09-07T13:23:55.635609",
     "status": "completed"
    },
    "tags": []
   },
   "outputs": [],
   "source": [
    "LinearRegressionModel = LinearRegression(fit_intercept=True,copy_X=True,n_jobs=-1)\n",
    "SGDRegressionModel = SGDRegressor(alpha=0.1,random_state=33,penalty='l2',loss = 'huber')\n",
    "LassoRegressionModel = Lasso(alpha=1.0,random_state=33)\n",
    "RidgeRegressionModel = Ridge(alpha=1.0,random_state=33)\n",
    "RandomForestRegressorModel = RandomForestRegressor(n_estimators=1000,max_depth=8, random_state=33)\n",
    "GBRModel = GradientBoostingRegressor(n_estimators=500,max_depth=7,learning_rate = 1.5 ,random_state=33)\n",
    "SVRModel = SVR(C = 1.0 ,epsilon=0.1,kernel = 'rbf') \n",
    "DecisionTreeRegressorModel = DecisionTreeRegressor( max_depth=3,random_state=33)\n",
    "KNeighborsRegressorModel = KNeighborsRegressor(n_neighbors = 5, weights='uniform',algorithm = 'auto')    \n",
    "\n",
    "\n",
    "Models = [LinearRegressionModel,SGDRegressionModel,LassoRegressionModel,RidgeRegressionModel,RandomForestRegressorModel,\n",
    "          GBRModel,SVRModel,DecisionTreeRegressorModel,KNeighborsRegressorModel]\n"
   ]
  },
  {
   "cell_type": "code",
   "execution_count": 89,
   "id": "d7c9a1fe",
   "metadata": {
    "execution": {
     "iopub.execute_input": "2024-09-07T13:23:55.819119Z",
     "iopub.status.busy": "2024-09-07T13:23:55.818595Z",
     "iopub.status.idle": "2024-09-07T13:24:23.642289Z",
     "shell.execute_reply": "2024-09-07T13:24:23.640530Z"
    },
    "papermill": {
     "duration": 27.885089,
     "end_time": "2024-09-07T13:24:23.645520",
     "exception": false,
     "start_time": "2024-09-07T13:23:55.760431",
     "status": "completed"
    },
    "tags": []
   },
   "outputs": [
    {
     "name": "stdout",
     "output_type": "stream",
     "text": [
      "for Model LinearRegression\n",
      "Train Score is : 0.41298615962434093\n",
      "Test Score is : 0.4436061520236131\n",
      "MAE value is  : 2428.5539340254104\n",
      "MSE value is  : 10367440.372711973\n",
      "MdSE value is  : 1980.3871456467132\n",
      "=================================================\n",
      "for Model SGDRegressor\n",
      "Train Score is : -0.386292446515603\n",
      "Test Score is : -0.42001422064874716\n",
      "MAE value is  : 4071.4419474054052\n",
      "MSE value is  : 26459517.50639008\n",
      "MdSE value is  : 3134.943585939798\n",
      "=================================================\n",
      "for Model Lasso\n",
      "Train Score is : 0.4129813960449725\n",
      "Test Score is : 0.4436791636322268\n",
      "MAE value is  : 2428.519297443844\n",
      "MSE value is  : 10366079.92722615\n",
      "MdSE value is  : 1983.2468729283719\n",
      "=================================================\n",
      "for Model Ridge\n",
      "Train Score is : 0.41298539019230807\n",
      "Test Score is : 0.4436312452249447\n",
      "MAE value is  : 2428.6019074863857\n",
      "MSE value is  : 10366972.804155074\n",
      "MdSE value is  : 1981.6947975699004\n",
      "=================================================\n",
      "for Model RandomForestRegressor\n",
      "Train Score is : 0.8715000405127287\n",
      "Test Score is : 0.819495600929469\n",
      "MAE value is  : 1157.491308539386\n",
      "MSE value is  : 3363388.364522959\n",
      "MdSE value is  : 714.182477784112\n",
      "=================================================\n",
      "for Model GradientBoostingRegressor\n",
      "Train Score is : 0.994239382056921\n",
      "Test Score is : 0.7121764329708067\n",
      "MAE value is  : 1334.6674765169653\n",
      "MSE value is  : 5363096.087221778\n",
      "MdSE value is  : 765.6824080465431\n",
      "=================================================\n",
      "for Model SVR\n",
      "Train Score is : 0.14828280044113296\n",
      "Test Score is : 0.19461574010852511\n",
      "MAE value is  : 2979.2158931712393\n",
      "MSE value is  : 15006947.54608428\n",
      "MdSE value is  : 2553.316121261656\n",
      "=================================================\n",
      "for Model DecisionTreeRegressor\n",
      "Train Score is : 0.5309901746035952\n",
      "Test Score is : 0.5639896501470483\n",
      "MAE value is  : 1926.240323803318\n",
      "MSE value is  : 8124301.374693855\n",
      "MdSE value is  : 1253.4754098360654\n",
      "=================================================\n",
      "for Model KNeighborsRegressor\n",
      "Train Score is : 0.7199752849348533\n",
      "Test Score is : 0.5871589923144465\n",
      "MAE value is  : 1822.1220493358635\n",
      "MSE value is  : 7692580.617411765\n",
      "MdSE value is  : 1273.6\n",
      "=================================================\n"
     ]
    }
   ],
   "source": [
    "for Model in Models : \n",
    "    print(f'for Model {str(Model).split(\"(\")[0]}')\n",
    "    Model.fit(X_train, y_train)\n",
    "    print(f'Train Score is : {Model.score(X_train, y_train)}')\n",
    "    print(f'Test Score is : {Model.score(X_test, y_test)}')\n",
    "    y_pred = Model.predict(X_test)\n",
    "    print(f'MAE value is  : {mean_absolute_error(y_test, y_pred)}')\n",
    "    print(f'MSE value is  : {mean_squared_error(y_test, y_pred)}')\n",
    "    print(f'MdSE value is  : {median_absolute_error(y_test, y_pred)}')\n",
    "    print('=================================================')\n"
   ]
  },
  {
   "cell_type": "code",
   "execution_count": null,
   "id": "a91b6c59",
   "metadata": {
    "papermill": {
     "duration": 0.058204,
     "end_time": "2024-09-07T13:24:23.760330",
     "exception": false,
     "start_time": "2024-09-07T13:24:23.702126",
     "status": "completed"
    },
    "tags": []
   },
   "outputs": [],
   "source": []
  }
 ],
 "metadata": {
  "kaggle": {
   "accelerator": "none",
   "dataSources": [
    {
     "datasetId": 3931573,
     "sourceId": 6960999,
     "sourceType": "datasetVersion"
    }
   ],
   "dockerImageVersionId": 30761,
   "isGpuEnabled": false,
   "isInternetEnabled": true,
   "language": "python",
   "sourceType": "notebook"
  },
  "kernelspec": {
   "display_name": "Python 3",
   "language": "python",
   "name": "python3"
  },
  "language_info": {
   "codemirror_mode": {
    "name": "ipython",
    "version": 3
   },
   "file_extension": ".py",
   "mimetype": "text/x-python",
   "name": "python",
   "nbconvert_exporter": "python",
   "pygments_lexer": "ipython3",
   "version": "3.10.14"
  },
  "papermill": {
   "default_parameters": {},
   "duration": 54.012474,
   "end_time": "2024-09-07T13:24:24.540097",
   "environment_variables": {},
   "exception": null,
   "input_path": "__notebook__.ipynb",
   "output_path": "__notebook__.ipynb",
   "parameters": {},
   "start_time": "2024-09-07T13:23:30.527623",
   "version": "2.6.0"
  }
 },
 "nbformat": 4,
 "nbformat_minor": 5
}
