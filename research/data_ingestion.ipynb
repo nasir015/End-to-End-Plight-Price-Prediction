{
 "cells": [
  {
   "cell_type": "code",
   "execution_count": 2,
   "metadata": {},
   "outputs": [],
   "source": [
    "import os \n",
    "os.chdir('../')"
   ]
  },
  {
   "cell_type": "code",
   "execution_count": 3,
   "metadata": {},
   "outputs": [
    {
     "data": {
      "text/plain": [
       "'e:\\\\Neoron\\\\Programming_Practice\\\\Machine_Learning_Project\\\\Flight price prediction'"
      ]
     },
     "execution_count": 3,
     "metadata": {},
     "output_type": "execute_result"
    }
   ],
   "source": [
    "%pwd"
   ]
  },
  {
   "cell_type": "code",
   "execution_count": 7,
   "metadata": {},
   "outputs": [],
   "source": [
    "import sqlite3\n",
    "import csv\n",
    "import pandas as pd\n",
    "import os\n",
    "from src.FlightPricePrediction.utils.custom_logging import logger\n",
    "from src.FlightPricePrediction.utils.custom_exception import CustomException"
   ]
  },
  {
   "cell_type": "code",
   "execution_count": 12,
   "metadata": {},
   "outputs": [],
   "source": [
    "class DataIngestion:\n",
    "    \n",
    "    def __init__(self):\n",
    "        self.logger = logger\n",
    "        self.custom_exception = CustomException\n",
    "        self.db_name = 'artifact\\dboperation\\FlightPricePrediction.db'\n",
    "        self.table_name = 'FlightPricePrediction'\n",
    "        os.makedirs('artifact\\dataingestion', exist_ok=True)\n",
    "        self.output_csv_path = 'artifact\\dataingestion\\data_from_db.csv'\n",
    "\n",
    "    def export_data_to_csv(self):\n",
    "        \"\"\"\n",
    "        Export all data from an SQLite database table to a CSV file.\n",
    "        \n",
    "        Parameters:\n",
    "        - db_name: The SQLite database file name.\n",
    "        - table_name: The table name to export data from.\n",
    "        - output_csv_path: Path to save the CSV file.\n",
    "        \"\"\"\n",
    "        # Stage 1: Connect to the SQLite database\n",
    "        conn = sqlite3.connect(self.db_name)\n",
    "        cursor = conn.cursor()\n",
    "\n",
    "        # Stage 2: Fetch all column headers (field names) from the table\n",
    "        cursor.execute(f\"PRAGMA table_info({self.table_name});\")\n",
    "        headers = [column[1] for column in cursor.fetchall()]  # Get column names from the PRAGMA table_info\n",
    "        \n",
    "        # Stage 3: Fetch all rows of data from the table\n",
    "        cursor.execute(f\"SELECT * FROM {self.table_name};\")\n",
    "        rows = cursor.fetchall()\n",
    "\n",
    "        # Stage 4: Write data to CSV\n",
    "        with open(self.output_csv_path, 'w', newline='', encoding='utf-8') as csv_file:\n",
    "            writer = csv.writer(csv_file)\n",
    "            writer.writerow(headers)  # Write headers as the first row\n",
    "            writer.writerows(rows)    # Write data rows\n",
    "\n",
    "        # Close the connection\n",
    "        conn.close()\n",
    "\n",
    "        # print the data\n",
    "        df = pd.read_csv(self.output_csv_path)\n",
    "\n",
    "        return df\n",
    "\n",
    "if __name__ == '__main__':\n",
    "    data_ingestion = DataIngestion()\n",
    "    data_ingestion.export_data_to_csv()\n",
    "    "
   ]
  },
  {
   "cell_type": "code",
   "execution_count": null,
   "metadata": {},
   "outputs": [
    {
     "name": "stdout",
     "output_type": "stream",
     "text": [
      "                 Airline Date_of_Journey    Source Destination  \\\n",
      "0                 IndiGo      24/03/2019  Banglore   New Delhi   \n",
      "1              Air India       1/05/2019   Kolkata    Banglore   \n",
      "2            Jet Airways       9/06/2019     Delhi      Cochin   \n",
      "3                 IndiGo      12/05/2019   Kolkata    Banglore   \n",
      "4                 IndiGo      01/03/2019  Banglore   New Delhi   \n",
      "...                  ...             ...       ...         ...   \n",
      "66765          Air India       6/06/2019   Kolkata    Banglore   \n",
      "66766             IndiGo      27/03/2019   Kolkata    Banglore   \n",
      "66767        Jet Airways       6/03/2019     Delhi      Cochin   \n",
      "66768          Air India       6/03/2019     Delhi      Cochin   \n",
      "66769  Multiple carriers      15/06/2019     Delhi      Cochin   \n",
      "\n",
      "                       Route Dep_Time  Arrival_Time Duration Total_Stops  \\\n",
      "0                  BLR ? DEL    22:20  01:10 22 Mar   2h 50m    non-stop   \n",
      "1      CCU ? IXR ? BBI ? BLR    05:50         13:15   7h 25m     2 stops   \n",
      "2      DEL ? LKO ? BOM ? COK    09:25  04:25 10 Jun      19h     2 stops   \n",
      "3            CCU ? NAG ? BLR    18:05         23:30   5h 25m      1 stop   \n",
      "4            BLR ? NAG ? DEL    16:50         21:35   4h 45m      1 stop   \n",
      "...                      ...      ...           ...      ...         ...   \n",
      "66765        CCU ? DEL ? BLR    20:30  20:25 07 Jun  23h 55m      1 stop   \n",
      "66766              CCU ? BLR    14:20         16:55   2h 35m    non-stop   \n",
      "66767        DEL ? BOM ? COK    21:50  04:25 07 Mar   6h 35m      1 stop   \n",
      "66768        DEL ? BOM ? COK    04:00         19:15  15h 15m      1 stop   \n",
      "66769        DEL ? BOM ? COK    04:55         19:15  14h 20m      1 stop   \n",
      "\n",
      "      Additional_Info    Price  \n",
      "0             No info   3897.0  \n",
      "1             No info   7662.0  \n",
      "2             No info  13882.0  \n",
      "3             No info   6218.0  \n",
      "4             No info  13302.0  \n",
      "...               ...      ...  \n",
      "66765         No info      NaN  \n",
      "66766         No info      NaN  \n",
      "66767         No info      NaN  \n",
      "66768         No info      NaN  \n",
      "66769         No info      NaN  \n",
      "\n",
      "[66770 rows x 11 columns]\n"
     ]
    }
   ],
   "source": [
    "import sqlite3\n",
    "import os\n",
    "import csv\n",
    "import pandas as pd\n",
    "\n",
    "class DataIngestion:\n",
    "    \n",
    "    def __init__(self):\n",
    "        self.db_name = 'artifact/dboperation/FlightPricePrediction.db'\n",
    "        self.table_name = 'FlightPricePrediction'\n",
    "        os.makedirs('artifact/dataingestion', exist_ok=True)\n",
    "        self.output_csv_path = 'artifact/dataingestion/data_from_db.csv'\n",
    "\n",
    "    def export_data_to_csv(self):\n",
    "        \"\"\"\n",
    "        Export all data from an SQLite database table to a CSV file.\n",
    "        \n",
    "        Parameters:\n",
    "        - db_name: The SQLite database file name.\n",
    "        - table_name: The table name to export data from.\n",
    "        - output_csv_path: Path to save the CSV file.\n",
    "        \"\"\"\n",
    "        # Stage 1: Connect to the SQLite database\n",
    "        conn = sqlite3.connect(self.db_name)\n",
    "        cursor = conn.cursor()\n",
    "\n",
    "        # Stage 2: Fetch all column headers (field names) from the table\n",
    "        cursor.execute(f\"PRAGMA table_info({self.table_name});\")\n",
    "        headers = [column[1] for column in cursor.fetchall()]  # Get column names from the PRAGMA table_info\n",
    "        \n",
    "        # Stage 3: Fetch all rows of data from the table\n",
    "        cursor.execute(f\"SELECT * FROM {self.table_name};\")\n",
    "        rows = cursor.fetchall()\n",
    "\n",
    "        # Stage 4: Write data to CSV\n",
    "        with open(self.output_csv_path, 'w', newline='', encoding='utf-8') as csv_file:\n",
    "            writer = csv.writer(csv_file)\n",
    "            writer.writerow(headers)  # Write headers as the first row\n",
    "            writer.writerows(rows)    # Write data rows\n",
    "\n",
    "        # Close the connection\n",
    "        conn.close()\n",
    "\n",
    "        # print the data\n",
    "        df = pd.read_csv(self.output_csv_path)\n",
    "\n",
    "        return df\n",
    "\n",
    "if __name__ == '__main__':\n",
    "    data_ingestion = DataIngestion()\n",
    "    data_ingestion.export_data_to_csv()\n"
   ]
  }
 ],
 "metadata": {
  "kernelspec": {
   "display_name": "Python 3",
   "language": "python",
   "name": "python3"
  },
  "language_info": {
   "codemirror_mode": {
    "name": "ipython",
    "version": 3
   },
   "file_extension": ".py",
   "mimetype": "text/x-python",
   "name": "python",
   "nbconvert_exporter": "python",
   "pygments_lexer": "ipython3",
   "version": "3.10.0"
  }
 },
 "nbformat": 4,
 "nbformat_minor": 2
}
