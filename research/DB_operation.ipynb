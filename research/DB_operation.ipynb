{
 "cells": [
  {
   "cell_type": "code",
   "execution_count": 2,
   "metadata": {},
   "outputs": [],
   "source": [
    "import os\n",
    "\n",
    "os.chdir('../')"
   ]
  },
  {
   "cell_type": "code",
   "execution_count": 3,
   "metadata": {},
   "outputs": [
    {
     "data": {
      "text/plain": [
       "'e:\\\\Neoron\\\\Programming_Practice\\\\Machine_Learning_Project\\\\Flight price prediction'"
      ]
     },
     "execution_count": 3,
     "metadata": {},
     "output_type": "execute_result"
    }
   ],
   "source": [
    "%pwd"
   ]
  },
  {
   "cell_type": "code",
   "execution_count": 4,
   "metadata": {},
   "outputs": [],
   "source": [
    "from src.FlightPricePrediction.utils.custom_logging import logger\n",
    "from src.FlightPricePrediction.utils.custom_exception import CustomException\n",
    "import sqlite3\n",
    "import csv\n",
    "import os\n",
    "import logging"
   ]
  },
  {
   "cell_type": "code",
   "execution_count": 5,
   "metadata": {},
   "outputs": [],
   "source": [
    "log_path = 'log\\logging_info.log'"
   ]
  },
  {
   "cell_type": "code",
   "execution_count": 6,
   "metadata": {},
   "outputs": [],
   "source": [
    "from src.FlightPricePrediction.utils.custom_logging import logger\n",
    "from src.FlightPricePrediction.utils.custom_exception import CustomException"
   ]
  },
  {
   "cell_type": "code",
   "execution_count": 7,
   "metadata": {},
   "outputs": [],
   "source": [
    "class dBOperation:\n",
    "\n",
    "\n",
    "    def __init__(self):\n",
    "        self.data_path = 'artifact\\data\\data.csv'\n",
    "        self.db_name = 'artifact\\dboperation\\FlightPricePrediction.db'\n",
    "        self.table_name = 'FlightPricePrediction'\n",
    "        self.logger = logger\n",
    "        self.log_path = 'log\\logging_info.log'\n",
    "        self.save_db_path = 'artifact\\dboperation'\n",
    "        os.makedirs('artifact\\dboperation', exist_ok=True)\n",
    "\n",
    "    def infer_column_type(self,value):\n",
    "        \"\"\"\n",
    "        Infers the type of a column based on its value:\n",
    "        - TEXT if it's a string\n",
    "        - INTEGER if it's an integer\n",
    "        - REAL if it's a floating-point number\n",
    "        \"\"\"\n",
    "        if value.isdigit():  # Checks if value is an integer\n",
    "            return 'INTEGER'\n",
    "        try:\n",
    "            float(value)  # Try converting to float\n",
    "            return 'REAL'\n",
    "        except ValueError:\n",
    "            return 'TEXT'\n",
    "\n",
    "    def create_table_and_upload_data(self):\n",
    "        # Stage 1: Connect to the SQLite database\n",
    "        logger(self.log_path, logging.INFO, 'Connecting to the SQLite database.')\n",
    "\n",
    "        conn = sqlite3.connect(self.db_name)\n",
    "        cursor = conn.cursor()\n",
    "\n",
    "        # Stage 2: Create the table based on the CSV headers and inferred column types\n",
    "        with open(self.data_path, 'r') as csv_file:\n",
    "            reader = csv.reader(csv_file)\n",
    "            headers = next(reader)  # Read the first row as the column headers\n",
    "\n",
    "            # Initialize a list to store the inferred column types\n",
    "            column_types = []\n",
    "\n",
    "            # Read the first few rows to infer types for each column\n",
    "            for i, row in enumerate(reader):\n",
    "                if i > 5:  # Use first 6 rows for type inference\n",
    "                    break\n",
    "                for j, value in enumerate(row):\n",
    "                    inferred_type = self.infer_column_type(value)\n",
    "                    if len(column_types) <= j:\n",
    "                        column_types.append(inferred_type)\n",
    "                    else:\n",
    "                        # Ensure the column type is the most specific possible\n",
    "                        existing_type = column_types[j]\n",
    "                        if existing_type != inferred_type and existing_type != 'TEXT' and inferred_type != 'TEXT':\n",
    "                            column_types[j] = 'REAL'  # Prioritize REAL > INTEGER > TEXT\n",
    "            \n",
    "            # Create the table with the inferred column types\n",
    "            create_table_sql = f\"CREATE TABLE IF NOT EXISTS {self.table_name} (\"\n",
    "            for i, header in enumerate(headers):\n",
    "                create_table_sql += f\"{header} {column_types[i]}, \"\n",
    "            create_table_sql = create_table_sql.rstrip(', ') + \");\"  # Remove the trailing comma and add closing parenthesis\n",
    "\n",
    "            cursor.execute(create_table_sql)\n",
    "\n",
    "        # Stage 3: Upload data into the table\n",
    "        with open(self.data_path, 'r') as csv_file:\n",
    "            reader = csv.reader(csv_file)\n",
    "            next(reader)  # Skip the header row\n",
    "            for row in reader:\n",
    "                # Prepare SQL to insert data into the table\n",
    "                insert_sql = f\"INSERT INTO {self.table_name} ({', '.join(headers)}) VALUES ({', '.join(['?'] * len(row))});\"\n",
    "                cursor.execute(insert_sql, row)\n",
    "        # create a txt file and write db operation status\n",
    "        with open('artifact\\dboperation\\dboperation_status.txt', 'w') as file:\n",
    "            file.write('Table created and data uploaded successfully.')\n",
    "        \n",
    "        # Commit the transaction and close the connection\n",
    "        conn.commit()\n",
    "        conn.close()\n",
    "\n",
    "    "
   ]
  },
  {
   "cell_type": "code",
   "execution_count": 8,
   "metadata": {},
   "outputs": [
    {
     "name": "stderr",
     "output_type": "stream",
     "text": [
      "[2025-02-12 21:57:32] - INFO - Connecting to the SQLite database.\n"
     ]
    }
   ],
   "source": [
    "if __name__ == '__main__':\n",
    "    \n",
    "    db = dBOperation()\n",
    "    db.create_table_and_upload_data()\n"
   ]
  }
 ],
 "metadata": {
  "kernelspec": {
   "display_name": "Python 3",
   "language": "python",
   "name": "python3"
  },
  "language_info": {
   "codemirror_mode": {
    "name": "ipython",
    "version": 3
   },
   "file_extension": ".py",
   "mimetype": "text/x-python",
   "name": "python",
   "nbconvert_exporter": "python",
   "pygments_lexer": "ipython3",
   "version": "3.10.0"
  }
 },
 "nbformat": 4,
 "nbformat_minor": 2
}
